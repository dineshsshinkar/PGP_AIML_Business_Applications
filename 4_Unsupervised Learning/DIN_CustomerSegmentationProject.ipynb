{
 "cells": [
  {
   "cell_type": "markdown",
   "metadata": {
    "id": "Sp2ZEqTveJKC"
   },
   "source": [
    "# **`AllLife Credit Card Customer Segmentation`**\n",
    "\n",
    "### **`Background: `**\n",
    "AllLife Bank wants to focus on its credit card customer base in the next financial year. They have been advised by their marketing research team, that the penetration in the market can be improved. Based on this input, the Marketing team proposes to run personalised campaigns to target new customers as well as upsell to existing customers. Another insight from the market research was that the customers perceive the support services of the back poorly. Based on this, the Operations team wants to upgrade the service delivery model, to ensure that customers queries are resolved faster. Head of Marketing and Head of Delivery both decide to reach out to the Data Science team for help.\n",
    "\n",
    "### **`Objective: `**\n",
    "\n",
    "To identify different segments in the existing customer based on their\n",
    "spending patterns as well as past interaction with the bank.\n",
    "Key Questions:\n",
    "1. How many different segments of customers are there?\n",
    "2. How are these segments different from each other?\n",
    "3. What are your recommendations to the bank on how to better market to and service these customers?.\n",
    "\n",
    "\n",
    "###  **`Data Description: `**\n",
    "Data is of various customers of a bank with their credit limit, the total number of credit cards the customer has, and different channels through which customer has contacted the bank for any queries, different channels include visiting the bank, online and through a call centre."
   ]
  },
  {
   "cell_type": "markdown",
   "metadata": {
    "id": "ozR1KhzoeJKH"
   },
   "source": [
    "## **`Steps To Follow:`**\n",
    "\n",
    "\n",
    "###  **`Deliverable – 1:`** \n",
    "Perform Univariate Analysis On The Data To Better Understand The Variables At Your Disposal And To Get An Idea About The No Of Clusters. Perform Eda, Create Visualizations To Explore Data. **(10 Marks)**\n",
    "\n",
    "###  **`Deliverable – 2:`**\n",
    "Properly Comment On The Codes, Provide Explanations Of The Steps Taken In The Notebook And Conclude Your Insights From The Graphs. **(5 Marks)**\n",
    "\n",
    "###  **`Deliverable – 3:`** \n",
    "Execute K-Means Clustering Use Elbow Plot And Analyse Clusters Using Boxplot **(10 Marks)**\n",
    "\n",
    "###  **`Deliverable – 4:`** \n",
    "Execute Hierarchical Clustering (With Different Linkages) With The Help Of Dendrogram And Cophenetic Coeff. Analyse Clusters Formed Using Boxplot **(15 Marks)**\n",
    "\n",
    "###  **`Deliverable – 5:`** \n",
    "Calculate Average Silhouette Score For Both Methods. **(5 Marks)**\n",
    "\n",
    "###  **`Deliverable – 6: `** \n",
    "Compare K-Means Clusters With Hierarchical Clusters. **(5 Marks)**\n",
    "\n",
    "###  **`Deliverable – 7: `**\n",
    "Analysis The Clusters Formed, Tell Us How Is One Cluster Different From Another And Answer All The Key Questions. **(10 Marks)**\n"
   ]
  },
  {
   "cell_type": "markdown",
   "metadata": {
    "id": "KYMLSkFWeJKV"
   },
   "source": [
    "# <a id = \"link101\"></a> `Index: `\n",
    "\n",
    "- <a href = #link102>**Deliverable – 1 And Deliverable – 2** </a>\n",
    "- <a href = #link104>**Deliverable – 3**</a>\n",
    "- <a href = #link105>**Deliverable – 4**</a>\n",
    "- <a href = #link106>**Deliverable – 5**</a>\n",
    "- <a href = #link107>**Deliverable – 6**</a>\n",
    "- <a href = #link108>**Deliverable – 7**</a>"
   ]
  },
  {
   "cell_type": "markdown",
   "metadata": {
    "id": "0W2sHNwLeJKV"
   },
   "source": [
    "# **`Deliverable – 1 And Deliverable – 2`** <a id = \"link102\"></a>\n",
    "\n",
    "<a href = #link101> Back to Index </a>"
   ]
  },
  {
   "cell_type": "code",
   "execution_count": 1,
   "metadata": {
    "id": "I25VM9PceJKW"
   },
   "outputs": [],
   "source": [
    "#import libraries\n",
    "import numpy as np\n",
    "import pandas as pd\n",
    "import warnings\n",
    "warnings.filterwarnings(\"ignore\")"
   ]
  },
  {
   "cell_type": "code",
   "execution_count": 2,
   "metadata": {
    "id": "oW9oAWLen78l"
   },
   "outputs": [],
   "source": [
    "import matplotlib.pyplot as plt\n",
    "import seaborn as sns\n",
    "import matplotlib.cm as cm\n",
    "%matplotlib inline "
   ]
  },
  {
   "cell_type": "code",
   "execution_count": 3,
   "metadata": {
    "id": "yRuBeB_uA_33"
   },
   "outputs": [],
   "source": [
    "from sklearn.metrics import silhouette_samples, silhouette_score\n",
    "from scipy.stats import zscore\n",
    "from sklearn.cluster import KMeans\n",
    "from scipy.spatial.distance import cdist\n",
    "from sklearn.cluster import AgglomerativeClustering \n",
    "from scipy.cluster.hierarchy import cophenet, dendrogram, linkage\n",
    "from scipy.spatial.distance import pdist  #Pairwise distribution between data points"
   ]
  },
  {
   "cell_type": "code",
   "execution_count": 4,
   "metadata": {
    "colab": {
     "base_uri": "https://localhost:8080/",
     "height": 343
    },
    "id": "BuSshaSAeJKX",
    "outputId": "f56e4c3d-ff27-44e2-baf6-e67124559853"
   },
   "outputs": [
    {
     "data": {
      "text/html": [
       "<div>\n",
       "<style scoped>\n",
       "    .dataframe tbody tr th:only-of-type {\n",
       "        vertical-align: middle;\n",
       "    }\n",
       "\n",
       "    .dataframe tbody tr th {\n",
       "        vertical-align: top;\n",
       "    }\n",
       "\n",
       "    .dataframe thead th {\n",
       "        text-align: right;\n",
       "    }\n",
       "</style>\n",
       "<table border=\"1\" class=\"dataframe\">\n",
       "  <thead>\n",
       "    <tr style=\"text-align: right;\">\n",
       "      <th></th>\n",
       "      <th>Sl_No</th>\n",
       "      <th>Customer Key</th>\n",
       "      <th>Avg_Credit_Limit</th>\n",
       "      <th>Total_Credit_Cards</th>\n",
       "      <th>Total_visits_bank</th>\n",
       "      <th>Total_visits_online</th>\n",
       "      <th>Total_calls_made</th>\n",
       "    </tr>\n",
       "  </thead>\n",
       "  <tbody>\n",
       "    <tr>\n",
       "      <th>0</th>\n",
       "      <td>1</td>\n",
       "      <td>87073</td>\n",
       "      <td>100000</td>\n",
       "      <td>2</td>\n",
       "      <td>1</td>\n",
       "      <td>1</td>\n",
       "      <td>0</td>\n",
       "    </tr>\n",
       "    <tr>\n",
       "      <th>1</th>\n",
       "      <td>2</td>\n",
       "      <td>38414</td>\n",
       "      <td>50000</td>\n",
       "      <td>3</td>\n",
       "      <td>0</td>\n",
       "      <td>10</td>\n",
       "      <td>9</td>\n",
       "    </tr>\n",
       "    <tr>\n",
       "      <th>2</th>\n",
       "      <td>3</td>\n",
       "      <td>17341</td>\n",
       "      <td>50000</td>\n",
       "      <td>7</td>\n",
       "      <td>1</td>\n",
       "      <td>3</td>\n",
       "      <td>4</td>\n",
       "    </tr>\n",
       "    <tr>\n",
       "      <th>3</th>\n",
       "      <td>4</td>\n",
       "      <td>40496</td>\n",
       "      <td>30000</td>\n",
       "      <td>5</td>\n",
       "      <td>1</td>\n",
       "      <td>1</td>\n",
       "      <td>4</td>\n",
       "    </tr>\n",
       "    <tr>\n",
       "      <th>4</th>\n",
       "      <td>5</td>\n",
       "      <td>47437</td>\n",
       "      <td>100000</td>\n",
       "      <td>6</td>\n",
       "      <td>0</td>\n",
       "      <td>12</td>\n",
       "      <td>3</td>\n",
       "    </tr>\n",
       "    <tr>\n",
       "      <th>5</th>\n",
       "      <td>6</td>\n",
       "      <td>58634</td>\n",
       "      <td>20000</td>\n",
       "      <td>3</td>\n",
       "      <td>0</td>\n",
       "      <td>1</td>\n",
       "      <td>8</td>\n",
       "    </tr>\n",
       "    <tr>\n",
       "      <th>6</th>\n",
       "      <td>7</td>\n",
       "      <td>48370</td>\n",
       "      <td>100000</td>\n",
       "      <td>5</td>\n",
       "      <td>0</td>\n",
       "      <td>11</td>\n",
       "      <td>2</td>\n",
       "    </tr>\n",
       "    <tr>\n",
       "      <th>7</th>\n",
       "      <td>8</td>\n",
       "      <td>37376</td>\n",
       "      <td>15000</td>\n",
       "      <td>3</td>\n",
       "      <td>0</td>\n",
       "      <td>1</td>\n",
       "      <td>1</td>\n",
       "    </tr>\n",
       "    <tr>\n",
       "      <th>8</th>\n",
       "      <td>9</td>\n",
       "      <td>82490</td>\n",
       "      <td>5000</td>\n",
       "      <td>2</td>\n",
       "      <td>0</td>\n",
       "      <td>2</td>\n",
       "      <td>2</td>\n",
       "    </tr>\n",
       "    <tr>\n",
       "      <th>9</th>\n",
       "      <td>10</td>\n",
       "      <td>44770</td>\n",
       "      <td>3000</td>\n",
       "      <td>4</td>\n",
       "      <td>0</td>\n",
       "      <td>1</td>\n",
       "      <td>7</td>\n",
       "    </tr>\n",
       "  </tbody>\n",
       "</table>\n",
       "</div>"
      ],
      "text/plain": [
       "   Sl_No  Customer Key  Avg_Credit_Limit  Total_Credit_Cards  \\\n",
       "0      1         87073            100000                   2   \n",
       "1      2         38414             50000                   3   \n",
       "2      3         17341             50000                   7   \n",
       "3      4         40496             30000                   5   \n",
       "4      5         47437            100000                   6   \n",
       "5      6         58634             20000                   3   \n",
       "6      7         48370            100000                   5   \n",
       "7      8         37376             15000                   3   \n",
       "8      9         82490              5000                   2   \n",
       "9     10         44770              3000                   4   \n",
       "\n",
       "   Total_visits_bank  Total_visits_online  Total_calls_made  \n",
       "0                  1                    1                 0  \n",
       "1                  0                   10                 9  \n",
       "2                  1                    3                 4  \n",
       "3                  1                    1                 4  \n",
       "4                  0                   12                 3  \n",
       "5                  0                    1                 8  \n",
       "6                  0                   11                 2  \n",
       "7                  0                    1                 1  \n",
       "8                  0                    2                 2  \n",
       "9                  0                    1                 7  "
      ]
     },
     "execution_count": 4,
     "metadata": {},
     "output_type": "execute_result"
    }
   ],
   "source": [
    "#Read Data\n",
    "pdata  = pd.read_excel('Credit Card Customer Data.xlsx')\n",
    "pdata.head(10)"
   ]
  },
  {
   "cell_type": "markdown",
   "metadata": {
    "id": "IrbYPbjyeJKY"
   },
   "source": [
    "### **`Observation:`** \n",
    "No nulls observed. There are some zeros in Total_visits_bank and Total_calls_made. Check further, how many zeros are present in each of these columns and also if they can be considered as missing values.\n",
    "\n",
    "**Important Note:** \n",
    "1. *Customer Key* appears like an ID column, check its uniqueness. If all values are unique, then it will be considered as a categorical column and dropped from analysis and segmentation operations. \n",
    "2. *Sl_No* appears like record identifier. Check uniqueness and drop if necessary.\n",
    "3. Avg_Credit_Limit may dominate further processing (e.g. averages),  therefore, scaling is required before further processing."
   ]
  },
  {
   "cell_type": "code",
   "execution_count": 5,
   "metadata": {
    "colab": {
     "base_uri": "https://localhost:8080/"
    },
    "id": "7aAmDToaeJKZ",
    "outputId": "9490b23d-5400-45c6-a229-1a7427eacab4",
    "scrolled": true
   },
   "outputs": [
    {
     "name": "stdout",
     "output_type": "stream",
     "text": [
      "(660, 7)\n"
     ]
    }
   ],
   "source": [
    "#Stastical Analysis\n",
    "print(pdata.shape)"
   ]
  },
  {
   "cell_type": "markdown",
   "metadata": {
    "id": "GfsgFoyu7Sk_"
   },
   "source": [
    "*There are 660 rows and 7 columns in data.*"
   ]
  },
  {
   "cell_type": "code",
   "execution_count": 6,
   "metadata": {
    "colab": {
     "base_uri": "https://localhost:8080/"
    },
    "id": "e419Qy8qfxD2",
    "outputId": "8f2b03e9-ef36-49a6-cb7f-ea631a23b39e"
   },
   "outputs": [
    {
     "name": "stdout",
     "output_type": "stream",
     "text": [
      "<class 'pandas.core.frame.DataFrame'>\n",
      "RangeIndex: 660 entries, 0 to 659\n",
      "Data columns (total 7 columns):\n",
      " #   Column               Non-Null Count  Dtype\n",
      "---  ------               --------------  -----\n",
      " 0   Sl_No                660 non-null    int64\n",
      " 1   Customer Key         660 non-null    int64\n",
      " 2   Avg_Credit_Limit     660 non-null    int64\n",
      " 3   Total_Credit_Cards   660 non-null    int64\n",
      " 4   Total_visits_bank    660 non-null    int64\n",
      " 5   Total_visits_online  660 non-null    int64\n",
      " 6   Total_calls_made     660 non-null    int64\n",
      "dtypes: int64(7)\n",
      "memory usage: 36.2 KB\n"
     ]
    }
   ],
   "source": [
    "pdata.info()"
   ]
  },
  {
   "cell_type": "code",
   "execution_count": 7,
   "metadata": {
    "colab": {
     "base_uri": "https://localhost:8080/"
    },
    "id": "v_H6KvYTbN0H",
    "outputId": "348f1cdc-c909-459b-e822-a7ff2e9037c5"
   },
   "outputs": [
    {
     "data": {
      "text/plain": [
       "Sl_No                  660\n",
       "Customer Key           655\n",
       "Avg_Credit_Limit       110\n",
       "Total_Credit_Cards      10\n",
       "Total_visits_bank        6\n",
       "Total_visits_online     16\n",
       "Total_calls_made        11\n",
       "dtype: int64"
      ]
     },
     "execution_count": 7,
     "metadata": {},
     "output_type": "execute_result"
    }
   ],
   "source": [
    "#Step4: Find number of unique values in each column. Analyse outcome for categorical variables.\n",
    "\n",
    "pdata.nunique() # Number of unique values in a column"
   ]
  },
  {
   "cell_type": "markdown",
   "metadata": {
    "id": "_W0P4HjEeoIv"
   },
   "source": [
    "***Sl_No***: Number of rows in data and number of unique values in this column are same. It can be confirmed that *Sl_No* is the record identifier. Drop this column."
   ]
  },
  {
   "cell_type": "markdown",
   "metadata": {
    "id": "78slb5kPfAsl"
   },
   "source": [
    "***Customer Key:*** Number of rows in data and number of unique values in this column are almost the same. This column appears like a broken key, and can be dropped. However, since there are 5 duplicate records in data, it is worth checking if there are exact duplicate rows. If there are, duplicate rows can be dropped."
   ]
  },
  {
   "cell_type": "code",
   "execution_count": 8,
   "metadata": {
    "colab": {
     "base_uri": "https://localhost:8080/",
     "height": 47
    },
    "id": "eGtuAmqOdSTq",
    "outputId": "c740d4ae-13c7-41f4-f21f-4d1009debb1c"
   },
   "outputs": [
    {
     "data": {
      "text/html": [
       "<div>\n",
       "<style scoped>\n",
       "    .dataframe tbody tr th:only-of-type {\n",
       "        vertical-align: middle;\n",
       "    }\n",
       "\n",
       "    .dataframe tbody tr th {\n",
       "        vertical-align: top;\n",
       "    }\n",
       "\n",
       "    .dataframe thead th {\n",
       "        text-align: right;\n",
       "    }\n",
       "</style>\n",
       "<table border=\"1\" class=\"dataframe\">\n",
       "  <thead>\n",
       "    <tr style=\"text-align: right;\">\n",
       "      <th></th>\n",
       "      <th>Sl_No</th>\n",
       "      <th>Customer Key</th>\n",
       "      <th>Avg_Credit_Limit</th>\n",
       "      <th>Total_Credit_Cards</th>\n",
       "      <th>Total_visits_bank</th>\n",
       "      <th>Total_visits_online</th>\n",
       "      <th>Total_calls_made</th>\n",
       "    </tr>\n",
       "  </thead>\n",
       "  <tbody>\n",
       "  </tbody>\n",
       "</table>\n",
       "</div>"
      ],
      "text/plain": [
       "Empty DataFrame\n",
       "Columns: [Sl_No, Customer Key, Avg_Credit_Limit, Total_Credit_Cards, Total_visits_bank, Total_visits_online, Total_calls_made]\n",
       "Index: []"
      ]
     },
     "execution_count": 8,
     "metadata": {},
     "output_type": "execute_result"
    }
   ],
   "source": [
    "pdata1 = pdata[pdata.duplicated([\"Customer Key\",\"Avg_Credit_Limit\",\"Total_Credit_Cards\",\n",
    "                                 \"Total_visits_bank\",\"Total_visits_online\",\"Total_calls_made\"])]\n",
    "pdata1"
   ]
  },
  {
   "cell_type": "markdown",
   "metadata": {
    "id": "8JIkzBmUgGLg"
   },
   "source": [
    "No duplicate rows found. Next, drop the columns required."
   ]
  },
  {
   "cell_type": "code",
   "execution_count": 9,
   "metadata": {
    "id": "q3QOArA5gMRW"
   },
   "outputs": [],
   "source": [
    "pdata.drop([\"Customer Key\",\"Sl_No\"], axis=1,inplace=True)"
   ]
  },
  {
   "cell_type": "code",
   "execution_count": 10,
   "metadata": {
    "colab": {
     "base_uri": "https://localhost:8080/",
     "height": 195
    },
    "id": "nrDx2XQveJKa",
    "outputId": "7c32da23-9806-43fe-a67b-1f43b70bbc1a"
   },
   "outputs": [
    {
     "data": {
      "text/html": [
       "<div>\n",
       "<style scoped>\n",
       "    .dataframe tbody tr th:only-of-type {\n",
       "        vertical-align: middle;\n",
       "    }\n",
       "\n",
       "    .dataframe tbody tr th {\n",
       "        vertical-align: top;\n",
       "    }\n",
       "\n",
       "    .dataframe thead th {\n",
       "        text-align: right;\n",
       "    }\n",
       "</style>\n",
       "<table border=\"1\" class=\"dataframe\">\n",
       "  <thead>\n",
       "    <tr style=\"text-align: right;\">\n",
       "      <th></th>\n",
       "      <th>count</th>\n",
       "      <th>mean</th>\n",
       "      <th>std</th>\n",
       "      <th>min</th>\n",
       "      <th>25%</th>\n",
       "      <th>50%</th>\n",
       "      <th>75%</th>\n",
       "      <th>max</th>\n",
       "    </tr>\n",
       "  </thead>\n",
       "  <tbody>\n",
       "    <tr>\n",
       "      <th>Avg_Credit_Limit</th>\n",
       "      <td>660.0</td>\n",
       "      <td>34574.242424</td>\n",
       "      <td>37625.487804</td>\n",
       "      <td>3000.0</td>\n",
       "      <td>10000.0</td>\n",
       "      <td>18000.0</td>\n",
       "      <td>48000.0</td>\n",
       "      <td>200000.0</td>\n",
       "    </tr>\n",
       "    <tr>\n",
       "      <th>Total_Credit_Cards</th>\n",
       "      <td>660.0</td>\n",
       "      <td>4.706061</td>\n",
       "      <td>2.167835</td>\n",
       "      <td>1.0</td>\n",
       "      <td>3.0</td>\n",
       "      <td>5.0</td>\n",
       "      <td>6.0</td>\n",
       "      <td>10.0</td>\n",
       "    </tr>\n",
       "    <tr>\n",
       "      <th>Total_visits_bank</th>\n",
       "      <td>660.0</td>\n",
       "      <td>2.403030</td>\n",
       "      <td>1.631813</td>\n",
       "      <td>0.0</td>\n",
       "      <td>1.0</td>\n",
       "      <td>2.0</td>\n",
       "      <td>4.0</td>\n",
       "      <td>5.0</td>\n",
       "    </tr>\n",
       "    <tr>\n",
       "      <th>Total_visits_online</th>\n",
       "      <td>660.0</td>\n",
       "      <td>2.606061</td>\n",
       "      <td>2.935724</td>\n",
       "      <td>0.0</td>\n",
       "      <td>1.0</td>\n",
       "      <td>2.0</td>\n",
       "      <td>4.0</td>\n",
       "      <td>15.0</td>\n",
       "    </tr>\n",
       "    <tr>\n",
       "      <th>Total_calls_made</th>\n",
       "      <td>660.0</td>\n",
       "      <td>3.583333</td>\n",
       "      <td>2.865317</td>\n",
       "      <td>0.0</td>\n",
       "      <td>1.0</td>\n",
       "      <td>3.0</td>\n",
       "      <td>5.0</td>\n",
       "      <td>10.0</td>\n",
       "    </tr>\n",
       "  </tbody>\n",
       "</table>\n",
       "</div>"
      ],
      "text/plain": [
       "                     count          mean           std     min      25%  \\\n",
       "Avg_Credit_Limit     660.0  34574.242424  37625.487804  3000.0  10000.0   \n",
       "Total_Credit_Cards   660.0      4.706061      2.167835     1.0      3.0   \n",
       "Total_visits_bank    660.0      2.403030      1.631813     0.0      1.0   \n",
       "Total_visits_online  660.0      2.606061      2.935724     0.0      1.0   \n",
       "Total_calls_made     660.0      3.583333      2.865317     0.0      1.0   \n",
       "\n",
       "                         50%      75%       max  \n",
       "Avg_Credit_Limit     18000.0  48000.0  200000.0  \n",
       "Total_Credit_Cards       5.0      6.0      10.0  \n",
       "Total_visits_bank        2.0      4.0       5.0  \n",
       "Total_visits_online      2.0      4.0      15.0  \n",
       "Total_calls_made         3.0      5.0      10.0  "
      ]
     },
     "execution_count": 10,
     "metadata": {},
     "output_type": "execute_result"
    }
   ],
   "source": [
    "pdata.describe().T"
   ]
  },
  {
   "cell_type": "code",
   "execution_count": 11,
   "metadata": {
    "colab": {
     "base_uri": "https://localhost:8080/"
    },
    "id": "qLLeochvhAoR",
    "outputId": "767fc104-20ca-4f4f-b8da-8657d9b852ae"
   },
   "outputs": [
    {
     "name": "stdout",
     "output_type": "stream",
     "text": [
      "Column Names and number of nulls they contains is as follows:\n",
      "Avg_Credit_Limit       0\n",
      "Total_Credit_Cards     0\n",
      "Total_visits_bank      0\n",
      "Total_visits_online    0\n",
      "Total_calls_made       0\n",
      "dtype: int64\n"
     ]
    }
   ],
   "source": [
    "#Step1: Find out how many nulls each column has:\n",
    "\n",
    "print(\"Column Names and number of nulls they contains is as follows:\")\n",
    "print(pdata.isnull().sum()) # Number of nulls in each column of the dataframe\n",
    "#pdata.isnull().values.any() # This is another way to check if there are any null values in data set"
   ]
  },
  {
   "cell_type": "code",
   "execution_count": 12,
   "metadata": {
    "colab": {
     "base_uri": "https://localhost:8080/"
    },
    "id": "fqbRpkMehF2Y",
    "outputId": "ff07fb01-2847-42e0-b846-cf602d571772"
   },
   "outputs": [
    {
     "name": "stdout",
     "output_type": "stream",
     "text": [
      "Avg_Credit_Limit         0\n",
      "Total_Credit_Cards       0\n",
      "Total_visits_bank      100\n",
      "Total_visits_online    144\n",
      "Total_calls_made        97\n",
      "dtype: int64\n"
     ]
    }
   ],
   "source": [
    "#Step2: Find out how many zeros are present in data.\n",
    "\n",
    "print(pdata[:][pdata[:] == 0].count()) # Number of zeros in a column"
   ]
  },
  {
   "cell_type": "code",
   "execution_count": 13,
   "metadata": {
    "colab": {
     "base_uri": "https://localhost:8080/"
    },
    "id": "QTYVJHMNjf1O",
    "outputId": "23c743dd-a5e2-4b3c-af27-00eb4467530d"
   },
   "outputs": [
    {
     "name": "stdout",
     "output_type": "stream",
     "text": [
      "Avg_Credit_Limit       0\n",
      "Total_Credit_Cards     0\n",
      "Total_visits_bank      0\n",
      "Total_visits_online    0\n",
      "Total_calls_made       0\n",
      "dtype: int64\n"
     ]
    }
   ],
   "source": [
    "#Step3: Find if any negative values are present in data:\n",
    "\n",
    "print(pdata[:][pdata[:] < 0].count()) # Number of negatives in a column"
   ]
  },
  {
   "cell_type": "markdown",
   "metadata": {
    "id": "tu7xgQicumrO"
   },
   "source": [
    "### **`Observations:`** \n",
    "\n",
    "<a href = #link101> Back to Index </a>\n",
    "\n",
    "1. There are 5 (Working) columns and 660 rows in the dataset.\n",
    "2. All columns are integers.\n",
    "3. Scaling is required.\n",
    "4. No nulls and negative values observed.\n",
    "5. Some zeros were observed in columns *Total_visits_bank*, *Total_visits_online*, and *Total_calls_made*. At this point, it might be worth checking with the business if this is possible. However, it seems that these values can contain a zero since these are methods of communication.\n",
    "6. There are less number of unique values for ***Total_Credit_Cards***, ***Total_visits_bank***, ***Total_visits_online***, and ***Total_calls_made***. Perform frequency analysis for these.\n",
    "\n"
   ]
  },
  {
   "cell_type": "code",
   "execution_count": 14,
   "metadata": {
    "colab": {
     "base_uri": "https://localhost:8080/"
    },
    "id": "_SYn6K75K-ZC",
    "outputId": "e197f9e1-af93-4625-9cb1-6a3fd3ab8aee"
   },
   "outputs": [
    {
     "name": "stdout",
     "output_type": "stream",
     "text": [
      "4     0.228788\n",
      "6     0.177273\n",
      "7     0.153030\n",
      "5     0.112121\n",
      "2     0.096970\n",
      "1     0.089394\n",
      "3     0.080303\n",
      "10    0.028788\n",
      "9     0.016667\n",
      "8     0.016667\n",
      "Name: Total_Credit_Cards, dtype: float64\n",
      "\n"
     ]
    }
   ],
   "source": [
    "#Step5: Part1 Frequency analysis for categorical variables. \n",
    "#Since age column has only 14 unique values it might be useful to do some frequency analysis\n",
    "\n",
    "# value counts gives us how many times does the value \n",
    "print(pdata['Total_Credit_Cards'].value_counts(normalize=True))\n",
    "print('')"
   ]
  },
  {
   "cell_type": "code",
   "execution_count": 15,
   "metadata": {
    "colab": {
     "base_uri": "https://localhost:8080/"
    },
    "id": "MfLwfu40kcuJ",
    "outputId": "d6b3ff00-989c-4fe4-9320-e1b0ed26b0ff"
   },
   "outputs": [
    {
     "name": "stdout",
     "output_type": "stream",
     "text": [
      "2    0.239394\n",
      "1    0.169697\n",
      "3    0.151515\n",
      "0    0.151515\n",
      "5    0.148485\n",
      "4    0.139394\n",
      "Name: Total_visits_bank, dtype: float64\n",
      "\n"
     ]
    }
   ],
   "source": [
    "# value counts gives us how many times does the value \n",
    "print(pdata['Total_visits_bank'].value_counts(normalize=True))\n",
    "print('')"
   ]
  },
  {
   "cell_type": "code",
   "execution_count": 16,
   "metadata": {
    "colab": {
     "base_uri": "https://localhost:8080/"
    },
    "id": "Ls5rM0gXknI6",
    "outputId": "9cabfa7f-f418-44cc-bed9-b51a71b1ace9"
   },
   "outputs": [
    {
     "name": "stdout",
     "output_type": "stream",
     "text": [
      "2     0.286364\n",
      "0     0.218182\n",
      "1     0.165152\n",
      "4     0.104545\n",
      "5     0.081818\n",
      "3     0.066667\n",
      "15    0.015152\n",
      "7     0.010606\n",
      "12    0.009091\n",
      "10    0.009091\n",
      "8     0.009091\n",
      "13    0.007576\n",
      "11    0.007576\n",
      "9     0.006061\n",
      "14    0.001515\n",
      "6     0.001515\n",
      "Name: Total_visits_online, dtype: float64\n",
      "\n"
     ]
    }
   ],
   "source": [
    "# value counts gives us how many times does the value \n",
    "print(pdata['Total_visits_online'].value_counts(normalize=True))\n",
    "print('')"
   ]
  },
  {
   "cell_type": "code",
   "execution_count": 17,
   "metadata": {
    "colab": {
     "base_uri": "https://localhost:8080/"
    },
    "id": "3rMmA5TTktjE",
    "outputId": "f16a9d08-1e15-41b4-f5db-9075743091cd"
   },
   "outputs": [
    {
     "name": "stdout",
     "output_type": "stream",
     "text": [
      "4     0.163636\n",
      "0     0.146970\n",
      "2     0.137879\n",
      "1     0.136364\n",
      "3     0.125758\n",
      "6     0.059091\n",
      "7     0.053030\n",
      "9     0.048485\n",
      "8     0.045455\n",
      "5     0.043939\n",
      "10    0.039394\n",
      "Name: Total_calls_made, dtype: float64\n",
      "\n"
     ]
    }
   ],
   "source": [
    "# value counts gives us how many times does the value \n",
    "print(pdata['Total_calls_made'].value_counts(normalize=True))\n",
    "print('')"
   ]
  },
  {
   "cell_type": "markdown",
   "metadata": {
    "id": "wr-YS4RsMsKQ"
   },
   "source": [
    "### **`Observations: `** \n",
    "\n",
    "<a href = #link101> Back to Index </a>\n",
    "\n",
    "1. Majority (50%+) customers possess between 4 and 7 cards, both inclusive. \n",
    "2. Around 70% customers have less than 3 Total_visits_bank.\n",
    "3. Around 66% customers have less than 2 Total_visits_online. Seems there are outliers in this column.\n",
    "4. Around 68% customers have less than 4 Total_calls_made."
   ]
  },
  {
   "cell_type": "markdown",
   "metadata": {
    "id": "xjKdUMxJQ7SY"
   },
   "source": [
    "### **`Approach:`** \n",
    "\n",
    "For next analysis and process, it is important to balance the effect of unit. Therefore, the data will be scaled."
   ]
  },
  {
   "cell_type": "code",
   "execution_count": 18,
   "metadata": {
    "colab": {
     "base_uri": "https://localhost:8080/",
     "height": 195
    },
    "id": "SXPQkYxSncEp",
    "outputId": "9157700c-2c78-40e1-d31e-ba3ec9ebe645"
   },
   "outputs": [
    {
     "data": {
      "text/html": [
       "<div>\n",
       "<style scoped>\n",
       "    .dataframe tbody tr th:only-of-type {\n",
       "        vertical-align: middle;\n",
       "    }\n",
       "\n",
       "    .dataframe tbody tr th {\n",
       "        vertical-align: top;\n",
       "    }\n",
       "\n",
       "    .dataframe thead th {\n",
       "        text-align: right;\n",
       "    }\n",
       "</style>\n",
       "<table border=\"1\" class=\"dataframe\">\n",
       "  <thead>\n",
       "    <tr style=\"text-align: right;\">\n",
       "      <th></th>\n",
       "      <th>Avg_Credit_Limit</th>\n",
       "      <th>Total_Credit_Cards</th>\n",
       "      <th>Total_visits_bank</th>\n",
       "      <th>Total_visits_online</th>\n",
       "      <th>Total_calls_made</th>\n",
       "    </tr>\n",
       "  </thead>\n",
       "  <tbody>\n",
       "    <tr>\n",
       "      <th>0</th>\n",
       "      <td>1.740187</td>\n",
       "      <td>-1.249225</td>\n",
       "      <td>-0.860451</td>\n",
       "      <td>-0.547490</td>\n",
       "      <td>-1.251537</td>\n",
       "    </tr>\n",
       "    <tr>\n",
       "      <th>1</th>\n",
       "      <td>0.410293</td>\n",
       "      <td>-0.787585</td>\n",
       "      <td>-1.473731</td>\n",
       "      <td>2.520519</td>\n",
       "      <td>1.891859</td>\n",
       "    </tr>\n",
       "    <tr>\n",
       "      <th>2</th>\n",
       "      <td>0.410293</td>\n",
       "      <td>1.058973</td>\n",
       "      <td>-0.860451</td>\n",
       "      <td>0.134290</td>\n",
       "      <td>0.145528</td>\n",
       "    </tr>\n",
       "    <tr>\n",
       "      <th>3</th>\n",
       "      <td>-0.121665</td>\n",
       "      <td>0.135694</td>\n",
       "      <td>-0.860451</td>\n",
       "      <td>-0.547490</td>\n",
       "      <td>0.145528</td>\n",
       "    </tr>\n",
       "    <tr>\n",
       "      <th>4</th>\n",
       "      <td>1.740187</td>\n",
       "      <td>0.597334</td>\n",
       "      <td>-1.473731</td>\n",
       "      <td>3.202298</td>\n",
       "      <td>-0.203739</td>\n",
       "    </tr>\n",
       "  </tbody>\n",
       "</table>\n",
       "</div>"
      ],
      "text/plain": [
       "   Avg_Credit_Limit  Total_Credit_Cards  Total_visits_bank  \\\n",
       "0          1.740187           -1.249225          -0.860451   \n",
       "1          0.410293           -0.787585          -1.473731   \n",
       "2          0.410293            1.058973          -0.860451   \n",
       "3         -0.121665            0.135694          -0.860451   \n",
       "4          1.740187            0.597334          -1.473731   \n",
       "\n",
       "   Total_visits_online  Total_calls_made  \n",
       "0            -0.547490         -1.251537  \n",
       "1             2.520519          1.891859  \n",
       "2             0.134290          0.145528  \n",
       "3            -0.547490          0.145528  \n",
       "4             3.202298         -0.203739  "
      ]
     },
     "execution_count": 18,
     "metadata": {},
     "output_type": "execute_result"
    }
   ],
   "source": [
    "#Scale data to balance the effect of unit.\n",
    "pdataScaled=pdata.apply(zscore)\n",
    "pdataScaled.head()"
   ]
  },
  {
   "cell_type": "code",
   "execution_count": 19,
   "metadata": {
    "colab": {
     "base_uri": "https://localhost:8080/",
     "height": 950
    },
    "id": "xRrQxtiCyRhJ",
    "outputId": "c4fb9a76-98e4-4553-d6b3-1773ee20cb32"
   },
   "outputs": [
    {
     "data": {
      "text/plain": [
       "<AxesSubplot:xlabel='Total_calls_made'>"
      ]
     },
     "execution_count": 19,
     "metadata": {},
     "output_type": "execute_result"
    },
    {
     "data": {
      "image/png": "[encoded data removed]",
      "text/plain": [
       "<Figure size 1152x1152 with 6 Axes>"
      ]
     },
     "metadata": {
      "needs_background": "light"
     },
     "output_type": "display_data"
    }
   ],
   "source": [
    "#Step6: Distribution Analysis\n",
    "f, axes = plt.subplots(2, 3, figsize=(16, 16), sharex=True)\n",
    "sns.distplot( pdataScaled[\"Avg_Credit_Limit\"] , color=\"blue\", ax=axes[0, 0])\n",
    "sns.distplot( pdataScaled[\"Total_Credit_Cards\"] , color=\"black\", ax=axes[0, 1])\n",
    "sns.distplot( pdataScaled[\"Total_visits_bank\"] , color=\"teal\", ax=axes[0, 2])\n",
    "\n",
    "sns.distplot( pdataScaled[\"Total_visits_online\"] , color=\"blue\", ax=axes[1, 0])\n",
    "sns.distplot( pdataScaled[\"Total_calls_made\"] , color=\"black\", ax=axes[1, 1])\n"
   ]
  },
  {
   "cell_type": "code",
   "execution_count": 20,
   "metadata": {
    "colab": {
     "base_uri": "https://localhost:8080/",
     "height": 605
    },
    "id": "X_DGCy7-LRlL",
    "outputId": "43f6c8c4-0ff1-498d-86a7-7337e082afd6"
   },
   "outputs": [
    {
     "data": {
      "image/png": "[encoded data removed]",
      "text/plain": [
       "<Figure size 864x3960 with 30 Axes>"
      ]
     },
     "metadata": {
      "needs_background": "light"
     },
     "output_type": "display_data"
    }
   ],
   "source": [
    "columns = list(pdataScaled)[:] \n",
    "pdataScaled[columns].hist(stacked=False, bins=100, figsize=(12,55), layout=(10,3), color='Blue'); "
   ]
  },
  {
   "cell_type": "markdown",
   "metadata": {
    "id": "krg0TzXHEyKV"
   },
   "source": [
    "### **`Observations:`** \n",
    "\n",
    "<a href = #link101> Back to Index </a>\n",
    "\n",
    "1. None of the attributes show a symmetric distribution of data around median.\n",
    "2. Columns Total_Credit_Cards,\tTotal_visits_bank, and\tTotal_calls_made seem fairly distributed, although there are multiple peaks.\n",
    "3. **Distplots for Total_visits_online and Avg_Credit_Limit look similar**. They both are right skewed. There are upper outliers in these two columns\n",
    "4. Outlier analysis will be performed for observation purpose only. Outliers will not be removed as this is a case of unsupervised learning. ***There is a good probability that the outliers form a separate cluster.***\n",
    "5. The above histgram strengthen the observations for distplot analysis. It also strengthens our observations from frequency analysis above."
   ]
  },
  {
   "cell_type": "code",
   "execution_count": 21,
   "metadata": {
    "colab": {
     "base_uri": "https://localhost:8080/"
    },
    "id": "YE1YN_eceJKa",
    "outputId": "fdb27813-2be1-4f3c-e8b8-d257a5dbd1e8"
   },
   "outputs": [
    {
     "name": "stdout",
     "output_type": "stream",
     "text": [
      "{'Avg_Credit_Limit': -0.653622900114617, 'Total_Credit_Cards': -0.7875851517466029, 'Total_visits_bank': -0.860450628239986, 'Total_visits_online': -0.5474896948922904, 'Total_calls_made': -0.9022711257951177}\n",
      "{'Avg_Credit_Limit': 0.3570967703258907, 'Total_Credit_Cards': 0.5973336763690932, 'Total_visits_bank': 0.9793898079535047, 'Total_visits_online': 0.4751797351895351, 'Total_calls_made': 0.4947938431779677}\n",
      "{'Avg_Credit_Limit': 1.0107196704405077, 'Total_Credit_Cards': 1.384918828115696, 'Total_visits_bank': 1.8398404361934908, 'Total_visits_online': 1.0226694300818255, 'Total_calls_made': 1.3970649689730854}\n",
      "{'Avg_Credit_Limit': -2.1697024057753787, 'Total_Credit_Cards': -2.864963393920147, 'Total_visits_bank': -3.620211282530222, 'Total_visits_online': -2.0814938400150287, 'Total_calls_made': -2.997868579254746}\n",
      "{'Avg_Credit_Limit': 1.8731762759866524, 'Total_Credit_Cards': 2.6747119185426373, 'Total_visits_bank': 3.739150462243741, 'Total_visits_online': 2.0091838803122735, 'Total_calls_made': 2.5903912966375957}\n",
      "\n",
      "\n"
     ]
    }
   ],
   "source": [
    "#Step6: Outlier Analysis: Method used: IQR\n",
    "\n",
    "percentile_25 = {}\n",
    "percentile_75 = {}\n",
    "iqr = {}\n",
    "lower_bound = {}\n",
    "upper_bound = {}\n",
    "\n",
    "for i in pdataScaled:\n",
    "  percentile_25[i] = np.percentile(pdataScaled[i],25)\n",
    "  percentile_75[i] = np.percentile(pdataScaled[i],75)\n",
    "  iqr[i] = percentile_75[i] - percentile_25[i]\n",
    "  lower_bound[i] = percentile_25[i] - (1.5 * iqr[i])\n",
    "  upper_bound[i] = percentile_75[i] + (1.5 * iqr[i])\n",
    "        \n",
    "        \n",
    "print(percentile_25)\n",
    "print(percentile_75)\n",
    "print(iqr)\n",
    "print(lower_bound)\n",
    "print(upper_bound)\n",
    "print(\"\\n\")"
   ]
  },
  {
   "cell_type": "code",
   "execution_count": 22,
   "metadata": {
    "colab": {
     "base_uri": "https://localhost:8080/"
    },
    "id": "n9yuBNKrSxh2",
    "outputId": "869401fa-5f47-4d71-a1da-2cd1836d2056"
   },
   "outputs": [
    {
     "name": "stdout",
     "output_type": "stream",
     "text": [
      "Count of lower bound outliers for column Avg_Credit_Limit: 0\n",
      "Count of upper bound outliers for column Avg_Credit_Limit: 39\n",
      "Count of lower bound outliers for column Total_Credit_Cards: 0\n",
      "Count of upper bound outliers for column Total_Credit_Cards: 0\n",
      "Count of lower bound outliers for column Total_visits_bank: 0\n",
      "Count of upper bound outliers for column Total_visits_bank: 0\n",
      "Count of lower bound outliers for column Total_visits_online: 0\n",
      "Count of upper bound outliers for column Total_visits_online: 37\n",
      "Count of lower bound outliers for column Total_calls_made: 0\n",
      "Count of upper bound outliers for column Total_calls_made: 0\n"
     ]
    }
   ],
   "source": [
    "#Check how many outliers are present in each column\n",
    "for i in pdataScaled:\n",
    "    print(\"Count of lower bound outliers for column \"+ i + \": \" + str(pdataScaled[i][pdataScaled[i] < lower_bound[i]].count()))\n",
    "    print(\"Count of upper bound outliers for column \"+ i + \": \" + str(pdataScaled[i][pdataScaled[i] > upper_bound[i]].count()))"
   ]
  },
  {
   "cell_type": "markdown",
   "metadata": {
    "id": "p4N-mpLytbBI"
   },
   "source": [
    "Upper bound outliers for Avg_Credit_Limit and Total_visits_online. Number of outliers are almost the same. It was also observed previously that these two columns have similar looking distplots. It might be worth checking if these two have a strong correlation."
   ]
  },
  {
   "cell_type": "code",
   "execution_count": 23,
   "metadata": {
    "colab": {
     "base_uri": "https://localhost:8080/",
     "height": 950
    },
    "id": "WgAmKXeyIB14",
    "outputId": "f8f652f9-41dc-4bee-cd6f-f669c535245b"
   },
   "outputs": [
    {
     "data": {
      "text/plain": [
       "<AxesSubplot:xlabel='Total_calls_made'>"
      ]
     },
     "execution_count": 23,
     "metadata": {},
     "output_type": "execute_result"
    },
    {
     "data": {
      "image/png": "[encoded data removed]",
      "text/plain": [
       "<Figure size 1152x1152 with 6 Axes>"
      ]
     },
     "metadata": {
      "needs_background": "light"
     },
     "output_type": "display_data"
    }
   ],
   "source": [
    "#Step7: BoxPlot Analysis\n",
    "\n",
    "f, axes = plt.subplots(2, 3, figsize=(16, 16), sharex=True)\n",
    "sns.boxplot( pdataScaled[\"Avg_Credit_Limit\"] , color=\"blue\", ax=axes[0, 0])\n",
    "sns.boxplot( pdataScaled[\"Total_Credit_Cards\"] , color=\"tan\", ax=axes[0, 1])\n",
    "sns.boxplot( pdataScaled[\"Total_visits_bank\"] , color=\"teal\", ax=axes[0, 2])\n",
    "\n",
    "sns.boxplot( pdataScaled[\"Total_visits_online\"] , color=\"blue\", ax=axes[1, 0])\n",
    "sns.boxplot( pdataScaled[\"Total_calls_made\"] , color=\"tan\",  ax=axes[1, 1])\n"
   ]
  },
  {
   "cell_type": "markdown",
   "metadata": {
    "id": "CRugqkkOeJKc"
   },
   "source": [
    "### **`Observations:`** \n",
    "\n",
    "<a href = #link101> Back to Index </a>\n",
    "\n",
    "1. The above boxplots strengthen the observations for distplot analysis and outliers analysis.\n",
    "\n"
   ]
  },
  {
   "cell_type": "markdown",
   "metadata": {
    "id": "Ew0HoHzZeJKm"
   },
   "source": [
    "# <a id = \"link103\"></a> **`Deliverable – 2: Bi-Variate Analysis:`**\n",
    "\n",
    "<a href = #link101> Back to Index </a>"
   ]
  },
  {
   "cell_type": "code",
   "execution_count": 24,
   "metadata": {
    "colab": {
     "base_uri": "https://localhost:8080/",
     "height": 921
    },
    "id": "_gc3KY6seJKo",
    "outputId": "76768568-d354-4a1a-99a6-14ba870c73ca"
   },
   "outputs": [
    {
     "data": {
      "text/plain": [
       "<seaborn.axisgrid.PairGrid at 0x1a34ff13b48>"
      ]
     },
     "execution_count": 24,
     "metadata": {},
     "output_type": "execute_result"
    },
    {
     "data": {
      "image/png": "[encoded data removed]",
      "text/plain": [
       "<Figure size 900x900 with 30 Axes>"
      ]
     },
     "metadata": {
      "needs_background": "light"
     },
     "output_type": "display_data"
    }
   ],
   "source": [
    "#Step1: Pairplot analysis\n",
    "\n",
    "sns.pairplot(pdataScaled,diag_kind='kde')"
   ]
  },
  {
   "cell_type": "markdown",
   "metadata": {
    "id": "iatwFsLuUUiA"
   },
   "source": [
    "### **`Observations:`** \n",
    "\n",
    "<a href = #link101> Back to Index </a>\n",
    "\n",
    "1. **Important Observation**: **Some clear clusters can be observed in some pairs of data**. E.g. For the Plot Avg_Credit_Limit on X-axis and Total_Visits_Online on Y-axis, it can be observed that there are two clusters. One cluster is comprised of those cases where both Total_Visits_Online and Avg_Credit_Limit are high. Second cluster is the opposite, where both are low. There is a clear void space between these two clusters.\n",
    "2. Similarly, there are **3 clusters** for pair \"Total_Credit_Cards\" and \"Total_Calls_Made\". There are 3 clusters for pair \"Total_Calls_Made\" and \"Total_Visits_Online\" etc.\n",
    "3. Diagonals provide histograms that were already analysed.\n",
    "4. Some conditional correlations can be seen like Avg_Credit_Limit tends to be higher for the cases where number of Total_Credit_Cards is higher, or Total_visits_online is higher.\n",
    "5. To analyse the correlation between different variables further, perform heatmap / correlation analysis.\n"
   ]
  },
  {
   "cell_type": "code",
   "execution_count": 25,
   "metadata": {
    "colab": {
     "base_uri": "https://localhost:8080/",
     "height": 405
    },
    "id": "zgUpvtcgD7jE",
    "outputId": "896bc12a-de4c-43cd-8a34-5b748cac34b7"
   },
   "outputs": [
    {
     "data": {
      "image/png": "[encoded data removed]",
      "text/plain": [
       "<Figure size 360x360 with 1 Axes>"
      ]
     },
     "metadata": {
      "needs_background": "light"
     },
     "output_type": "display_data"
    }
   ],
   "source": [
    "# Plotting correlation to analyze how different variables are correlated with each other\n",
    "def plot_corr(df, size=5):\n",
    "    corr = df.corr()\n",
    "    fig, ax = plt.subplots(figsize=(size, size))\n",
    "    ax.matshow(corr)\n",
    "    plt.xticks(range(len(corr.columns)), corr.columns, rotation='vertical')\n",
    "    plt.yticks(range(len(corr.columns)), corr.columns)\n",
    "    for (i, j), z in np.ndenumerate(corr):\n",
    "        ax.text(j, i, '{:0.3f}'.format(z), ha='center', va='center')\n",
    "\n",
    "plot_corr(pdataScaled)"
   ]
  },
  {
   "cell_type": "markdown",
   "metadata": {
    "id": "7b22ZL-6Z0Z3"
   },
   "source": [
    "### **`Observations:`** \n",
    "\n",
    "<a href = #link101> Back to Index </a>\n",
    "\n",
    "1. Avg_Credit_Limit seems to have strong +ve correlation with Total_Credit_Cards and Total_visits_online.\n",
    "2. Total_Credit_Cards has strong negative correlation with Total_calls_made.\n",
    "3. Total_Visits_bank has strong negative correlation with Total_visits_online and Total_calls_made. \n",
    "\n",
    "It can be inferred, though not concluded, from the given data that those customers who prefer a particular mode (e.g. _online_) of communication will not usually opt for other modes of communication."
   ]
  },
  {
   "cell_type": "code",
   "execution_count": 26,
   "metadata": {
    "colab": {
     "base_uri": "https://localhost:8080/",
     "height": 195
    },
    "id": "gfdLVEayDxb5",
    "outputId": "cda858d2-1131-4553-e5fe-b32463e408d7"
   },
   "outputs": [
    {
     "data": {
      "text/html": [
       "<div>\n",
       "<style scoped>\n",
       "    .dataframe tbody tr th:only-of-type {\n",
       "        vertical-align: middle;\n",
       "    }\n",
       "\n",
       "    .dataframe tbody tr th {\n",
       "        vertical-align: top;\n",
       "    }\n",
       "\n",
       "    .dataframe thead th {\n",
       "        text-align: right;\n",
       "    }\n",
       "</style>\n",
       "<table border=\"1\" class=\"dataframe\">\n",
       "  <thead>\n",
       "    <tr style=\"text-align: right;\">\n",
       "      <th></th>\n",
       "      <th>Avg_Credit_Limit</th>\n",
       "      <th>Total_Credit_Cards</th>\n",
       "      <th>Total_visits_bank</th>\n",
       "      <th>Total_visits_online</th>\n",
       "      <th>Total_calls_made</th>\n",
       "    </tr>\n",
       "  </thead>\n",
       "  <tbody>\n",
       "    <tr>\n",
       "      <th>Avg_Credit_Limit</th>\n",
       "      <td>1.000</td>\n",
       "      <td>0.609</td>\n",
       "      <td>-0.100</td>\n",
       "      <td>0.551</td>\n",
       "      <td>-0.414</td>\n",
       "    </tr>\n",
       "    <tr>\n",
       "      <th>Total_Credit_Cards</th>\n",
       "      <td>0.609</td>\n",
       "      <td>1.000</td>\n",
       "      <td>0.316</td>\n",
       "      <td>0.168</td>\n",
       "      <td>-0.651</td>\n",
       "    </tr>\n",
       "    <tr>\n",
       "      <th>Total_visits_bank</th>\n",
       "      <td>-0.100</td>\n",
       "      <td>0.316</td>\n",
       "      <td>1.000</td>\n",
       "      <td>-0.552</td>\n",
       "      <td>-0.506</td>\n",
       "    </tr>\n",
       "    <tr>\n",
       "      <th>Total_visits_online</th>\n",
       "      <td>0.551</td>\n",
       "      <td>0.168</td>\n",
       "      <td>-0.552</td>\n",
       "      <td>1.000</td>\n",
       "      <td>0.127</td>\n",
       "    </tr>\n",
       "    <tr>\n",
       "      <th>Total_calls_made</th>\n",
       "      <td>-0.414</td>\n",
       "      <td>-0.651</td>\n",
       "      <td>-0.506</td>\n",
       "      <td>0.127</td>\n",
       "      <td>1.000</td>\n",
       "    </tr>\n",
       "  </tbody>\n",
       "</table>\n",
       "</div>"
      ],
      "text/plain": [
       "                     Avg_Credit_Limit  Total_Credit_Cards  Total_visits_bank  \\\n",
       "Avg_Credit_Limit                1.000               0.609             -0.100   \n",
       "Total_Credit_Cards              0.609               1.000              0.316   \n",
       "Total_visits_bank              -0.100               0.316              1.000   \n",
       "Total_visits_online             0.551               0.168             -0.552   \n",
       "Total_calls_made               -0.414              -0.651             -0.506   \n",
       "\n",
       "                     Total_visits_online  Total_calls_made  \n",
       "Avg_Credit_Limit                   0.551            -0.414  \n",
       "Total_Credit_Cards                 0.168            -0.651  \n",
       "Total_visits_bank                 -0.552            -0.506  \n",
       "Total_visits_online                1.000             0.127  \n",
       "Total_calls_made                   0.127             1.000  "
      ]
     },
     "execution_count": 26,
     "metadata": {},
     "output_type": "execute_result"
    }
   ],
   "source": [
    "#Correlation for main data in tabular format\n",
    "pdata.corr().round(3)"
   ]
  },
  {
   "cell_type": "code",
   "execution_count": 27,
   "metadata": {
    "colab": {
     "base_uri": "https://localhost:8080/",
     "height": 195
    },
    "id": "_jT2HLjS2rBl",
    "outputId": "cc8aca26-a6fd-4dda-fcab-39e04b05cbf0"
   },
   "outputs": [
    {
     "data": {
      "text/html": [
       "<div>\n",
       "<style scoped>\n",
       "    .dataframe tbody tr th:only-of-type {\n",
       "        vertical-align: middle;\n",
       "    }\n",
       "\n",
       "    .dataframe tbody tr th {\n",
       "        vertical-align: top;\n",
       "    }\n",
       "\n",
       "    .dataframe thead th {\n",
       "        text-align: right;\n",
       "    }\n",
       "</style>\n",
       "<table border=\"1\" class=\"dataframe\">\n",
       "  <thead>\n",
       "    <tr style=\"text-align: right;\">\n",
       "      <th></th>\n",
       "      <th>Avg_Credit_Limit</th>\n",
       "      <th>Total_Credit_Cards</th>\n",
       "      <th>Total_visits_bank</th>\n",
       "      <th>Total_visits_online</th>\n",
       "      <th>Total_calls_made</th>\n",
       "    </tr>\n",
       "  </thead>\n",
       "  <tbody>\n",
       "    <tr>\n",
       "      <th>Avg_Credit_Limit</th>\n",
       "      <td>1.000</td>\n",
       "      <td>0.609</td>\n",
       "      <td>-0.100</td>\n",
       "      <td>0.551</td>\n",
       "      <td>-0.414</td>\n",
       "    </tr>\n",
       "    <tr>\n",
       "      <th>Total_Credit_Cards</th>\n",
       "      <td>0.609</td>\n",
       "      <td>1.000</td>\n",
       "      <td>0.316</td>\n",
       "      <td>0.168</td>\n",
       "      <td>-0.651</td>\n",
       "    </tr>\n",
       "    <tr>\n",
       "      <th>Total_visits_bank</th>\n",
       "      <td>-0.100</td>\n",
       "      <td>0.316</td>\n",
       "      <td>1.000</td>\n",
       "      <td>-0.552</td>\n",
       "      <td>-0.506</td>\n",
       "    </tr>\n",
       "    <tr>\n",
       "      <th>Total_visits_online</th>\n",
       "      <td>0.551</td>\n",
       "      <td>0.168</td>\n",
       "      <td>-0.552</td>\n",
       "      <td>1.000</td>\n",
       "      <td>0.127</td>\n",
       "    </tr>\n",
       "    <tr>\n",
       "      <th>Total_calls_made</th>\n",
       "      <td>-0.414</td>\n",
       "      <td>-0.651</td>\n",
       "      <td>-0.506</td>\n",
       "      <td>0.127</td>\n",
       "      <td>1.000</td>\n",
       "    </tr>\n",
       "  </tbody>\n",
       "</table>\n",
       "</div>"
      ],
      "text/plain": [
       "                     Avg_Credit_Limit  Total_Credit_Cards  Total_visits_bank  \\\n",
       "Avg_Credit_Limit                1.000               0.609             -0.100   \n",
       "Total_Credit_Cards              0.609               1.000              0.316   \n",
       "Total_visits_bank              -0.100               0.316              1.000   \n",
       "Total_visits_online             0.551               0.168             -0.552   \n",
       "Total_calls_made               -0.414              -0.651             -0.506   \n",
       "\n",
       "                     Total_visits_online  Total_calls_made  \n",
       "Avg_Credit_Limit                   0.551            -0.414  \n",
       "Total_Credit_Cards                 0.168            -0.651  \n",
       "Total_visits_bank                 -0.552            -0.506  \n",
       "Total_visits_online                1.000             0.127  \n",
       "Total_calls_made                   0.127             1.000  "
      ]
     },
     "execution_count": 27,
     "metadata": {},
     "output_type": "execute_result"
    }
   ],
   "source": [
    "#Correlation for scaled data in tabular format\n",
    "\n",
    "pdataScaled.corr().round(3)"
   ]
  },
  {
   "cell_type": "markdown",
   "metadata": {
    "id": "sQZhzBCjDGwD"
   },
   "source": [
    "### **`Observations:`** \n",
    "\n",
    "<a href = #link101> Back to Index </a>\n",
    "\n",
    "1. Original data and scaled data have the exact same correlation. So it seems that the integrity of the data is not compromised after scaling.\n",
    "2. Remaining observations were already provided while analysing the heatmap."
   ]
  },
  {
   "cell_type": "markdown",
   "metadata": {
    "id": "ZOSnOHddeJKp"
   },
   "source": [
    "# **`Deliverable – 3:`** <a id = \"link104\"></a>\n",
    "\n",
    "<a href = #link101> Back to Index </a>\n"
   ]
  },
  {
   "cell_type": "markdown",
   "metadata": {
    "id": "VBAQ8Fe69wuq"
   },
   "source": [
    "## **`Approach:`** \n",
    "\n",
    "<a href = #link101> Back to Index </a>\n",
    "\n",
    "1. Use K-Means clustering to form clusters of data. Use elbow method to determine the best value of K.\n",
    "3. ***How to determine the best value of K:*** Following approach is used:\n",
    "  \n",
    "  a. Choose Two best values of K using the elbow method. \n",
    "  \n",
    "  b. For those two values, calculate average silhouette_score.\n",
    "  \n",
    "  c. Plot silhouette_score plot for each value of __K__.\n",
    "\n",
    "  d. __K__ with best silhoutte coefficient, and having least negative values for b(i) is chosen as the final."
   ]
  },
  {
   "cell_type": "code",
   "execution_count": 28,
   "metadata": {
    "colab": {
     "base_uri": "https://localhost:8080/",
     "height": 454
    },
    "id": "T5xpgGNB2kFX",
    "outputId": "3e6885a0-b8c8-41ea-bb16-20da8c6a29f8"
   },
   "outputs": [
    {
     "name": "stdout",
     "output_type": "stream",
     "text": [
      "For  2  clusters, the average silhoutte score is:  0.41842496663215445\n",
      "For  3  clusters, the average silhoutte score is:  0.5157182558881063\n",
      "For  4  clusters, the average silhoutte score is:  0.3556670619372605\n",
      "For  5  clusters, the average silhoutte score is:  0.2717470361089752\n",
      "For  6  clusters, the average silhoutte score is:  0.25545029453623114\n",
      "For  7  clusters, the average silhoutte score is:  0.24864726376310903\n",
      "For  8  clusters, the average silhoutte score is:  0.22729474473717595\n",
      "For  9  clusters, the average silhoutte score is:  0.2187801244624267\n"
     ]
    },
    {
     "data": {
      "text/plain": [
       "Text(0.5, 1.0, 'Selecting k with the Elbow Method')"
      ]
     },
     "execution_count": 28,
     "metadata": {},
     "output_type": "execute_result"
    },
    {
     "data": {
      "image/png": "[encoded data removed]",
      "text/plain": [
       "<Figure size 432x288 with 1 Axes>"
      ]
     },
     "metadata": {
      "needs_background": "light"
     },
     "output_type": "display_data"
    }
   ],
   "source": [
    "#Step1: Choose Two best values of K using the elbow method.\n",
    "#Step2: Calculate average silhouette_score\n",
    "\n",
    "clusters=range(2,10)\n",
    "meanDistortions=[]\n",
    "\n",
    "for k in clusters:\n",
    "    model=KMeans(n_clusters=k)\n",
    "    model.fit(pdataScaled)\n",
    "    prediction=model.predict(pdataScaled)\n",
    "    silhoutte_avg = silhouette_score(pdataScaled,prediction)\n",
    "    print(\"For \", k, \" clusters, the average silhoutte score is: \", silhoutte_avg)\n",
    "    meanDistortions.append(sum(np.min(cdist(pdataScaled, model.cluster_centers_, 'euclidean'), axis=1)) / pdataScaled.shape[0])\n",
    "\n",
    "\n",
    "plt.plot(clusters, meanDistortions, 'bx-')\n",
    "plt.xlabel('k')\n",
    "plt.ylabel('Average distortion')\n",
    "plt.title('Selecting k with the Elbow Method')"
   ]
  },
  {
   "cell_type": "markdown",
   "metadata": {
    "id": "ad3r743psE_q"
   },
   "source": [
    "### **`Observations:`** \n",
    "\n",
    "<a href = #link101> Back to Index </a>\n",
    "\n",
    "***`K = 3 or 4 seems a good choice for K. For K = 3 (3 clusters), the best value for average silhoutte score is obtained as: 0.5157182558881063.`***"
   ]
  },
  {
   "cell_type": "code",
   "execution_count": 29,
   "metadata": {
    "colab": {
     "base_uri": "https://localhost:8080/",
     "height": 943
    },
    "id": "JCTyMJxpP2aQ",
    "outputId": "56a48461-4539-4692-f914-65617cbe86e3"
   },
   "outputs": [
    {
     "name": "stdout",
     "output_type": "stream",
     "text": [
      "For n_clusters = 2 The average silhouette_score is : 0.41842496663215445\n",
      "For n_clusters = 3 The average silhouette_score is : 0.5157182558881063\n",
      "For n_clusters = 4 The average silhouette_score is : 0.3556670619372605\n"
     ]
    },
    {
     "data": {
      "image/png": "[encoded data removed]",
      "text/plain": [
       "<Figure size 720x288 with 1 Axes>"
      ]
     },
     "metadata": {
      "needs_background": "light"
     },
     "output_type": "display_data"
    },
    {
     "data": {
      "image/png": "[encoded data removed]",
      "text/plain": [
       "<Figure size 720x288 with 1 Axes>"
      ]
     },
     "metadata": {
      "needs_background": "light"
     },
     "output_type": "display_data"
    },
    {
     "data": {
      "image/png": "[encoded data removed]",
      "text/plain": [
       "<Figure size 720x288 with 1 Axes>"
      ]
     },
     "metadata": {
      "needs_background": "light"
     },
     "output_type": "display_data"
    }
   ],
   "source": [
    "#Compute and Plot Silhoutte Score for different clusters\n",
    "\n",
    "range_n_clusters=[2, 3, 4]\n",
    "\n",
    "for n_clusters in range_n_clusters:\n",
    "    # Create a subplot\n",
    "    fig, (ax1) = plt.subplots(1, 1)\n",
    "    fig.set_size_inches(10, 4)\n",
    "\n",
    "    # The 1st subplot is the silhouette plot\n",
    "    # The silhouette coefficient can range from -1, 1.\n",
    "    ax1.set_xlim([-1, 1])\n",
    "    # The (n_clusters+1)*10 is for inserting blank space between silhouette\n",
    "    # plots of individual clusters, to demarcate them clearly.\n",
    "    ax1.set_ylim([0, len(pdataScaled) + (n_clusters + 1) * 10])\n",
    "\n",
    "    # Initialize the clusterer with n_clusters value and a random generator\n",
    "    # seed of 10 for reproducibility.\n",
    "    clusterer = KMeans(n_clusters=n_clusters, random_state=10)\n",
    "    cluster_labels = clusterer.fit_predict(pdataScaled)\n",
    "\n",
    "    # The silhouette_score gives the average value for all the samples.\n",
    "    # This gives a perspective into the density and separation of the formed\n",
    "    # clusters\n",
    "    silhouette_avg = silhouette_score(pdataScaled, cluster_labels)\n",
    "    print(\"For n_clusters =\", n_clusters,\n",
    "          \"The average silhouette_score is :\", silhouette_avg)\n",
    "\n",
    "    # Compute the silhouette scores for each sample\n",
    "    sample_silhouette_values = silhouette_samples(pdataScaled, cluster_labels)\n",
    "\n",
    "    y_lower = 10\n",
    "    for i in range(n_clusters):\n",
    "        # Aggregate the silhouette scores for samples belonging to\n",
    "        # cluster i, and sort them\n",
    "        ith_cluster_silhouette_values = \\\n",
    "            sample_silhouette_values[cluster_labels == i]\n",
    "\n",
    "        ith_cluster_silhouette_values.sort()\n",
    "\n",
    "        size_cluster_i = ith_cluster_silhouette_values.shape[0]\n",
    "        y_upper = y_lower + size_cluster_i\n",
    "\n",
    "        color = cm.nipy_spectral(float(i) / n_clusters)\n",
    "        ax1.fill_betweenx(np.arange(y_lower, y_upper),\n",
    "                          0, ith_cluster_silhouette_values,\n",
    "                          facecolor=color, edgecolor=color, alpha=0.7)\n",
    "\n",
    "        # Label the silhouette plots with their cluster numbers at the middle\n",
    "        ax1.text(-0.05, y_lower + 0.5 * size_cluster_i, str(i))\n",
    "\n",
    "        # Compute the new y_lower for next plot\n",
    "        y_lower = y_upper + 10  # 10 for the 0 samples\n",
    "\n",
    "    ax1.set_title(\"The silhouette plot for the various clusters.\")\n",
    "    ax1.set_xlabel(\"The silhouette coefficient values\")\n",
    "    ax1.set_ylabel(\"Cluster label\")\n",
    "\n",
    "    # The vertical line for average silhouette score of all the values\n",
    "    ax1.axvline(x=silhouette_avg, color=\"red\", linestyle=\"--\")\n",
    "\n",
    "    ax1.set_yticks([])  # Clear the yaxis labels / ticks\n",
    "    ax1.set_xticks([-1, -0.8, -0.6, -0.4, -0.2, 0, 0.2, 0.4, 0.6, 0.8, 1])\n",
    "    \n",
    "    plt.suptitle((\"Silhouette analysis for KMeans clustering on sample data \"\n",
    "                  \"with n_clusters = %d\" % n_clusters),\n",
    "                 fontsize=14, fontweight='bold')\n",
    "\n",
    "plt.show()"
   ]
  },
  {
   "cell_type": "markdown",
   "metadata": {
    "id": "lADp2B_GmNfo"
   },
   "source": [
    "### **`Observations:`** \n",
    "\n",
    "<a href = #link101> Back to Index </a>\n",
    "\n",
    "1. For k = 2, there are some negative values for b(i). The average silhouette_score is also lower than that for k = 3. Therere, it is not an ideal value.\n",
    "2. For k = 3, there are **no** negative values for b(i). The average silhouette_score is the highest. Therere, it seems to be the ideal value.\n",
    "3. For k = 4, there are **no** negative values for b(i). The average silhouette_score is the lowest amongst k = 2 or 3 or 4. Therere, it is not an ideal value.\n",
    "4. ***Additional***: For k = 3 and k = 4, the plot for \"cluster label\" = 1 looks exactly the same. Also the plot for \"cluster label\" = 3 for k = 4 loos the same like the plot for \"cluster label\" = 2 for k = 3. Therefore, it can be inferred that when k shifted from 3 to 4, the \"the plot for \"cluster label\" = 0 from k = 3 is splitted into the plot for \"cluster label\" = 0 and \"cluster label\" = 2 in case of k = 4.\n",
    "5. ***Next Steps***: Check how well the data segments are explained for k = 3 vs k = 4.  Although, it is worth noting that k = 3 is stastically a better value for k compared to 4"
   ]
  },
  {
   "cell_type": "code",
   "execution_count": 30,
   "metadata": {
    "colab": {
     "base_uri": "https://localhost:8080/",
     "height": 248
    },
    "id": "5MN0KWSF3T0u",
    "outputId": "17c41b4b-d5ac-4f88-a959-d74b6b2e60a3"
   },
   "outputs": [
    {
     "name": "stdout",
     "output_type": "stream",
     "text": [
      "0.5157182558881063\n",
      "Groups Assigned : \n",
      "\n"
     ]
    },
    {
     "data": {
      "text/html": [
       "<div>\n",
       "<style scoped>\n",
       "    .dataframe tbody tr th:only-of-type {\n",
       "        vertical-align: middle;\n",
       "    }\n",
       "\n",
       "    .dataframe tbody tr th {\n",
       "        vertical-align: top;\n",
       "    }\n",
       "\n",
       "    .dataframe thead th {\n",
       "        text-align: right;\n",
       "    }\n",
       "</style>\n",
       "<table border=\"1\" class=\"dataframe\">\n",
       "  <thead>\n",
       "    <tr style=\"text-align: right;\">\n",
       "      <th></th>\n",
       "      <th>Avg_Credit_Limit</th>\n",
       "      <th>Total_Credit_Cards</th>\n",
       "      <th>Total_visits_bank</th>\n",
       "      <th>Total_visits_online</th>\n",
       "      <th>Total_calls_made</th>\n",
       "      <th>GROUP</th>\n",
       "    </tr>\n",
       "  </thead>\n",
       "  <tbody>\n",
       "    <tr>\n",
       "      <th>0</th>\n",
       "      <td>100000</td>\n",
       "      <td>2</td>\n",
       "      <td>1</td>\n",
       "      <td>1</td>\n",
       "      <td>0</td>\n",
       "      <td>0</td>\n",
       "    </tr>\n",
       "    <tr>\n",
       "      <th>1</th>\n",
       "      <td>50000</td>\n",
       "      <td>3</td>\n",
       "      <td>0</td>\n",
       "      <td>10</td>\n",
       "      <td>9</td>\n",
       "      <td>1</td>\n",
       "    </tr>\n",
       "    <tr>\n",
       "      <th>2</th>\n",
       "      <td>50000</td>\n",
       "      <td>7</td>\n",
       "      <td>1</td>\n",
       "      <td>3</td>\n",
       "      <td>4</td>\n",
       "      <td>0</td>\n",
       "    </tr>\n",
       "    <tr>\n",
       "      <th>3</th>\n",
       "      <td>30000</td>\n",
       "      <td>5</td>\n",
       "      <td>1</td>\n",
       "      <td>1</td>\n",
       "      <td>4</td>\n",
       "      <td>0</td>\n",
       "    </tr>\n",
       "    <tr>\n",
       "      <th>4</th>\n",
       "      <td>100000</td>\n",
       "      <td>6</td>\n",
       "      <td>0</td>\n",
       "      <td>12</td>\n",
       "      <td>3</td>\n",
       "      <td>2</td>\n",
       "    </tr>\n",
       "  </tbody>\n",
       "</table>\n",
       "</div>"
      ],
      "text/plain": [
       "   Avg_Credit_Limit  Total_Credit_Cards  Total_visits_bank  \\\n",
       "0            100000                   2                  1   \n",
       "1             50000                   3                  0   \n",
       "2             50000                   7                  1   \n",
       "3             30000                   5                  1   \n",
       "4            100000                   6                  0   \n",
       "\n",
       "   Total_visits_online  Total_calls_made  GROUP  \n",
       "0                    1                 0      0  \n",
       "1                   10                 9      1  \n",
       "2                    3                 4      0  \n",
       "3                    1                 4      0  \n",
       "4                   12                 3      2  "
      ]
     },
     "execution_count": 30,
     "metadata": {},
     "output_type": "execute_result"
    }
   ],
   "source": [
    "#Let us first start with K = 3\n",
    "final_model=KMeans(n_clusters = 3, random_state=10)\n",
    "final_model.fit(pdataScaled)\n",
    "prediction=final_model.predict(pdataScaled)\n",
    "\n",
    "silhoutte_avg = silhouette_score(pdataScaled,prediction)\n",
    "print(silhoutte_avg)\n",
    "\n",
    "#Append the prediction \n",
    "pdata_K_3 = pdata.copy()\n",
    "pdata_K_3[\"GROUP\"] = prediction\n",
    "pdata_K_3_scaled = pdataScaled.copy()\n",
    "pdata_K_3_scaled[\"GROUP\"] = prediction\n",
    "print(\"Groups Assigned : \\n\")\n",
    "pdata_K_3.head()"
   ]
  },
  {
   "cell_type": "code",
   "execution_count": 31,
   "metadata": {
    "colab": {
     "base_uri": "https://localhost:8080/",
     "height": 195
    },
    "id": "kwIGKVlc3pi9",
    "outputId": "c1eeab7f-abbf-41ec-ca89-ebca745dbb18"
   },
   "outputs": [
    {
     "data": {
      "text/html": [
       "<div>\n",
       "<style scoped>\n",
       "    .dataframe tbody tr th:only-of-type {\n",
       "        vertical-align: middle;\n",
       "    }\n",
       "\n",
       "    .dataframe tbody tr th {\n",
       "        vertical-align: top;\n",
       "    }\n",
       "\n",
       "    .dataframe thead th {\n",
       "        text-align: right;\n",
       "    }\n",
       "</style>\n",
       "<table border=\"1\" class=\"dataframe\">\n",
       "  <thead>\n",
       "    <tr style=\"text-align: right;\">\n",
       "      <th>GROUP</th>\n",
       "      <th>0</th>\n",
       "      <th>1</th>\n",
       "      <th>2</th>\n",
       "    </tr>\n",
       "  </thead>\n",
       "  <tbody>\n",
       "    <tr>\n",
       "      <th>Avg_Credit_Limit</th>\n",
       "      <td>386</td>\n",
       "      <td>224</td>\n",
       "      <td>50</td>\n",
       "    </tr>\n",
       "    <tr>\n",
       "      <th>Total_Credit_Cards</th>\n",
       "      <td>386</td>\n",
       "      <td>224</td>\n",
       "      <td>50</td>\n",
       "    </tr>\n",
       "    <tr>\n",
       "      <th>Total_visits_bank</th>\n",
       "      <td>386</td>\n",
       "      <td>224</td>\n",
       "      <td>50</td>\n",
       "    </tr>\n",
       "    <tr>\n",
       "      <th>Total_visits_online</th>\n",
       "      <td>386</td>\n",
       "      <td>224</td>\n",
       "      <td>50</td>\n",
       "    </tr>\n",
       "    <tr>\n",
       "      <th>Total_calls_made</th>\n",
       "      <td>386</td>\n",
       "      <td>224</td>\n",
       "      <td>50</td>\n",
       "    </tr>\n",
       "  </tbody>\n",
       "</table>\n",
       "</div>"
      ],
      "text/plain": [
       "GROUP                  0    1   2\n",
       "Avg_Credit_Limit     386  224  50\n",
       "Total_Credit_Cards   386  224  50\n",
       "Total_visits_bank    386  224  50\n",
       "Total_visits_online  386  224  50\n",
       "Total_calls_made     386  224  50"
      ]
     },
     "execution_count": 31,
     "metadata": {},
     "output_type": "execute_result"
    }
   ],
   "source": [
    "techSuppClust = pdata_K_3.groupby(['GROUP'])\n",
    "techSuppClust.count().T"
   ]
  },
  {
   "cell_type": "code",
   "execution_count": 32,
   "metadata": {
    "colab": {
     "base_uri": "https://localhost:8080/",
     "height": 1000
    },
    "id": "br5PE3tox7h0",
    "outputId": "20d2f1cc-b93d-44b9-d64a-201ea4f85e57"
   },
   "outputs": [
    {
     "data": {
      "text/html": [
       "<div>\n",
       "<style scoped>\n",
       "    .dataframe tbody tr th:only-of-type {\n",
       "        vertical-align: middle;\n",
       "    }\n",
       "\n",
       "    .dataframe tbody tr th {\n",
       "        vertical-align: top;\n",
       "    }\n",
       "\n",
       "    .dataframe thead th {\n",
       "        text-align: right;\n",
       "    }\n",
       "</style>\n",
       "<table border=\"1\" class=\"dataframe\">\n",
       "  <thead>\n",
       "    <tr style=\"text-align: right;\">\n",
       "      <th></th>\n",
       "      <th>GROUP</th>\n",
       "      <th>0</th>\n",
       "      <th>1</th>\n",
       "      <th>2</th>\n",
       "    </tr>\n",
       "  </thead>\n",
       "  <tbody>\n",
       "    <tr>\n",
       "      <th rowspan=\"8\" valign=\"top\">Avg_Credit_Limit</th>\n",
       "      <th>count</th>\n",
       "      <td>386.000000</td>\n",
       "      <td>224.000000</td>\n",
       "      <td>50.000000</td>\n",
       "    </tr>\n",
       "    <tr>\n",
       "      <th>mean</th>\n",
       "      <td>33782.383420</td>\n",
       "      <td>12174.107143</td>\n",
       "      <td>141040.000000</td>\n",
       "    </tr>\n",
       "    <tr>\n",
       "      <th>std</th>\n",
       "      <td>22169.460696</td>\n",
       "      <td>5249.048524</td>\n",
       "      <td>34457.877272</td>\n",
       "    </tr>\n",
       "    <tr>\n",
       "      <th>min</th>\n",
       "      <td>5000.000000</td>\n",
       "      <td>3000.000000</td>\n",
       "      <td>84000.000000</td>\n",
       "    </tr>\n",
       "    <tr>\n",
       "      <th>25%</th>\n",
       "      <td>13000.000000</td>\n",
       "      <td>8000.000000</td>\n",
       "      <td>108750.000000</td>\n",
       "    </tr>\n",
       "    <tr>\n",
       "      <th>50%</th>\n",
       "      <td>31000.000000</td>\n",
       "      <td>12000.000000</td>\n",
       "      <td>145500.000000</td>\n",
       "    </tr>\n",
       "    <tr>\n",
       "      <th>75%</th>\n",
       "      <td>52000.000000</td>\n",
       "      <td>16000.000000</td>\n",
       "      <td>170000.000000</td>\n",
       "    </tr>\n",
       "    <tr>\n",
       "      <th>max</th>\n",
       "      <td>100000.000000</td>\n",
       "      <td>50000.000000</td>\n",
       "      <td>200000.000000</td>\n",
       "    </tr>\n",
       "    <tr>\n",
       "      <th rowspan=\"8\" valign=\"top\">Total_Credit_Cards</th>\n",
       "      <th>count</th>\n",
       "      <td>386.000000</td>\n",
       "      <td>224.000000</td>\n",
       "      <td>50.000000</td>\n",
       "    </tr>\n",
       "    <tr>\n",
       "      <th>mean</th>\n",
       "      <td>5.515544</td>\n",
       "      <td>2.410714</td>\n",
       "      <td>8.740000</td>\n",
       "    </tr>\n",
       "    <tr>\n",
       "      <th>std</th>\n",
       "      <td>1.140069</td>\n",
       "      <td>1.100783</td>\n",
       "      <td>1.274715</td>\n",
       "    </tr>\n",
       "    <tr>\n",
       "      <th>min</th>\n",
       "      <td>2.000000</td>\n",
       "      <td>1.000000</td>\n",
       "      <td>5.000000</td>\n",
       "    </tr>\n",
       "    <tr>\n",
       "      <th>25%</th>\n",
       "      <td>4.000000</td>\n",
       "      <td>1.000000</td>\n",
       "      <td>8.000000</td>\n",
       "    </tr>\n",
       "    <tr>\n",
       "      <th>50%</th>\n",
       "      <td>6.000000</td>\n",
       "      <td>2.000000</td>\n",
       "      <td>9.000000</td>\n",
       "    </tr>\n",
       "    <tr>\n",
       "      <th>75%</th>\n",
       "      <td>6.000000</td>\n",
       "      <td>3.000000</td>\n",
       "      <td>10.000000</td>\n",
       "    </tr>\n",
       "    <tr>\n",
       "      <th>max</th>\n",
       "      <td>7.000000</td>\n",
       "      <td>4.000000</td>\n",
       "      <td>10.000000</td>\n",
       "    </tr>\n",
       "    <tr>\n",
       "      <th rowspan=\"8\" valign=\"top\">Total_visits_bank</th>\n",
       "      <th>count</th>\n",
       "      <td>386.000000</td>\n",
       "      <td>224.000000</td>\n",
       "      <td>50.000000</td>\n",
       "    </tr>\n",
       "    <tr>\n",
       "      <th>mean</th>\n",
       "      <td>3.489637</td>\n",
       "      <td>0.933036</td>\n",
       "      <td>0.600000</td>\n",
       "    </tr>\n",
       "    <tr>\n",
       "      <th>std</th>\n",
       "      <td>1.135563</td>\n",
       "      <td>0.803567</td>\n",
       "      <td>0.494872</td>\n",
       "    </tr>\n",
       "    <tr>\n",
       "      <th>min</th>\n",
       "      <td>1.000000</td>\n",
       "      <td>0.000000</td>\n",
       "      <td>0.000000</td>\n",
       "    </tr>\n",
       "    <tr>\n",
       "      <th>25%</th>\n",
       "      <td>3.000000</td>\n",
       "      <td>0.000000</td>\n",
       "      <td>0.000000</td>\n",
       "    </tr>\n",
       "    <tr>\n",
       "      <th>50%</th>\n",
       "      <td>3.000000</td>\n",
       "      <td>1.000000</td>\n",
       "      <td>1.000000</td>\n",
       "    </tr>\n",
       "    <tr>\n",
       "      <th>75%</th>\n",
       "      <td>5.000000</td>\n",
       "      <td>2.000000</td>\n",
       "      <td>1.000000</td>\n",
       "    </tr>\n",
       "    <tr>\n",
       "      <th>max</th>\n",
       "      <td>5.000000</td>\n",
       "      <td>2.000000</td>\n",
       "      <td>1.000000</td>\n",
       "    </tr>\n",
       "    <tr>\n",
       "      <th rowspan=\"8\" valign=\"top\">Total_visits_online</th>\n",
       "      <th>count</th>\n",
       "      <td>386.000000</td>\n",
       "      <td>224.000000</td>\n",
       "      <td>50.000000</td>\n",
       "    </tr>\n",
       "    <tr>\n",
       "      <th>mean</th>\n",
       "      <td>0.981865</td>\n",
       "      <td>3.553571</td>\n",
       "      <td>10.900000</td>\n",
       "    </tr>\n",
       "    <tr>\n",
       "      <th>std</th>\n",
       "      <td>0.857167</td>\n",
       "      <td>1.218978</td>\n",
       "      <td>2.880264</td>\n",
       "    </tr>\n",
       "    <tr>\n",
       "      <th>min</th>\n",
       "      <td>0.000000</td>\n",
       "      <td>1.000000</td>\n",
       "      <td>6.000000</td>\n",
       "    </tr>\n",
       "    <tr>\n",
       "      <th>25%</th>\n",
       "      <td>0.000000</td>\n",
       "      <td>2.000000</td>\n",
       "      <td>8.000000</td>\n",
       "    </tr>\n",
       "    <tr>\n",
       "      <th>50%</th>\n",
       "      <td>1.000000</td>\n",
       "      <td>4.000000</td>\n",
       "      <td>11.000000</td>\n",
       "    </tr>\n",
       "    <tr>\n",
       "      <th>75%</th>\n",
       "      <td>2.000000</td>\n",
       "      <td>4.000000</td>\n",
       "      <td>13.000000</td>\n",
       "    </tr>\n",
       "    <tr>\n",
       "      <th>max</th>\n",
       "      <td>3.000000</td>\n",
       "      <td>10.000000</td>\n",
       "      <td>15.000000</td>\n",
       "    </tr>\n",
       "    <tr>\n",
       "      <th rowspan=\"8\" valign=\"top\">Total_calls_made</th>\n",
       "      <th>count</th>\n",
       "      <td>386.000000</td>\n",
       "      <td>224.000000</td>\n",
       "      <td>50.000000</td>\n",
       "    </tr>\n",
       "    <tr>\n",
       "      <th>mean</th>\n",
       "      <td>2.000000</td>\n",
       "      <td>6.870536</td>\n",
       "      <td>1.080000</td>\n",
       "    </tr>\n",
       "    <tr>\n",
       "      <th>std</th>\n",
       "      <td>1.430648</td>\n",
       "      <td>1.990161</td>\n",
       "      <td>0.876915</td>\n",
       "    </tr>\n",
       "    <tr>\n",
       "      <th>min</th>\n",
       "      <td>0.000000</td>\n",
       "      <td>1.000000</td>\n",
       "      <td>0.000000</td>\n",
       "    </tr>\n",
       "    <tr>\n",
       "      <th>25%</th>\n",
       "      <td>1.000000</td>\n",
       "      <td>5.000000</td>\n",
       "      <td>0.000000</td>\n",
       "    </tr>\n",
       "    <tr>\n",
       "      <th>50%</th>\n",
       "      <td>2.000000</td>\n",
       "      <td>7.000000</td>\n",
       "      <td>1.000000</td>\n",
       "    </tr>\n",
       "    <tr>\n",
       "      <th>75%</th>\n",
       "      <td>3.000000</td>\n",
       "      <td>9.000000</td>\n",
       "      <td>2.000000</td>\n",
       "    </tr>\n",
       "    <tr>\n",
       "      <th>max</th>\n",
       "      <td>4.000000</td>\n",
       "      <td>10.000000</td>\n",
       "      <td>3.000000</td>\n",
       "    </tr>\n",
       "  </tbody>\n",
       "</table>\n",
       "</div>"
      ],
      "text/plain": [
       "GROUP                                  0             1              2\n",
       "Avg_Credit_Limit    count     386.000000    224.000000      50.000000\n",
       "                    mean    33782.383420  12174.107143  141040.000000\n",
       "                    std     22169.460696   5249.048524   34457.877272\n",
       "                    min      5000.000000   3000.000000   84000.000000\n",
       "                    25%     13000.000000   8000.000000  108750.000000\n",
       "                    50%     31000.000000  12000.000000  145500.000000\n",
       "                    75%     52000.000000  16000.000000  170000.000000\n",
       "                    max    100000.000000  50000.000000  200000.000000\n",
       "Total_Credit_Cards  count     386.000000    224.000000      50.000000\n",
       "                    mean        5.515544      2.410714       8.740000\n",
       "                    std         1.140069      1.100783       1.274715\n",
       "                    min         2.000000      1.000000       5.000000\n",
       "                    25%         4.000000      1.000000       8.000000\n",
       "                    50%         6.000000      2.000000       9.000000\n",
       "                    75%         6.000000      3.000000      10.000000\n",
       "                    max         7.000000      4.000000      10.000000\n",
       "Total_visits_bank   count     386.000000    224.000000      50.000000\n",
       "                    mean        3.489637      0.933036       0.600000\n",
       "                    std         1.135563      0.803567       0.494872\n",
       "                    min         1.000000      0.000000       0.000000\n",
       "                    25%         3.000000      0.000000       0.000000\n",
       "                    50%         3.000000      1.000000       1.000000\n",
       "                    75%         5.000000      2.000000       1.000000\n",
       "                    max         5.000000      2.000000       1.000000\n",
       "Total_visits_online count     386.000000    224.000000      50.000000\n",
       "                    mean        0.981865      3.553571      10.900000\n",
       "                    std         0.857167      1.218978       2.880264\n",
       "                    min         0.000000      1.000000       6.000000\n",
       "                    25%         0.000000      2.000000       8.000000\n",
       "                    50%         1.000000      4.000000      11.000000\n",
       "                    75%         2.000000      4.000000      13.000000\n",
       "                    max         3.000000     10.000000      15.000000\n",
       "Total_calls_made    count     386.000000    224.000000      50.000000\n",
       "                    mean        2.000000      6.870536       1.080000\n",
       "                    std         1.430648      1.990161       0.876915\n",
       "                    min         0.000000      1.000000       0.000000\n",
       "                    25%         1.000000      5.000000       0.000000\n",
       "                    50%         2.000000      7.000000       1.000000\n",
       "                    75%         3.000000      9.000000       2.000000\n",
       "                    max         4.000000     10.000000       3.000000"
      ]
     },
     "execution_count": 32,
     "metadata": {},
     "output_type": "execute_result"
    }
   ],
   "source": [
    "techSuppClust.describe().T"
   ]
  },
  {
   "cell_type": "code",
   "execution_count": 33,
   "metadata": {
    "colab": {
     "base_uri": "https://localhost:8080/",
     "height": 466
    },
    "id": "2gHOljcz5oQR",
    "outputId": "9db0ca78-4b4d-415c-eacf-581fe7795a66"
   },
   "outputs": [
    {
     "data": {
      "text/plain": [
       "array([<AxesSubplot:title={'center':'Avg_Credit_Limit'}, xlabel='[GROUP]'>,\n",
       "       <AxesSubplot:title={'center':'Total_Credit_Cards'}, xlabel='[GROUP]'>,\n",
       "       <AxesSubplot:title={'center':'Total_calls_made'}, xlabel='[GROUP]'>,\n",
       "       <AxesSubplot:title={'center':'Total_visits_bank'}, xlabel='[GROUP]'>,\n",
       "       <AxesSubplot:title={'center':'Total_visits_online'}, xlabel='[GROUP]'>],\n",
       "      dtype=object)"
      ]
     },
     "execution_count": 33,
     "metadata": {},
     "output_type": "execute_result"
    },
    {
     "data": {
      "image/png": "[encoded data removed]",
      "text/plain": [
       "<Figure size 1080x360 with 5 Axes>"
      ]
     },
     "metadata": {
      "needs_background": "light"
     },
     "output_type": "display_data"
    }
   ],
   "source": [
    "pdata_K_3_scaled.boxplot(by='GROUP', layout = (1,5),figsize=(15,5))"
   ]
  },
  {
   "cell_type": "markdown",
   "metadata": {
    "id": "KNd3jaNEBBsx"
   },
   "source": [
    "### **`Observations:`** \n",
    "\n",
    "<a href = #link101> Back to Index </a>\n",
    "\n",
    "1. There are three clusters that are well segmented, and seem fairly isolated from each other. These three clusters are:\n",
    "\n",
    "  a. Cluster 1: 224 customers are segmented in this cluster. These customers have lowest Avg_Credit_Limit and Total_Credit_Cards. They are middle when it comes to Total_visits_bank and Total_visits_online. But they have highest values for Total_calls_made amongst the three clusters. Overall, for this cluster, preferred mode of communication is: calls > bank visit > online\n",
    "\n",
    "  b.  Cluster 0: More than 50% (386) customers are segmented in this cluster. These customers have higher values for Avg_Credit_Limit and Total_Credit_Cards than cluster 1 but lower values than cluster 2. They are middle when it comes to Total_calls_made. They have lowest value for Total_visits_online. But they have highest values for Total_visits_bank amongst the three clusters. Overall, for this cluster, preferred mode of communication is: bank visit > calls > online\n",
    "\n",
    "  a. Cluster 2: 50 customers are segmented in this cluster. These customers have highest values for Avg_Credit_Limit, Total_visits_online, and Total_Credit_Cards. But they have lowest values for Total_visits_bank and Total_calls_made amongst the three clusters. Overall, for this cluster, preferred mode of communication is: online > calls > bank visit\n",
    "\n",
    "\n",
    "2. Attribute wise, the the values in cluster can be given as:\n",
    "\n",
    "  a. Avg_Credit_Limit: 2 > 0 > 1\n",
    "  \n",
    "  b. Total_Credit_Cards: 2 > 0 > 1\n",
    "  \n",
    "  c. Total_visits_bank:\t0 > 1 > 2\n",
    "  \n",
    "  d. Total_visits_online: 2 > 1 > 0\n",
    "  \n",
    "  e. Total_calls_made: 1 > 0 > 2"
   ]
  },
  {
   "cell_type": "code",
   "execution_count": 34,
   "metadata": {
    "colab": {
     "base_uri": "https://localhost:8080/",
     "height": 248
    },
    "id": "ahkGL4ekoR4n",
    "outputId": "709328a6-d737-4a33-d4a4-a0689c357fac"
   },
   "outputs": [
    {
     "name": "stdout",
     "output_type": "stream",
     "text": [
      "0.3556670619372605\n",
      "Groups Assigned : \n",
      "\n"
     ]
    },
    {
     "data": {
      "text/html": [
       "<div>\n",
       "<style scoped>\n",
       "    .dataframe tbody tr th:only-of-type {\n",
       "        vertical-align: middle;\n",
       "    }\n",
       "\n",
       "    .dataframe tbody tr th {\n",
       "        vertical-align: top;\n",
       "    }\n",
       "\n",
       "    .dataframe thead th {\n",
       "        text-align: right;\n",
       "    }\n",
       "</style>\n",
       "<table border=\"1\" class=\"dataframe\">\n",
       "  <thead>\n",
       "    <tr style=\"text-align: right;\">\n",
       "      <th></th>\n",
       "      <th>Avg_Credit_Limit</th>\n",
       "      <th>Total_Credit_Cards</th>\n",
       "      <th>Total_visits_bank</th>\n",
       "      <th>Total_visits_online</th>\n",
       "      <th>Total_calls_made</th>\n",
       "      <th>GROUP</th>\n",
       "    </tr>\n",
       "  </thead>\n",
       "  <tbody>\n",
       "    <tr>\n",
       "      <th>0</th>\n",
       "      <td>100000</td>\n",
       "      <td>2</td>\n",
       "      <td>1</td>\n",
       "      <td>1</td>\n",
       "      <td>0</td>\n",
       "      <td>3</td>\n",
       "    </tr>\n",
       "    <tr>\n",
       "      <th>1</th>\n",
       "      <td>50000</td>\n",
       "      <td>3</td>\n",
       "      <td>0</td>\n",
       "      <td>10</td>\n",
       "      <td>9</td>\n",
       "      <td>1</td>\n",
       "    </tr>\n",
       "    <tr>\n",
       "      <th>2</th>\n",
       "      <td>50000</td>\n",
       "      <td>7</td>\n",
       "      <td>1</td>\n",
       "      <td>3</td>\n",
       "      <td>4</td>\n",
       "      <td>3</td>\n",
       "    </tr>\n",
       "    <tr>\n",
       "      <th>3</th>\n",
       "      <td>30000</td>\n",
       "      <td>5</td>\n",
       "      <td>1</td>\n",
       "      <td>1</td>\n",
       "      <td>4</td>\n",
       "      <td>3</td>\n",
       "    </tr>\n",
       "    <tr>\n",
       "      <th>4</th>\n",
       "      <td>100000</td>\n",
       "      <td>6</td>\n",
       "      <td>0</td>\n",
       "      <td>12</td>\n",
       "      <td>3</td>\n",
       "      <td>2</td>\n",
       "    </tr>\n",
       "  </tbody>\n",
       "</table>\n",
       "</div>"
      ],
      "text/plain": [
       "   Avg_Credit_Limit  Total_Credit_Cards  Total_visits_bank  \\\n",
       "0            100000                   2                  1   \n",
       "1             50000                   3                  0   \n",
       "2             50000                   7                  1   \n",
       "3             30000                   5                  1   \n",
       "4            100000                   6                  0   \n",
       "\n",
       "   Total_visits_online  Total_calls_made  GROUP  \n",
       "0                    1                 0      3  \n",
       "1                   10                 9      1  \n",
       "2                    3                 4      3  \n",
       "3                    1                 4      3  \n",
       "4                   12                 3      2  "
      ]
     },
     "execution_count": 34,
     "metadata": {},
     "output_type": "execute_result"
    }
   ],
   "source": [
    "# Let us now try with K = 4\n",
    "final_model=KMeans(4)\n",
    "final_model.fit(pdataScaled)\n",
    "prediction=final_model.predict(pdataScaled)\n",
    "\n",
    "silhoutte_avg = silhouette_score(pdataScaled,prediction)\n",
    "print(silhoutte_avg)\n",
    "\n",
    "#Append the prediction \n",
    "pdata_K_4 = pdata.copy()\n",
    "pdata_K_4[\"GROUP\"] = prediction\n",
    "pdata_K_4_scaled = pdataScaled.copy()\n",
    "pdata_K_4_scaled[\"GROUP\"] = prediction\n",
    "print(\"Groups Assigned : \\n\")\n",
    "pdata_K_4.head()"
   ]
  },
  {
   "cell_type": "code",
   "execution_count": 35,
   "metadata": {
    "colab": {
     "base_uri": "https://localhost:8080/",
     "height": 195
    },
    "id": "prujFIXw5qAt",
    "outputId": "d311aefa-b081-4c9e-af26-7733120adc37"
   },
   "outputs": [
    {
     "data": {
      "text/html": [
       "<div>\n",
       "<style scoped>\n",
       "    .dataframe tbody tr th:only-of-type {\n",
       "        vertical-align: middle;\n",
       "    }\n",
       "\n",
       "    .dataframe tbody tr th {\n",
       "        vertical-align: top;\n",
       "    }\n",
       "\n",
       "    .dataframe thead th {\n",
       "        text-align: right;\n",
       "    }\n",
       "</style>\n",
       "<table border=\"1\" class=\"dataframe\">\n",
       "  <thead>\n",
       "    <tr style=\"text-align: right;\">\n",
       "      <th>GROUP</th>\n",
       "      <th>0</th>\n",
       "      <th>1</th>\n",
       "      <th>2</th>\n",
       "      <th>3</th>\n",
       "    </tr>\n",
       "  </thead>\n",
       "  <tbody>\n",
       "    <tr>\n",
       "      <th>Avg_Credit_Limit</th>\n",
       "      <td>31226.315789</td>\n",
       "      <td>12167.420814</td>\n",
       "      <td>141040.00</td>\n",
       "      <td>35904.522613</td>\n",
       "    </tr>\n",
       "    <tr>\n",
       "      <th>Total_Credit_Cards</th>\n",
       "      <td>5.478947</td>\n",
       "      <td>2.393665</td>\n",
       "      <td>8.74</td>\n",
       "      <td>5.522613</td>\n",
       "    </tr>\n",
       "    <tr>\n",
       "      <th>Total_visits_bank</th>\n",
       "      <td>4.515789</td>\n",
       "      <td>0.927602</td>\n",
       "      <td>0.60</td>\n",
       "      <td>2.477387</td>\n",
       "    </tr>\n",
       "    <tr>\n",
       "      <th>Total_visits_online</th>\n",
       "      <td>1.010526</td>\n",
       "      <td>3.574661</td>\n",
       "      <td>10.90</td>\n",
       "      <td>0.969849</td>\n",
       "    </tr>\n",
       "    <tr>\n",
       "      <th>Total_calls_made</th>\n",
       "      <td>1.936842</td>\n",
       "      <td>6.923077</td>\n",
       "      <td>1.08</td>\n",
       "      <td>2.075377</td>\n",
       "    </tr>\n",
       "  </tbody>\n",
       "</table>\n",
       "</div>"
      ],
      "text/plain": [
       "GROUP                           0             1          2             3\n",
       "Avg_Credit_Limit     31226.315789  12167.420814  141040.00  35904.522613\n",
       "Total_Credit_Cards       5.478947      2.393665       8.74      5.522613\n",
       "Total_visits_bank        4.515789      0.927602       0.60      2.477387\n",
       "Total_visits_online      1.010526      3.574661      10.90      0.969849\n",
       "Total_calls_made         1.936842      6.923077       1.08      2.075377"
      ]
     },
     "execution_count": 35,
     "metadata": {},
     "output_type": "execute_result"
    }
   ],
   "source": [
    "techSuppClust = pdata_K_4.groupby(['GROUP'])\n",
    "#techSuppClust.describe().T\n",
    "techSuppClust.mean().T"
   ]
  },
  {
   "cell_type": "code",
   "execution_count": 36,
   "metadata": {
    "colab": {
     "base_uri": "https://localhost:8080/",
     "height": 1000
    },
    "id": "SrnoC2cDzzys",
    "outputId": "d24a7cbd-ffe3-406a-ed77-5b20f38c2139"
   },
   "outputs": [
    {
     "data": {
      "text/html": [
       "<div>\n",
       "<style scoped>\n",
       "    .dataframe tbody tr th:only-of-type {\n",
       "        vertical-align: middle;\n",
       "    }\n",
       "\n",
       "    .dataframe tbody tr th {\n",
       "        vertical-align: top;\n",
       "    }\n",
       "\n",
       "    .dataframe thead th {\n",
       "        text-align: right;\n",
       "    }\n",
       "</style>\n",
       "<table border=\"1\" class=\"dataframe\">\n",
       "  <thead>\n",
       "    <tr style=\"text-align: right;\">\n",
       "      <th></th>\n",
       "      <th>GROUP</th>\n",
       "      <th>0</th>\n",
       "      <th>1</th>\n",
       "      <th>2</th>\n",
       "      <th>3</th>\n",
       "    </tr>\n",
       "  </thead>\n",
       "  <tbody>\n",
       "    <tr>\n",
       "      <th rowspan=\"8\" valign=\"top\">Avg_Credit_Limit</th>\n",
       "      <th>count</th>\n",
       "      <td>190.000000</td>\n",
       "      <td>221.000000</td>\n",
       "      <td>50.000000</td>\n",
       "      <td>199.000000</td>\n",
       "    </tr>\n",
       "    <tr>\n",
       "      <th>mean</th>\n",
       "      <td>31226.315789</td>\n",
       "      <td>12167.420814</td>\n",
       "      <td>141040.000000</td>\n",
       "      <td>35904.522613</td>\n",
       "    </tr>\n",
       "    <tr>\n",
       "      <th>std</th>\n",
       "      <td>21659.127922</td>\n",
       "      <td>5263.426740</td>\n",
       "      <td>34457.877272</td>\n",
       "      <td>22451.652425</td>\n",
       "    </tr>\n",
       "    <tr>\n",
       "      <th>min</th>\n",
       "      <td>5000.000000</td>\n",
       "      <td>3000.000000</td>\n",
       "      <td>84000.000000</td>\n",
       "      <td>5000.000000</td>\n",
       "    </tr>\n",
       "    <tr>\n",
       "      <th>25%</th>\n",
       "      <td>12000.000000</td>\n",
       "      <td>8000.000000</td>\n",
       "      <td>108750.000000</td>\n",
       "      <td>16000.000000</td>\n",
       "    </tr>\n",
       "    <tr>\n",
       "      <th>50%</th>\n",
       "      <td>28000.000000</td>\n",
       "      <td>12000.000000</td>\n",
       "      <td>145500.000000</td>\n",
       "      <td>34000.000000</td>\n",
       "    </tr>\n",
       "    <tr>\n",
       "      <th>75%</th>\n",
       "      <td>47000.000000</td>\n",
       "      <td>16000.000000</td>\n",
       "      <td>170000.000000</td>\n",
       "      <td>56000.000000</td>\n",
       "    </tr>\n",
       "    <tr>\n",
       "      <th>max</th>\n",
       "      <td>75000.000000</td>\n",
       "      <td>50000.000000</td>\n",
       "      <td>200000.000000</td>\n",
       "      <td>100000.000000</td>\n",
       "    </tr>\n",
       "    <tr>\n",
       "      <th rowspan=\"8\" valign=\"top\">Total_Credit_Cards</th>\n",
       "      <th>count</th>\n",
       "      <td>190.000000</td>\n",
       "      <td>221.000000</td>\n",
       "      <td>50.000000</td>\n",
       "      <td>199.000000</td>\n",
       "    </tr>\n",
       "    <tr>\n",
       "      <th>mean</th>\n",
       "      <td>5.478947</td>\n",
       "      <td>2.393665</td>\n",
       "      <td>8.740000</td>\n",
       "      <td>5.522613</td>\n",
       "    </tr>\n",
       "    <tr>\n",
       "      <th>std</th>\n",
       "      <td>1.139516</td>\n",
       "      <td>1.097002</td>\n",
       "      <td>1.274715</td>\n",
       "      <td>1.158300</td>\n",
       "    </tr>\n",
       "    <tr>\n",
       "      <th>min</th>\n",
       "      <td>4.000000</td>\n",
       "      <td>1.000000</td>\n",
       "      <td>5.000000</td>\n",
       "      <td>2.000000</td>\n",
       "    </tr>\n",
       "    <tr>\n",
       "      <th>25%</th>\n",
       "      <td>4.000000</td>\n",
       "      <td>1.000000</td>\n",
       "      <td>8.000000</td>\n",
       "      <td>4.000000</td>\n",
       "    </tr>\n",
       "    <tr>\n",
       "      <th>50%</th>\n",
       "      <td>6.000000</td>\n",
       "      <td>2.000000</td>\n",
       "      <td>9.000000</td>\n",
       "      <td>6.000000</td>\n",
       "    </tr>\n",
       "    <tr>\n",
       "      <th>75%</th>\n",
       "      <td>6.000000</td>\n",
       "      <td>3.000000</td>\n",
       "      <td>10.000000</td>\n",
       "      <td>6.500000</td>\n",
       "    </tr>\n",
       "    <tr>\n",
       "      <th>max</th>\n",
       "      <td>7.000000</td>\n",
       "      <td>4.000000</td>\n",
       "      <td>10.000000</td>\n",
       "      <td>7.000000</td>\n",
       "    </tr>\n",
       "    <tr>\n",
       "      <th rowspan=\"8\" valign=\"top\">Total_visits_bank</th>\n",
       "      <th>count</th>\n",
       "      <td>190.000000</td>\n",
       "      <td>221.000000</td>\n",
       "      <td>50.000000</td>\n",
       "      <td>199.000000</td>\n",
       "    </tr>\n",
       "    <tr>\n",
       "      <th>mean</th>\n",
       "      <td>4.515789</td>\n",
       "      <td>0.927602</td>\n",
       "      <td>0.600000</td>\n",
       "      <td>2.477387</td>\n",
       "    </tr>\n",
       "    <tr>\n",
       "      <th>std</th>\n",
       "      <td>0.501071</td>\n",
       "      <td>0.800118</td>\n",
       "      <td>0.494872</td>\n",
       "      <td>0.557992</td>\n",
       "    </tr>\n",
       "    <tr>\n",
       "      <th>min</th>\n",
       "      <td>4.000000</td>\n",
       "      <td>0.000000</td>\n",
       "      <td>0.000000</td>\n",
       "      <td>0.000000</td>\n",
       "    </tr>\n",
       "    <tr>\n",
       "      <th>25%</th>\n",
       "      <td>4.000000</td>\n",
       "      <td>0.000000</td>\n",
       "      <td>0.000000</td>\n",
       "      <td>2.000000</td>\n",
       "    </tr>\n",
       "    <tr>\n",
       "      <th>50%</th>\n",
       "      <td>5.000000</td>\n",
       "      <td>1.000000</td>\n",
       "      <td>1.000000</td>\n",
       "      <td>3.000000</td>\n",
       "    </tr>\n",
       "    <tr>\n",
       "      <th>75%</th>\n",
       "      <td>5.000000</td>\n",
       "      <td>2.000000</td>\n",
       "      <td>1.000000</td>\n",
       "      <td>3.000000</td>\n",
       "    </tr>\n",
       "    <tr>\n",
       "      <th>max</th>\n",
       "      <td>5.000000</td>\n",
       "      <td>2.000000</td>\n",
       "      <td>1.000000</td>\n",
       "      <td>3.000000</td>\n",
       "    </tr>\n",
       "    <tr>\n",
       "      <th rowspan=\"8\" valign=\"top\">Total_visits_online</th>\n",
       "      <th>count</th>\n",
       "      <td>190.000000</td>\n",
       "      <td>221.000000</td>\n",
       "      <td>50.000000</td>\n",
       "      <td>199.000000</td>\n",
       "    </tr>\n",
       "    <tr>\n",
       "      <th>mean</th>\n",
       "      <td>1.010526</td>\n",
       "      <td>3.574661</td>\n",
       "      <td>10.900000</td>\n",
       "      <td>0.969849</td>\n",
       "    </tr>\n",
       "    <tr>\n",
       "      <th>std</th>\n",
       "      <td>0.878849</td>\n",
       "      <td>1.209842</td>\n",
       "      <td>2.880264</td>\n",
       "      <td>0.846320</td>\n",
       "    </tr>\n",
       "    <tr>\n",
       "      <th>min</th>\n",
       "      <td>0.000000</td>\n",
       "      <td>1.000000</td>\n",
       "      <td>6.000000</td>\n",
       "      <td>0.000000</td>\n",
       "    </tr>\n",
       "    <tr>\n",
       "      <th>25%</th>\n",
       "      <td>0.000000</td>\n",
       "      <td>3.000000</td>\n",
       "      <td>8.000000</td>\n",
       "      <td>0.000000</td>\n",
       "    </tr>\n",
       "    <tr>\n",
       "      <th>50%</th>\n",
       "      <td>1.000000</td>\n",
       "      <td>4.000000</td>\n",
       "      <td>11.000000</td>\n",
       "      <td>1.000000</td>\n",
       "    </tr>\n",
       "    <tr>\n",
       "      <th>75%</th>\n",
       "      <td>2.000000</td>\n",
       "      <td>4.000000</td>\n",
       "      <td>13.000000</td>\n",
       "      <td>2.000000</td>\n",
       "    </tr>\n",
       "    <tr>\n",
       "      <th>max</th>\n",
       "      <td>2.000000</td>\n",
       "      <td>10.000000</td>\n",
       "      <td>15.000000</td>\n",
       "      <td>3.000000</td>\n",
       "    </tr>\n",
       "    <tr>\n",
       "      <th rowspan=\"8\" valign=\"top\">Total_calls_made</th>\n",
       "      <th>count</th>\n",
       "      <td>190.000000</td>\n",
       "      <td>221.000000</td>\n",
       "      <td>50.000000</td>\n",
       "      <td>199.000000</td>\n",
       "    </tr>\n",
       "    <tr>\n",
       "      <th>mean</th>\n",
       "      <td>1.936842</td>\n",
       "      <td>6.923077</td>\n",
       "      <td>1.080000</td>\n",
       "      <td>2.075377</td>\n",
       "    </tr>\n",
       "    <tr>\n",
       "      <th>std</th>\n",
       "      <td>1.409045</td>\n",
       "      <td>1.944330</td>\n",
       "      <td>0.876915</td>\n",
       "      <td>1.456212</td>\n",
       "    </tr>\n",
       "    <tr>\n",
       "      <th>min</th>\n",
       "      <td>0.000000</td>\n",
       "      <td>2.000000</td>\n",
       "      <td>0.000000</td>\n",
       "      <td>0.000000</td>\n",
       "    </tr>\n",
       "    <tr>\n",
       "      <th>25%</th>\n",
       "      <td>1.000000</td>\n",
       "      <td>5.000000</td>\n",
       "      <td>0.000000</td>\n",
       "      <td>1.000000</td>\n",
       "    </tr>\n",
       "    <tr>\n",
       "      <th>50%</th>\n",
       "      <td>2.000000</td>\n",
       "      <td>7.000000</td>\n",
       "      <td>1.000000</td>\n",
       "      <td>2.000000</td>\n",
       "    </tr>\n",
       "    <tr>\n",
       "      <th>75%</th>\n",
       "      <td>3.000000</td>\n",
       "      <td>9.000000</td>\n",
       "      <td>2.000000</td>\n",
       "      <td>3.000000</td>\n",
       "    </tr>\n",
       "    <tr>\n",
       "      <th>max</th>\n",
       "      <td>4.000000</td>\n",
       "      <td>10.000000</td>\n",
       "      <td>3.000000</td>\n",
       "      <td>4.000000</td>\n",
       "    </tr>\n",
       "  </tbody>\n",
       "</table>\n",
       "</div>"
      ],
      "text/plain": [
       "GROUP                                 0             1              2  \\\n",
       "Avg_Credit_Limit    count    190.000000    221.000000      50.000000   \n",
       "                    mean   31226.315789  12167.420814  141040.000000   \n",
       "                    std    21659.127922   5263.426740   34457.877272   \n",
       "                    min     5000.000000   3000.000000   84000.000000   \n",
       "                    25%    12000.000000   8000.000000  108750.000000   \n",
       "                    50%    28000.000000  12000.000000  145500.000000   \n",
       "                    75%    47000.000000  16000.000000  170000.000000   \n",
       "                    max    75000.000000  50000.000000  200000.000000   \n",
       "Total_Credit_Cards  count    190.000000    221.000000      50.000000   \n",
       "                    mean       5.478947      2.393665       8.740000   \n",
       "                    std        1.139516      1.097002       1.274715   \n",
       "                    min        4.000000      1.000000       5.000000   \n",
       "                    25%        4.000000      1.000000       8.000000   \n",
       "                    50%        6.000000      2.000000       9.000000   \n",
       "                    75%        6.000000      3.000000      10.000000   \n",
       "                    max        7.000000      4.000000      10.000000   \n",
       "Total_visits_bank   count    190.000000    221.000000      50.000000   \n",
       "                    mean       4.515789      0.927602       0.600000   \n",
       "                    std        0.501071      0.800118       0.494872   \n",
       "                    min        4.000000      0.000000       0.000000   \n",
       "                    25%        4.000000      0.000000       0.000000   \n",
       "                    50%        5.000000      1.000000       1.000000   \n",
       "                    75%        5.000000      2.000000       1.000000   \n",
       "                    max        5.000000      2.000000       1.000000   \n",
       "Total_visits_online count    190.000000    221.000000      50.000000   \n",
       "                    mean       1.010526      3.574661      10.900000   \n",
       "                    std        0.878849      1.209842       2.880264   \n",
       "                    min        0.000000      1.000000       6.000000   \n",
       "                    25%        0.000000      3.000000       8.000000   \n",
       "                    50%        1.000000      4.000000      11.000000   \n",
       "                    75%        2.000000      4.000000      13.000000   \n",
       "                    max        2.000000     10.000000      15.000000   \n",
       "Total_calls_made    count    190.000000    221.000000      50.000000   \n",
       "                    mean       1.936842      6.923077       1.080000   \n",
       "                    std        1.409045      1.944330       0.876915   \n",
       "                    min        0.000000      2.000000       0.000000   \n",
       "                    25%        1.000000      5.000000       0.000000   \n",
       "                    50%        2.000000      7.000000       1.000000   \n",
       "                    75%        3.000000      9.000000       2.000000   \n",
       "                    max        4.000000     10.000000       3.000000   \n",
       "\n",
       "GROUP                                  3  \n",
       "Avg_Credit_Limit    count     199.000000  \n",
       "                    mean    35904.522613  \n",
       "                    std     22451.652425  \n",
       "                    min      5000.000000  \n",
       "                    25%     16000.000000  \n",
       "                    50%     34000.000000  \n",
       "                    75%     56000.000000  \n",
       "                    max    100000.000000  \n",
       "Total_Credit_Cards  count     199.000000  \n",
       "                    mean        5.522613  \n",
       "                    std         1.158300  \n",
       "                    min         2.000000  \n",
       "                    25%         4.000000  \n",
       "                    50%         6.000000  \n",
       "                    75%         6.500000  \n",
       "                    max         7.000000  \n",
       "Total_visits_bank   count     199.000000  \n",
       "                    mean        2.477387  \n",
       "                    std         0.557992  \n",
       "                    min         0.000000  \n",
       "                    25%         2.000000  \n",
       "                    50%         3.000000  \n",
       "                    75%         3.000000  \n",
       "                    max         3.000000  \n",
       "Total_visits_online count     199.000000  \n",
       "                    mean        0.969849  \n",
       "                    std         0.846320  \n",
       "                    min         0.000000  \n",
       "                    25%         0.000000  \n",
       "                    50%         1.000000  \n",
       "                    75%         2.000000  \n",
       "                    max         3.000000  \n",
       "Total_calls_made    count     199.000000  \n",
       "                    mean        2.075377  \n",
       "                    std         1.456212  \n",
       "                    min         0.000000  \n",
       "                    25%         1.000000  \n",
       "                    50%         2.000000  \n",
       "                    75%         3.000000  \n",
       "                    max         4.000000  "
      ]
     },
     "execution_count": 36,
     "metadata": {},
     "output_type": "execute_result"
    }
   ],
   "source": [
    "techSuppClust.describe().T"
   ]
  },
  {
   "cell_type": "code",
   "execution_count": 37,
   "metadata": {
    "colab": {
     "base_uri": "https://localhost:8080/",
     "height": 466
    },
    "id": "UsIoFlvroY7L",
    "outputId": "773bed51-b32c-4585-d485-70cc85b005fa"
   },
   "outputs": [
    {
     "data": {
      "text/plain": [
       "array([<AxesSubplot:title={'center':'Avg_Credit_Limit'}, xlabel='[GROUP]'>,\n",
       "       <AxesSubplot:title={'center':'Total_Credit_Cards'}, xlabel='[GROUP]'>,\n",
       "       <AxesSubplot:title={'center':'Total_calls_made'}, xlabel='[GROUP]'>,\n",
       "       <AxesSubplot:title={'center':'Total_visits_bank'}, xlabel='[GROUP]'>,\n",
       "       <AxesSubplot:title={'center':'Total_visits_online'}, xlabel='[GROUP]'>],\n",
       "      dtype=object)"
      ]
     },
     "execution_count": 37,
     "metadata": {},
     "output_type": "execute_result"
    },
    {
     "data": {
      "image/png": "[encoded data removed]",
      "text/plain": [
       "<Figure size 1080x360 with 5 Axes>"
      ]
     },
     "metadata": {
      "needs_background": "light"
     },
     "output_type": "display_data"
    }
   ],
   "source": [
    "#techSuppClust = pdata_K_4.groupby(['GROUP'])\n",
    "#techSuppClust.describe().T\n",
    "pdata_K_4_scaled.boxplot(by='GROUP', layout = (1,5),figsize=(15,5))"
   ]
  },
  {
   "cell_type": "markdown",
   "metadata": {
    "id": "3CU26imJBMom"
   },
   "source": [
    "### **`Observations:`** \n",
    "\n",
    "<a href = #link101> Back to Index </a>\n",
    "\n",
    "1. ***Note***: For K = 4, the observations for silhouette_score have already been provided. The average silhouette_score for k = 4 is less than that for k = 3. Also, after observing the silhouette_score plot for k = 4 and k = 3, it was inferred that two of the 4 clusters in k = 4 are similar to those at k = 3. They even have almost same number of elements in them. Remaining two clusters of k = 4 are formed by splitting cluster 0 of k = 3.\n",
    "2. Clusters 0 and 3 don't have much significant difference. Therefore, there might be some fuzzy overlap between them, which explains overall silhoutte score being low.\n",
    "3. The difference between cluster 0 and 3 is not consistent also. E.g. min value for Total_Credit_Cards for cluster 0 is greater than that for cluster 3. But remaining values for Total_Credit_Cards for cluster 3 are greater than cluster 0.\n",
    "4. Remaining observations on cluster patterns are similar to those of k = 3, and therefore, are not noted here to avoid redundant comments."
   ]
  },
  {
   "cell_type": "markdown",
   "metadata": {
    "id": "jea-hamHRHAf"
   },
   "source": [
    "# **`Deliverable – 4`** <a id = \"link105\"></a>\n",
    "\n",
    "<a href = #link101> Back to Index </a>"
   ]
  },
  {
   "cell_type": "markdown",
   "metadata": {
    "id": "sqq32I0MROUS"
   },
   "source": [
    "## **`Approach:`** \n",
    "\n",
    "<a href = #link101> Back to Index </a>\n",
    "\n",
    "1. Use AgglomerativeClustering (hierarchical clustering) to form clusters of data.\n",
    "2. ***How to determine the final model:*** Following approach is used:\n",
    "  \n",
    "  a. Use different AgglomerativeClustering models (try for different number of clusters and linkages). Calculate average silhouette_score for each of them. Choose best two models.\n",
    "  \n",
    "  b. For those two models silhouette_scores.\n",
    "  \n",
    "  c. Analyse Clusters Formed for The Chosen Models Using Boxplot. Choose the final model.\n",
    "\n",
    "  d. Dendrogram And Cophenetic Coeff."
   ]
  },
  {
   "cell_type": "code",
   "execution_count": 38,
   "metadata": {
    "colab": {
     "base_uri": "https://localhost:8080/"
    },
    "id": "8MXWwCSHqtj1",
    "outputId": "85826e0f-4579-4a34-cdb2-6afaee255c0a"
   },
   "outputs": [
    {
     "name": "stdout",
     "output_type": "stream",
     "text": [
      "For  2  clusters, the average silhoutte score is:  0.5703183487340514\n",
      "For  3  clusters, the average silhoutte score is:  0.515922432650965\n",
      "For  4  clusters, the average silhoutte score is:  0.47495143595793504\n",
      "For  5  clusters, the average silhoutte score is:  0.44039753024783956\n",
      "For  6  clusters, the average silhoutte score is:  0.4153547954831452\n",
      "For  7  clusters, the average silhoutte score is:  0.4183775674672025\n",
      "For  8  clusters, the average silhoutte score is:  0.34306710358280806\n",
      "For  9  clusters, the average silhoutte score is:  0.3415486932890892\n"
     ]
    }
   ],
   "source": [
    "for k in clusters:\n",
    "    model = AgglomerativeClustering(n_clusters=k, affinity='euclidean',  linkage='average')\n",
    "    model.fit_predict(pdataScaled)\n",
    "    y = model.labels_\n",
    "    #prediction=model.predict(pdataScaled)\n",
    "    silhoutte_avg = silhouette_score(pdataScaled, y)\n",
    "    print(\"For \", k, \" clusters, the average silhoutte score is: \", silhoutte_avg)\n"
   ]
  },
  {
   "cell_type": "code",
   "execution_count": 39,
   "metadata": {
    "colab": {
     "base_uri": "https://localhost:8080/"
    },
    "id": "-eFNSLwPvsF-",
    "outputId": "8f75f4c0-f808-4cfe-a3f7-6314809e6c27"
   },
   "outputs": [
    {
     "name": "stdout",
     "output_type": "stream",
     "text": [
      "Number of Clusters:  2\n",
      "For n_clusters = 2  and linkage = ward The average silhouette_score is : 0.417704147620949\n",
      "For n_clusters = 2  and linkage = complete The average silhouette_score is : 0.5703183487340514\n",
      "For n_clusters = 2  and linkage = average The average silhouette_score is : 0.5703183487340514\n",
      "For n_clusters = 2  and linkage = single The average silhouette_score is : 0.2739862994346327\n",
      "Number of Clusters:  3\n",
      "For n_clusters = 3  and linkage = ward The average silhouette_score is : 0.5147639589977819\n",
      "For n_clusters = 3  and linkage = complete The average silhouette_score is : 0.5026435522438492\n",
      "For n_clusters = 3  and linkage = average The average silhouette_score is : 0.515922432650965\n",
      "For n_clusters = 3  and linkage = single The average silhouette_score is : 0.3742893091424411\n",
      "Number of Clusters:  4\n",
      "For n_clusters = 4  and linkage = ward The average silhouette_score is : 0.3480822581261928\n",
      "For n_clusters = 4  and linkage = complete The average silhouette_score is : 0.3052705270877273\n",
      "For n_clusters = 4  and linkage = average The average silhouette_score is : 0.47495143595793504\n",
      "For n_clusters = 4  and linkage = single The average silhouette_score is : 0.21203755185628592\n",
      "Number of Clusters:  5\n",
      "For n_clusters = 5  and linkage = ward The average silhouette_score is : 0.2569177732675831\n",
      "For n_clusters = 5  and linkage = complete The average silhouette_score is : 0.2795859403678087\n",
      "For n_clusters = 5  and linkage = average The average silhouette_score is : 0.44039753024783956\n",
      "For n_clusters = 5  and linkage = single The average silhouette_score is : 0.18361418805018428\n"
     ]
    }
   ],
   "source": [
    "import matplotlib.cm as cm\n",
    "\n",
    "range_n_clusters= range(2,6)\n",
    "\n",
    "for k in range_n_clusters:    \n",
    "    print(\"Number of Clusters: \", k)\n",
    "\n",
    "    # Initialize the clusterer with n_clusters value and a random generator\n",
    "    # seed of 10 for reproducibility.\n",
    "    for link_ in [\"ward\", \"complete\", \"average\", \"single\"]:\n",
    "      clusterer = AgglomerativeClustering(n_clusters=k, affinity='euclidean',  linkage= link_)\n",
    "      cluster_labels = clusterer.fit_predict(pdataScaled)\n",
    "      silhouette_avg = silhouette_score(pdataScaled, cluster_labels)\n",
    "      print(\"For n_clusters =\", k, \" and linkage = \" + link_ +\n",
    "          \" The average silhouette_score is :\", silhouette_avg)"
   ]
  },
  {
   "cell_type": "markdown",
   "metadata": {
    "id": "JlhUWkjw_Mz3"
   },
   "source": [
    "From Above Results, it can be observed that \"n_clusters = 2\" and \"linkage = average or linkage = complete\" show the best average silhouette_score of \"0.5703183487340514\".\n",
    "\n",
    "Second best result is shown by "
   ]
  },
  {
   "cell_type": "code",
   "execution_count": 40,
   "metadata": {
    "colab": {
     "base_uri": "https://localhost:8080/",
     "height": 1000
    },
    "id": "7kqkmrj9-d8S",
    "outputId": "7a8081a0-0994-4cbd-d305-97b087796680"
   },
   "outputs": [
    {
     "name": "stdout",
     "output_type": "stream",
     "text": [
      "For n_clusters = 2 The average silhouette_score is : 0.5703183487340514\n",
      "For n_clusters = 3 The average silhouette_score is : 0.515922432650965\n",
      "For n_clusters = 4 The average silhouette_score is : 0.47495143595793504\n"
     ]
    },
    {
     "data": {
      "image/png": "[encoded data removed]",
      "text/plain": [
       "<Figure size 1008x576 with 1 Axes>"
      ]
     },
     "metadata": {
      "needs_background": "light"
     },
     "output_type": "display_data"
    },
    {
     "data": {
      "image/png": "[encoded data removed]",
      "text/plain": [
       "<Figure size 1008x576 with 1 Axes>"
      ]
     },
     "metadata": {
      "needs_background": "light"
     },
     "output_type": "display_data"
    },
    {
     "data": {
      "image/png": "[encoded data removed]",
      "text/plain": [
       "<Figure size 1008x576 with 1 Axes>"
      ]
     },
     "metadata": {
      "needs_background": "light"
     },
     "output_type": "display_data"
    }
   ],
   "source": [
    "range_n_clusters=[2, 3, 4]\n",
    "\n",
    "for n_clusters in range_n_clusters:\n",
    "    # Create a subplot with 1 row and 2 columns\n",
    "    fig, (ax1) = plt.subplots(1, 1)\n",
    "    fig.set_size_inches(14, 8)\n",
    "\n",
    "    # The 1st subplot is the silhouette plot\n",
    "    # The silhouette coefficient can range from -1, 1\n",
    "    ax1.set_xlim([-0.1, 1])\n",
    "    # The (n_clusters+1)*10 is for inserting blank space between silhouette\n",
    "    # plots of individual clusters, to demarcate them clearly.\n",
    "    ax1.set_ylim([0, len(pdataScaled) + (n_clusters + 1) * 10])\n",
    "\n",
    "    # Initialize the clusterer with n_clusters value and a random generator\n",
    "    # seed of 10 for reproducibility.\n",
    "    clusterer = AgglomerativeClustering(n_clusters=n_clusters, affinity='euclidean',  linkage= \"average\")\n",
    "    cluster_labels = clusterer.fit_predict(pdataScaled)\n",
    "\n",
    "    # The silhouette_score gives the average value for all the samples.\n",
    "    # This gives a perspective into the density and separation of the formed\n",
    "    # clusters\n",
    "    silhouette_avg = silhouette_score(pdataScaled, cluster_labels)\n",
    "    print(\"For n_clusters =\", n_clusters,\n",
    "          \"The average silhouette_score is :\", silhouette_avg)\n",
    "\n",
    "    # Compute the silhouette scores for each sample\n",
    "    sample_silhouette_values = silhouette_samples(pdataScaled, cluster_labels)\n",
    "\n",
    "    y_lower = 10\n",
    "    for i in range(n_clusters):\n",
    "        # Aggregate the silhouette scores for samples belonging to\n",
    "        # cluster i, and sort them\n",
    "        ith_cluster_silhouette_values = \\\n",
    "            sample_silhouette_values[cluster_labels == i]\n",
    "\n",
    "        ith_cluster_silhouette_values.sort()\n",
    "\n",
    "        size_cluster_i = ith_cluster_silhouette_values.shape[0]\n",
    "        y_upper = y_lower + size_cluster_i\n",
    "\n",
    "        color = cm.nipy_spectral(float(i) / n_clusters)\n",
    "        ax1.fill_betweenx(np.arange(y_lower, y_upper),\n",
    "                          0, ith_cluster_silhouette_values,\n",
    "                          facecolor=color, edgecolor=color, alpha=0.7)\n",
    "\n",
    "        # Label the silhouette plots with their cluster numbers at the middle\n",
    "        ax1.text(-0.05, y_lower + 0.5 * size_cluster_i, str(i))\n",
    "\n",
    "        # Compute the new y_lower for next plot\n",
    "        y_lower = y_upper + 10  # 10 for the 0 samples\n",
    "\n",
    "    ax1.set_title(\"The silhouette plot for the various clusters.\")\n",
    "    ax1.set_xlabel(\"The silhouette coefficient values\")\n",
    "    ax1.set_ylabel(\"Cluster label\")\n",
    "\n",
    "    # The vertical line for average silhouette score of all the values\n",
    "    ax1.axvline(x=silhouette_avg, color=\"red\", linestyle=\"--\")\n",
    "\n",
    "    ax1.set_yticks([])  # Clear the yaxis labels / ticks\n",
    "    ax1.set_xticks([-0.1, 0, 0.2, 0.4, 0.6, 0.8, 1])\n",
    "\n",
    "    plt.suptitle((\"Silhouette analysis for KMeans clustering on sample data \"\n",
    "                  \"with n_clusters = %d\" % n_clusters),\n",
    "                 fontsize=14, fontweight='bold')\n",
    "\n",
    "plt.show()"
   ]
  },
  {
   "cell_type": "markdown",
   "metadata": {
    "id": "ihnfJqf-053z"
   },
   "source": [
    "### **`Observations:`** \n",
    "\n",
    "<a href = #link101> Back to Index </a>\n",
    "\n",
    "1. __Comparison between n_clusters = 2 and n_clusters = 3__: \n",
    "\n",
    "  a. Average silhoutte score is more for n_clusters = 2 than n_clusters = 3\n",
    "  \n",
    "  b. Cluster / Label 1 looks exactly the same in both cases. \n",
    "  \n",
    "  c. Cluster 0 is much bigger in size compared to Cluster 1 in case of n_clusters = 2. Therefore, it is worth breaking it down further. This breakdown is performed by n_clusters = 3.\n",
    "\n",
    "  d. There are some slight negative cases for Cluster 0 in case of n_clusters = 3. However, it is less than -0.1. Therefore, it may be good to progress with this unless any contradictions.\n",
    "\n",
    "2. __Comparison between n_clusters = 3 and n_clusters = 4__:\n",
    "\n",
    "  a. No visible cases of Cluster 3 in case of n_clusters = 4 on plot. Therefore, it can be inferred that this cluster contains no or low number of records.\n",
    "\n",
    "  b. Except for the fact that there is a 4th cluster with no or low number of records in case of n_clusters = 4, the remaining clusters look almost the same for both n_clusters = 3 and n_clusters = 4. The cluster labels might be different.\n",
    "\n",
    "  c. Average silhoutte score is more for n_clusters = 3 than n_clusters = 4.\n",
    "\n",
    "__Conclusion:__\n",
    "\n",
    "Although n_clusters = 2 has the highest Average silhoutte score amongst n_clusters = [2, 3, 4], it doesn't fully explain the data. Therefore, based on the comparisons above, n_clusters = 3 seems the best value. Additional in-depth comparison will be performed to support this conclusion.\n"
   ]
  },
  {
   "cell_type": "code",
   "execution_count": 41,
   "metadata": {
    "colab": {
     "base_uri": "https://localhost:8080/"
    },
    "id": "M5GQI_CB7w1Z",
    "outputId": "fcd41aa1-ac84-43e7-c832-ac6787247e59"
   },
   "outputs": [
    {
     "name": "stdout",
     "output_type": "stream",
     "text": [
      "Method: average , cophenet:  0.8977080867389372\n",
      "Method: single , cophenet:  0.7391220243806552\n",
      "Method: complete , cophenet:  0.8599730607972423\n",
      "Method: weighted , cophenet:  0.8861746814895477\n",
      "Method: centroid , cophenet:  0.8939385846326323\n",
      "Method: median , cophenet:  0.8893799537016724\n",
      "Method: ward , cophenet:  0.7415156284827493\n"
     ]
    }
   ],
   "source": [
    "# cophenet index is a measure of the correlation between the distance of points in feature space and distance on dendrogram\n",
    "# closer it is to 1, the better is the clustering\n",
    "\n",
    "for i in [\"average\", \"single\", \"complete\", \"weighted\", \"centroid\", \"median\", \"ward\"]:\n",
    "  Z = linkage(pdataScaled, metric='euclidean', method=i)\n",
    "  c, coph_dists = cophenet(Z , pdist(pdataScaled))\n",
    "  print(\"Method:\", i, \", cophenet: \", c)"
   ]
  },
  {
   "cell_type": "markdown",
   "metadata": {
    "id": "ILjO4ke_7g85"
   },
   "source": [
    "### **`Observations:`** \n",
    "\n",
    "<a href = #link101> Back to Index </a>\n",
    "\n",
    "For method = average, coefficient score is: 0.8977080867389372. While creating model also, linkage method used is the same, i.e. average. This indicates that there is a very high correlation between dendogram distance and euclidean distance. It means that our dendogram is performing well to explain the overall data."
   ]
  },
  {
   "cell_type": "code",
   "execution_count": 42,
   "metadata": {
    "colab": {
     "base_uri": "https://localhost:8080/",
     "height": 369
    },
    "id": "4f5Xb9tKrXCL",
    "outputId": "5db5a5c8-0dff-47f7-e05b-5fba74be2366"
   },
   "outputs": [
    {
     "data": {
      "image/png": "[encoded data removed]",
      "text/plain": [
       "<Figure size 720x360 with 1 Axes>"
      ]
     },
     "metadata": {
      "needs_background": "light"
     },
     "output_type": "display_data"
    }
   ],
   "source": [
    "plt.figure(figsize=(10, 5))\n",
    "plt.title('Agglomerative Hierarchical Clustering Dendogram')\n",
    "plt.xlabel('sample index')\n",
    "plt.ylabel('Distance')\n",
    "dendrogram(Z, leaf_rotation=90.,color_threshold = 40, leaf_font_size=8. )\n",
    "plt.tight_layout()"
   ]
  },
  {
   "cell_type": "code",
   "execution_count": 43,
   "metadata": {
    "colab": {
     "base_uri": "https://localhost:8080/",
     "height": 248
    },
    "id": "lfZi-kuykbU4",
    "outputId": "8311f3f0-cf60-4601-9bd3-a2e20f03e6b4"
   },
   "outputs": [
    {
     "name": "stdout",
     "output_type": "stream",
     "text": [
      "0.515922432650965\n",
      "Groups Assigned : \n",
      "\n"
     ]
    },
    {
     "data": {
      "text/html": [
       "<div>\n",
       "<style scoped>\n",
       "    .dataframe tbody tr th:only-of-type {\n",
       "        vertical-align: middle;\n",
       "    }\n",
       "\n",
       "    .dataframe tbody tr th {\n",
       "        vertical-align: top;\n",
       "    }\n",
       "\n",
       "    .dataframe thead th {\n",
       "        text-align: right;\n",
       "    }\n",
       "</style>\n",
       "<table border=\"1\" class=\"dataframe\">\n",
       "  <thead>\n",
       "    <tr style=\"text-align: right;\">\n",
       "      <th></th>\n",
       "      <th>Avg_Credit_Limit</th>\n",
       "      <th>Total_Credit_Cards</th>\n",
       "      <th>Total_visits_bank</th>\n",
       "      <th>Total_visits_online</th>\n",
       "      <th>Total_calls_made</th>\n",
       "      <th>GROUP</th>\n",
       "    </tr>\n",
       "  </thead>\n",
       "  <tbody>\n",
       "    <tr>\n",
       "      <th>0</th>\n",
       "      <td>100000</td>\n",
       "      <td>2</td>\n",
       "      <td>1</td>\n",
       "      <td>1</td>\n",
       "      <td>0</td>\n",
       "      <td>0</td>\n",
       "    </tr>\n",
       "    <tr>\n",
       "      <th>1</th>\n",
       "      <td>50000</td>\n",
       "      <td>3</td>\n",
       "      <td>0</td>\n",
       "      <td>10</td>\n",
       "      <td>9</td>\n",
       "      <td>2</td>\n",
       "    </tr>\n",
       "    <tr>\n",
       "      <th>2</th>\n",
       "      <td>50000</td>\n",
       "      <td>7</td>\n",
       "      <td>1</td>\n",
       "      <td>3</td>\n",
       "      <td>4</td>\n",
       "      <td>0</td>\n",
       "    </tr>\n",
       "    <tr>\n",
       "      <th>3</th>\n",
       "      <td>30000</td>\n",
       "      <td>5</td>\n",
       "      <td>1</td>\n",
       "      <td>1</td>\n",
       "      <td>4</td>\n",
       "      <td>0</td>\n",
       "    </tr>\n",
       "    <tr>\n",
       "      <th>4</th>\n",
       "      <td>100000</td>\n",
       "      <td>6</td>\n",
       "      <td>0</td>\n",
       "      <td>12</td>\n",
       "      <td>3</td>\n",
       "      <td>1</td>\n",
       "    </tr>\n",
       "  </tbody>\n",
       "</table>\n",
       "</div>"
      ],
      "text/plain": [
       "   Avg_Credit_Limit  Total_Credit_Cards  Total_visits_bank  \\\n",
       "0            100000                   2                  1   \n",
       "1             50000                   3                  0   \n",
       "2             50000                   7                  1   \n",
       "3             30000                   5                  1   \n",
       "4            100000                   6                  0   \n",
       "\n",
       "   Total_visits_online  Total_calls_made  GROUP  \n",
       "0                    1                 0      0  \n",
       "1                   10                 9      2  \n",
       "2                    3                 4      0  \n",
       "3                    1                 4      0  \n",
       "4                   12                 3      1  "
      ]
     },
     "execution_count": 43,
     "metadata": {},
     "output_type": "execute_result"
    }
   ],
   "source": [
    "#First start with 3 \"merged\" clusters.\n",
    "final_model=AgglomerativeClustering(n_clusters=3, affinity='euclidean',  linkage= \"average\")\n",
    "prediction = final_model.fit_predict(pdataScaled)\n",
    "\n",
    "silhoutte_avg = silhouette_score(pdataScaled,prediction)\n",
    "print(silhoutte_avg)\n",
    "\n",
    "#Append the prediction \n",
    "pdata_A_3 = pdata.copy()\n",
    "pdata_A_3[\"GROUP\"] = prediction\n",
    "pdata_A_3_scaled = pdataScaled.copy()\n",
    "pdata_A_3_scaled[\"GROUP\"] = prediction\n",
    "print(\"Groups Assigned : \\n\")\n",
    "pdata_A_3.head()"
   ]
  },
  {
   "cell_type": "code",
   "execution_count": 44,
   "metadata": {
    "colab": {
     "base_uri": "https://localhost:8080/",
     "height": 268
    },
    "id": "FqMNxu5vrinV",
    "outputId": "418fc604-7773-4b9e-c2b3-1c938850dac0"
   },
   "outputs": [
    {
     "data": {
      "image/png": "[encoded data removed]",
      "text/plain": [
       "<Figure size 432x288 with 1 Axes>"
      ]
     },
     "metadata": {
      "needs_background": "light"
     },
     "output_type": "display_data"
    }
   ],
   "source": [
    "# Hint: Use truncate_mode='lastp' attribute in dendrogram function to arrive at dendrogram\n",
    "dendrogram(Z, truncate_mode='lastp',  # show only the last p merged clusters\n",
    "    p=3,  # show only the last p merged clusters\n",
    ")\n",
    "plt.show()"
   ]
  },
  {
   "cell_type": "code",
   "execution_count": 45,
   "metadata": {
    "colab": {
     "base_uri": "https://localhost:8080/",
     "height": 1000
    },
    "id": "MtBhX0lnlbvy",
    "outputId": "d255f7ee-6435-4094-b8d4-6404a11c4b40"
   },
   "outputs": [
    {
     "data": {
      "text/html": [
       "<div>\n",
       "<style scoped>\n",
       "    .dataframe tbody tr th:only-of-type {\n",
       "        vertical-align: middle;\n",
       "    }\n",
       "\n",
       "    .dataframe tbody tr th {\n",
       "        vertical-align: top;\n",
       "    }\n",
       "\n",
       "    .dataframe thead th {\n",
       "        text-align: right;\n",
       "    }\n",
       "</style>\n",
       "<table border=\"1\" class=\"dataframe\">\n",
       "  <thead>\n",
       "    <tr style=\"text-align: right;\">\n",
       "      <th></th>\n",
       "      <th>GROUP</th>\n",
       "      <th>0</th>\n",
       "      <th>1</th>\n",
       "      <th>2</th>\n",
       "    </tr>\n",
       "  </thead>\n",
       "  <tbody>\n",
       "    <tr>\n",
       "      <th rowspan=\"8\" valign=\"top\">Avg_Credit_Limit</th>\n",
       "      <th>count</th>\n",
       "      <td>387.000000</td>\n",
       "      <td>50.000000</td>\n",
       "      <td>223.000000</td>\n",
       "    </tr>\n",
       "    <tr>\n",
       "      <th>mean</th>\n",
       "      <td>33713.178295</td>\n",
       "      <td>141040.000000</td>\n",
       "      <td>12197.309417</td>\n",
       "    </tr>\n",
       "    <tr>\n",
       "      <th>std</th>\n",
       "      <td>22182.542428</td>\n",
       "      <td>34457.877272</td>\n",
       "      <td>5249.332169</td>\n",
       "    </tr>\n",
       "    <tr>\n",
       "      <th>min</th>\n",
       "      <td>5000.000000</td>\n",
       "      <td>84000.000000</td>\n",
       "      <td>3000.000000</td>\n",
       "    </tr>\n",
       "    <tr>\n",
       "      <th>25%</th>\n",
       "      <td>13000.000000</td>\n",
       "      <td>108750.000000</td>\n",
       "      <td>8000.000000</td>\n",
       "    </tr>\n",
       "    <tr>\n",
       "      <th>50%</th>\n",
       "      <td>31000.000000</td>\n",
       "      <td>145500.000000</td>\n",
       "      <td>12000.000000</td>\n",
       "    </tr>\n",
       "    <tr>\n",
       "      <th>75%</th>\n",
       "      <td>52000.000000</td>\n",
       "      <td>170000.000000</td>\n",
       "      <td>16000.000000</td>\n",
       "    </tr>\n",
       "    <tr>\n",
       "      <th>max</th>\n",
       "      <td>100000.000000</td>\n",
       "      <td>200000.000000</td>\n",
       "      <td>50000.000000</td>\n",
       "    </tr>\n",
       "    <tr>\n",
       "      <th rowspan=\"8\" valign=\"top\">Total_Credit_Cards</th>\n",
       "      <th>count</th>\n",
       "      <td>387.000000</td>\n",
       "      <td>50.000000</td>\n",
       "      <td>223.000000</td>\n",
       "    </tr>\n",
       "    <tr>\n",
       "      <th>mean</th>\n",
       "      <td>5.511628</td>\n",
       "      <td>8.740000</td>\n",
       "      <td>2.403587</td>\n",
       "    </tr>\n",
       "    <tr>\n",
       "      <th>std</th>\n",
       "      <td>1.141195</td>\n",
       "      <td>1.274715</td>\n",
       "      <td>1.098068</td>\n",
       "    </tr>\n",
       "    <tr>\n",
       "      <th>min</th>\n",
       "      <td>2.000000</td>\n",
       "      <td>5.000000</td>\n",
       "      <td>1.000000</td>\n",
       "    </tr>\n",
       "    <tr>\n",
       "      <th>25%</th>\n",
       "      <td>4.000000</td>\n",
       "      <td>8.000000</td>\n",
       "      <td>1.000000</td>\n",
       "    </tr>\n",
       "    <tr>\n",
       "      <th>50%</th>\n",
       "      <td>6.000000</td>\n",
       "      <td>9.000000</td>\n",
       "      <td>2.000000</td>\n",
       "    </tr>\n",
       "    <tr>\n",
       "      <th>75%</th>\n",
       "      <td>6.000000</td>\n",
       "      <td>10.000000</td>\n",
       "      <td>3.000000</td>\n",
       "    </tr>\n",
       "    <tr>\n",
       "      <th>max</th>\n",
       "      <td>7.000000</td>\n",
       "      <td>10.000000</td>\n",
       "      <td>4.000000</td>\n",
       "    </tr>\n",
       "    <tr>\n",
       "      <th rowspan=\"8\" valign=\"top\">Total_visits_bank</th>\n",
       "      <th>count</th>\n",
       "      <td>387.000000</td>\n",
       "      <td>50.000000</td>\n",
       "      <td>223.000000</td>\n",
       "    </tr>\n",
       "    <tr>\n",
       "      <th>mean</th>\n",
       "      <td>3.485788</td>\n",
       "      <td>0.600000</td>\n",
       "      <td>0.928251</td>\n",
       "    </tr>\n",
       "    <tr>\n",
       "      <th>std</th>\n",
       "      <td>1.136616</td>\n",
       "      <td>0.494872</td>\n",
       "      <td>0.802171</td>\n",
       "    </tr>\n",
       "    <tr>\n",
       "      <th>min</th>\n",
       "      <td>1.000000</td>\n",
       "      <td>0.000000</td>\n",
       "      <td>0.000000</td>\n",
       "    </tr>\n",
       "    <tr>\n",
       "      <th>25%</th>\n",
       "      <td>2.500000</td>\n",
       "      <td>0.000000</td>\n",
       "      <td>0.000000</td>\n",
       "    </tr>\n",
       "    <tr>\n",
       "      <th>50%</th>\n",
       "      <td>3.000000</td>\n",
       "      <td>1.000000</td>\n",
       "      <td>1.000000</td>\n",
       "    </tr>\n",
       "    <tr>\n",
       "      <th>75%</th>\n",
       "      <td>5.000000</td>\n",
       "      <td>1.000000</td>\n",
       "      <td>2.000000</td>\n",
       "    </tr>\n",
       "    <tr>\n",
       "      <th>max</th>\n",
       "      <td>5.000000</td>\n",
       "      <td>1.000000</td>\n",
       "      <td>2.000000</td>\n",
       "    </tr>\n",
       "    <tr>\n",
       "      <th rowspan=\"8\" valign=\"top\">Total_visits_online</th>\n",
       "      <th>count</th>\n",
       "      <td>387.000000</td>\n",
       "      <td>50.000000</td>\n",
       "      <td>223.000000</td>\n",
       "    </tr>\n",
       "    <tr>\n",
       "      <th>mean</th>\n",
       "      <td>0.984496</td>\n",
       "      <td>10.900000</td>\n",
       "      <td>3.560538</td>\n",
       "    </tr>\n",
       "    <tr>\n",
       "      <th>std</th>\n",
       "      <td>0.857619</td>\n",
       "      <td>2.880264</td>\n",
       "      <td>1.217242</td>\n",
       "    </tr>\n",
       "    <tr>\n",
       "      <th>min</th>\n",
       "      <td>0.000000</td>\n",
       "      <td>6.000000</td>\n",
       "      <td>1.000000</td>\n",
       "    </tr>\n",
       "    <tr>\n",
       "      <th>25%</th>\n",
       "      <td>0.000000</td>\n",
       "      <td>8.000000</td>\n",
       "      <td>2.500000</td>\n",
       "    </tr>\n",
       "    <tr>\n",
       "      <th>50%</th>\n",
       "      <td>1.000000</td>\n",
       "      <td>11.000000</td>\n",
       "      <td>4.000000</td>\n",
       "    </tr>\n",
       "    <tr>\n",
       "      <th>75%</th>\n",
       "      <td>2.000000</td>\n",
       "      <td>13.000000</td>\n",
       "      <td>4.000000</td>\n",
       "    </tr>\n",
       "    <tr>\n",
       "      <th>max</th>\n",
       "      <td>3.000000</td>\n",
       "      <td>15.000000</td>\n",
       "      <td>10.000000</td>\n",
       "    </tr>\n",
       "    <tr>\n",
       "      <th rowspan=\"8\" valign=\"top\">Total_calls_made</th>\n",
       "      <th>count</th>\n",
       "      <td>387.000000</td>\n",
       "      <td>50.000000</td>\n",
       "      <td>223.000000</td>\n",
       "    </tr>\n",
       "    <tr>\n",
       "      <th>mean</th>\n",
       "      <td>2.005168</td>\n",
       "      <td>1.080000</td>\n",
       "      <td>6.883408</td>\n",
       "    </tr>\n",
       "    <tr>\n",
       "      <th>std</th>\n",
       "      <td>1.432406</td>\n",
       "      <td>0.876915</td>\n",
       "      <td>1.985271</td>\n",
       "    </tr>\n",
       "    <tr>\n",
       "      <th>min</th>\n",
       "      <td>0.000000</td>\n",
       "      <td>0.000000</td>\n",
       "      <td>1.000000</td>\n",
       "    </tr>\n",
       "    <tr>\n",
       "      <th>25%</th>\n",
       "      <td>1.000000</td>\n",
       "      <td>0.000000</td>\n",
       "      <td>5.000000</td>\n",
       "    </tr>\n",
       "    <tr>\n",
       "      <th>50%</th>\n",
       "      <td>2.000000</td>\n",
       "      <td>1.000000</td>\n",
       "      <td>7.000000</td>\n",
       "    </tr>\n",
       "    <tr>\n",
       "      <th>75%</th>\n",
       "      <td>3.000000</td>\n",
       "      <td>2.000000</td>\n",
       "      <td>9.000000</td>\n",
       "    </tr>\n",
       "    <tr>\n",
       "      <th>max</th>\n",
       "      <td>4.000000</td>\n",
       "      <td>3.000000</td>\n",
       "      <td>10.000000</td>\n",
       "    </tr>\n",
       "  </tbody>\n",
       "</table>\n",
       "</div>"
      ],
      "text/plain": [
       "GROUP                                  0              1             2\n",
       "Avg_Credit_Limit    count     387.000000      50.000000    223.000000\n",
       "                    mean    33713.178295  141040.000000  12197.309417\n",
       "                    std     22182.542428   34457.877272   5249.332169\n",
       "                    min      5000.000000   84000.000000   3000.000000\n",
       "                    25%     13000.000000  108750.000000   8000.000000\n",
       "                    50%     31000.000000  145500.000000  12000.000000\n",
       "                    75%     52000.000000  170000.000000  16000.000000\n",
       "                    max    100000.000000  200000.000000  50000.000000\n",
       "Total_Credit_Cards  count     387.000000      50.000000    223.000000\n",
       "                    mean        5.511628       8.740000      2.403587\n",
       "                    std         1.141195       1.274715      1.098068\n",
       "                    min         2.000000       5.000000      1.000000\n",
       "                    25%         4.000000       8.000000      1.000000\n",
       "                    50%         6.000000       9.000000      2.000000\n",
       "                    75%         6.000000      10.000000      3.000000\n",
       "                    max         7.000000      10.000000      4.000000\n",
       "Total_visits_bank   count     387.000000      50.000000    223.000000\n",
       "                    mean        3.485788       0.600000      0.928251\n",
       "                    std         1.136616       0.494872      0.802171\n",
       "                    min         1.000000       0.000000      0.000000\n",
       "                    25%         2.500000       0.000000      0.000000\n",
       "                    50%         3.000000       1.000000      1.000000\n",
       "                    75%         5.000000       1.000000      2.000000\n",
       "                    max         5.000000       1.000000      2.000000\n",
       "Total_visits_online count     387.000000      50.000000    223.000000\n",
       "                    mean        0.984496      10.900000      3.560538\n",
       "                    std         0.857619       2.880264      1.217242\n",
       "                    min         0.000000       6.000000      1.000000\n",
       "                    25%         0.000000       8.000000      2.500000\n",
       "                    50%         1.000000      11.000000      4.000000\n",
       "                    75%         2.000000      13.000000      4.000000\n",
       "                    max         3.000000      15.000000     10.000000\n",
       "Total_calls_made    count     387.000000      50.000000    223.000000\n",
       "                    mean        2.005168       1.080000      6.883408\n",
       "                    std         1.432406       0.876915      1.985271\n",
       "                    min         0.000000       0.000000      1.000000\n",
       "                    25%         1.000000       0.000000      5.000000\n",
       "                    50%         2.000000       1.000000      7.000000\n",
       "                    75%         3.000000       2.000000      9.000000\n",
       "                    max         4.000000       3.000000     10.000000"
      ]
     },
     "execution_count": 45,
     "metadata": {},
     "output_type": "execute_result"
    }
   ],
   "source": [
    "techSuppClust_A_3 = pdata_A_3.groupby(['GROUP'])\n",
    "techSuppClust_A_3.describe().T"
   ]
  },
  {
   "cell_type": "code",
   "execution_count": 46,
   "metadata": {
    "colab": {
     "base_uri": "https://localhost:8080/",
     "height": 466
    },
    "id": "rf7eP2dalp2d",
    "outputId": "a1e3e2fc-13fc-47d0-deb6-ff76f4bdfcd4"
   },
   "outputs": [
    {
     "data": {
      "text/plain": [
       "array([<AxesSubplot:title={'center':'Avg_Credit_Limit'}, xlabel='[GROUP]'>,\n",
       "       <AxesSubplot:title={'center':'Total_Credit_Cards'}, xlabel='[GROUP]'>,\n",
       "       <AxesSubplot:title={'center':'Total_calls_made'}, xlabel='[GROUP]'>,\n",
       "       <AxesSubplot:title={'center':'Total_visits_bank'}, xlabel='[GROUP]'>,\n",
       "       <AxesSubplot:title={'center':'Total_visits_online'}, xlabel='[GROUP]'>],\n",
       "      dtype=object)"
      ]
     },
     "execution_count": 46,
     "metadata": {},
     "output_type": "execute_result"
    },
    {
     "data": {
      "image/png": "[encoded data removed]",
      "text/plain": [
       "<Figure size 1080x360 with 5 Axes>"
      ]
     },
     "metadata": {
      "needs_background": "light"
     },
     "output_type": "display_data"
    }
   ],
   "source": [
    "pdata_A_3_scaled.boxplot(by='GROUP', layout = (1,5),figsize=(15,5))"
   ]
  },
  {
   "cell_type": "markdown",
   "metadata": {
    "id": "D6JUxmQKsUTi"
   },
   "source": [
    "### **`Observations:`** \n",
    "\n",
    "<a href = #link101> Back to Index </a>\n",
    "\n",
    "1. There are three clusters that are well segmented, and seem fairly isolated from each other. These three clusters are:\n",
    "\n",
    "  **`a. Cluster 2`**: 223 customers are segmented in this cluster. These customers have lowest Avg_Credit_Limit and Total_Credit_Cards. They are middle when it comes to Total_visits_bank and Total_visits_online. But they have highest values for Total_calls_made amongst the three clusters. Overall, for this cluster, preferred mode of communication is: calls > bank visit > online. ***Comparing with K-Means clustering with same number of clusters (3), this cluster contains 1 record less.***\n",
    "\n",
    "  **`b.  Cluster 0`**: More than 50% (387) customers are segmented in this cluster. These customers have higher values for Avg_Credit_Limit and Total_Credit_Cards than cluster 2 but lower values than cluster 1. They are middle when it comes to Total_calls_made. They have lowest value for Total_visits_online. But they have highest values for Total_visits_bank amongst the three clusters. Overall, for this cluster, preferred mode of communication is: bank visit > calls > online. ***Comparing with K-Means clustering with same number of clusters (3), this cluster contains 1 record more.***\n",
    "\n",
    "  **`c. Cluster 1`**: 50 customers are segmented in this cluster. These customers have highest values for Avg_Credit_Limit, Total_visits_online, and Total_Credit_Cards. But they have lowest values for Total_visits_bank and Total_calls_made amongst the three clusters. Overall, for this cluster, preferred mode of communication is: online > calls > bank visit. ***Comparing with K-Means clustering with same number of clusters (3), this cluster contains same number of records***\n",
    "\n",
    "2. Attribute wise, the the values in cluster can be given as:\n",
    "\n",
    "  a. Avg_Credit_Limit: 2 > 0 > 1\n",
    "  \n",
    "  b. Total_Credit_Cards: 2 > 0 > 1\n",
    "  \n",
    "  c. Total_visits_bank:\t1 > 2 > 0\n",
    "  \n",
    "  d. Total_visits_online: 0 > 2 > 1\n",
    "  \n",
    "  e. Total_calls_made: 1 > 0 > 2"
   ]
  },
  {
   "cell_type": "code",
   "execution_count": 47,
   "metadata": {
    "colab": {
     "base_uri": "https://localhost:8080/",
     "height": 248
    },
    "id": "n03eqLYmmKke",
    "outputId": "1387a2fb-8fbc-49c2-a6c9-b17c59f38f58"
   },
   "outputs": [
    {
     "name": "stdout",
     "output_type": "stream",
     "text": [
      "0.47495143595793504\n",
      "Groups Assigned : \n",
      "\n"
     ]
    },
    {
     "data": {
      "text/html": [
       "<div>\n",
       "<style scoped>\n",
       "    .dataframe tbody tr th:only-of-type {\n",
       "        vertical-align: middle;\n",
       "    }\n",
       "\n",
       "    .dataframe tbody tr th {\n",
       "        vertical-align: top;\n",
       "    }\n",
       "\n",
       "    .dataframe thead th {\n",
       "        text-align: right;\n",
       "    }\n",
       "</style>\n",
       "<table border=\"1\" class=\"dataframe\">\n",
       "  <thead>\n",
       "    <tr style=\"text-align: right;\">\n",
       "      <th></th>\n",
       "      <th>Avg_Credit_Limit</th>\n",
       "      <th>Total_Credit_Cards</th>\n",
       "      <th>Total_visits_bank</th>\n",
       "      <th>Total_visits_online</th>\n",
       "      <th>Total_calls_made</th>\n",
       "      <th>GROUP</th>\n",
       "    </tr>\n",
       "  </thead>\n",
       "  <tbody>\n",
       "    <tr>\n",
       "      <th>0</th>\n",
       "      <td>100000</td>\n",
       "      <td>2</td>\n",
       "      <td>1</td>\n",
       "      <td>1</td>\n",
       "      <td>0</td>\n",
       "      <td>3</td>\n",
       "    </tr>\n",
       "    <tr>\n",
       "      <th>1</th>\n",
       "      <td>50000</td>\n",
       "      <td>3</td>\n",
       "      <td>0</td>\n",
       "      <td>10</td>\n",
       "      <td>9</td>\n",
       "      <td>0</td>\n",
       "    </tr>\n",
       "    <tr>\n",
       "      <th>2</th>\n",
       "      <td>50000</td>\n",
       "      <td>7</td>\n",
       "      <td>1</td>\n",
       "      <td>3</td>\n",
       "      <td>4</td>\n",
       "      <td>2</td>\n",
       "    </tr>\n",
       "    <tr>\n",
       "      <th>3</th>\n",
       "      <td>30000</td>\n",
       "      <td>5</td>\n",
       "      <td>1</td>\n",
       "      <td>1</td>\n",
       "      <td>4</td>\n",
       "      <td>2</td>\n",
       "    </tr>\n",
       "    <tr>\n",
       "      <th>4</th>\n",
       "      <td>100000</td>\n",
       "      <td>6</td>\n",
       "      <td>0</td>\n",
       "      <td>12</td>\n",
       "      <td>3</td>\n",
       "      <td>1</td>\n",
       "    </tr>\n",
       "  </tbody>\n",
       "</table>\n",
       "</div>"
      ],
      "text/plain": [
       "   Avg_Credit_Limit  Total_Credit_Cards  Total_visits_bank  \\\n",
       "0            100000                   2                  1   \n",
       "1             50000                   3                  0   \n",
       "2             50000                   7                  1   \n",
       "3             30000                   5                  1   \n",
       "4            100000                   6                  0   \n",
       "\n",
       "   Total_visits_online  Total_calls_made  GROUP  \n",
       "0                    1                 0      3  \n",
       "1                   10                 9      0  \n",
       "2                    3                 4      2  \n",
       "3                    1                 4      2  \n",
       "4                   12                 3      1  "
      ]
     },
     "execution_count": 47,
     "metadata": {},
     "output_type": "execute_result"
    }
   ],
   "source": [
    "#Try for 4 clusters.\n",
    "final_model=AgglomerativeClustering(n_clusters=4, affinity='euclidean',  linkage= \"average\")\n",
    "prediction = final_model.fit_predict(pdataScaled)\n",
    "\n",
    "silhoutte_avg = silhouette_score(pdataScaled,prediction)\n",
    "print(silhoutte_avg)\n",
    "\n",
    "#Append the prediction \n",
    "pdata_A_4 = pdata.copy()\n",
    "pdata_A_4[\"GROUP\"] = prediction\n",
    "pdata_A_4_scaled = pdataScaled.copy()\n",
    "pdata_A_4_scaled[\"GROUP\"] = prediction\n",
    "print(\"Groups Assigned : \\n\")\n",
    "pdata_A_4.head()"
   ]
  },
  {
   "cell_type": "code",
   "execution_count": 48,
   "metadata": {
    "colab": {
     "base_uri": "https://localhost:8080/",
     "height": 268
    },
    "id": "u7q1abrTycPG",
    "outputId": "c0a3902e-fa52-4fb3-db86-13ca9fd088d1"
   },
   "outputs": [
    {
     "data": {
      "image/png": "[encoded data removed]",
      "text/plain": [
       "<Figure size 432x288 with 1 Axes>"
      ]
     },
     "metadata": {
      "needs_background": "light"
     },
     "output_type": "display_data"
    }
   ],
   "source": [
    "# Hint: Use truncate_mode='lastp' attribute in dendrogram function to arrive at dendrogram\n",
    "dendrogram(Z, truncate_mode='lastp',  # show only the last p merged clusters\n",
    "    p=4,  # show only the last p merged clusters\n",
    ")\n",
    "plt.show()"
   ]
  },
  {
   "cell_type": "code",
   "execution_count": 49,
   "metadata": {
    "colab": {
     "base_uri": "https://localhost:8080/",
     "height": 1000
    },
    "id": "uWzt-fdhmfkI",
    "outputId": "147080ef-c307-4876-8270-b6e54f7561d9"
   },
   "outputs": [
    {
     "data": {
      "text/html": [
       "<div>\n",
       "<style scoped>\n",
       "    .dataframe tbody tr th:only-of-type {\n",
       "        vertical-align: middle;\n",
       "    }\n",
       "\n",
       "    .dataframe tbody tr th {\n",
       "        vertical-align: top;\n",
       "    }\n",
       "\n",
       "    .dataframe thead th {\n",
       "        text-align: right;\n",
       "    }\n",
       "</style>\n",
       "<table border=\"1\" class=\"dataframe\">\n",
       "  <thead>\n",
       "    <tr style=\"text-align: right;\">\n",
       "      <th></th>\n",
       "      <th>GROUP</th>\n",
       "      <th>0</th>\n",
       "      <th>1</th>\n",
       "      <th>2</th>\n",
       "      <th>3</th>\n",
       "    </tr>\n",
       "  </thead>\n",
       "  <tbody>\n",
       "    <tr>\n",
       "      <th rowspan=\"8\" valign=\"top\">Avg_Credit_Limit</th>\n",
       "      <th>count</th>\n",
       "      <td>223.000000</td>\n",
       "      <td>50.000000</td>\n",
       "      <td>386.000000</td>\n",
       "      <td>1.0</td>\n",
       "    </tr>\n",
       "    <tr>\n",
       "      <th>mean</th>\n",
       "      <td>12197.309417</td>\n",
       "      <td>141040.000000</td>\n",
       "      <td>33541.450777</td>\n",
       "      <td>100000.0</td>\n",
       "    </tr>\n",
       "    <tr>\n",
       "      <th>std</th>\n",
       "      <td>5249.332169</td>\n",
       "      <td>34457.877272</td>\n",
       "      <td>21952.240769</td>\n",
       "      <td>NaN</td>\n",
       "    </tr>\n",
       "    <tr>\n",
       "      <th>min</th>\n",
       "      <td>3000.000000</td>\n",
       "      <td>84000.000000</td>\n",
       "      <td>5000.000000</td>\n",
       "      <td>100000.0</td>\n",
       "    </tr>\n",
       "    <tr>\n",
       "      <th>25%</th>\n",
       "      <td>8000.000000</td>\n",
       "      <td>108750.000000</td>\n",
       "      <td>13000.000000</td>\n",
       "      <td>100000.0</td>\n",
       "    </tr>\n",
       "    <tr>\n",
       "      <th>50%</th>\n",
       "      <td>12000.000000</td>\n",
       "      <td>145500.000000</td>\n",
       "      <td>31000.000000</td>\n",
       "      <td>100000.0</td>\n",
       "    </tr>\n",
       "    <tr>\n",
       "      <th>75%</th>\n",
       "      <td>16000.000000</td>\n",
       "      <td>170000.000000</td>\n",
       "      <td>51750.000000</td>\n",
       "      <td>100000.0</td>\n",
       "    </tr>\n",
       "    <tr>\n",
       "      <th>max</th>\n",
       "      <td>50000.000000</td>\n",
       "      <td>200000.000000</td>\n",
       "      <td>75000.000000</td>\n",
       "      <td>100000.0</td>\n",
       "    </tr>\n",
       "    <tr>\n",
       "      <th rowspan=\"8\" valign=\"top\">Total_Credit_Cards</th>\n",
       "      <th>count</th>\n",
       "      <td>223.000000</td>\n",
       "      <td>50.000000</td>\n",
       "      <td>386.000000</td>\n",
       "      <td>1.0</td>\n",
       "    </tr>\n",
       "    <tr>\n",
       "      <th>mean</th>\n",
       "      <td>2.403587</td>\n",
       "      <td>8.740000</td>\n",
       "      <td>5.520725</td>\n",
       "      <td>2.0</td>\n",
       "    </tr>\n",
       "    <tr>\n",
       "      <th>std</th>\n",
       "      <td>1.098068</td>\n",
       "      <td>1.274715</td>\n",
       "      <td>1.128537</td>\n",
       "      <td>NaN</td>\n",
       "    </tr>\n",
       "    <tr>\n",
       "      <th>min</th>\n",
       "      <td>1.000000</td>\n",
       "      <td>5.000000</td>\n",
       "      <td>4.000000</td>\n",
       "      <td>2.0</td>\n",
       "    </tr>\n",
       "    <tr>\n",
       "      <th>25%</th>\n",
       "      <td>1.000000</td>\n",
       "      <td>8.000000</td>\n",
       "      <td>4.000000</td>\n",
       "      <td>2.0</td>\n",
       "    </tr>\n",
       "    <tr>\n",
       "      <th>50%</th>\n",
       "      <td>2.000000</td>\n",
       "      <td>9.000000</td>\n",
       "      <td>6.000000</td>\n",
       "      <td>2.0</td>\n",
       "    </tr>\n",
       "    <tr>\n",
       "      <th>75%</th>\n",
       "      <td>3.000000</td>\n",
       "      <td>10.000000</td>\n",
       "      <td>6.000000</td>\n",
       "      <td>2.0</td>\n",
       "    </tr>\n",
       "    <tr>\n",
       "      <th>max</th>\n",
       "      <td>4.000000</td>\n",
       "      <td>10.000000</td>\n",
       "      <td>7.000000</td>\n",
       "      <td>2.0</td>\n",
       "    </tr>\n",
       "    <tr>\n",
       "      <th rowspan=\"8\" valign=\"top\">Total_visits_bank</th>\n",
       "      <th>count</th>\n",
       "      <td>223.000000</td>\n",
       "      <td>50.000000</td>\n",
       "      <td>386.000000</td>\n",
       "      <td>1.0</td>\n",
       "    </tr>\n",
       "    <tr>\n",
       "      <th>mean</th>\n",
       "      <td>0.928251</td>\n",
       "      <td>0.600000</td>\n",
       "      <td>3.492228</td>\n",
       "      <td>1.0</td>\n",
       "    </tr>\n",
       "    <tr>\n",
       "      <th>std</th>\n",
       "      <td>0.802171</td>\n",
       "      <td>0.494872</td>\n",
       "      <td>1.131000</td>\n",
       "      <td>NaN</td>\n",
       "    </tr>\n",
       "    <tr>\n",
       "      <th>min</th>\n",
       "      <td>0.000000</td>\n",
       "      <td>0.000000</td>\n",
       "      <td>1.000000</td>\n",
       "      <td>1.0</td>\n",
       "    </tr>\n",
       "    <tr>\n",
       "      <th>25%</th>\n",
       "      <td>0.000000</td>\n",
       "      <td>0.000000</td>\n",
       "      <td>3.000000</td>\n",
       "      <td>1.0</td>\n",
       "    </tr>\n",
       "    <tr>\n",
       "      <th>50%</th>\n",
       "      <td>1.000000</td>\n",
       "      <td>1.000000</td>\n",
       "      <td>3.000000</td>\n",
       "      <td>1.0</td>\n",
       "    </tr>\n",
       "    <tr>\n",
       "      <th>75%</th>\n",
       "      <td>2.000000</td>\n",
       "      <td>1.000000</td>\n",
       "      <td>5.000000</td>\n",
       "      <td>1.0</td>\n",
       "    </tr>\n",
       "    <tr>\n",
       "      <th>max</th>\n",
       "      <td>2.000000</td>\n",
       "      <td>1.000000</td>\n",
       "      <td>5.000000</td>\n",
       "      <td>1.0</td>\n",
       "    </tr>\n",
       "    <tr>\n",
       "      <th rowspan=\"8\" valign=\"top\">Total_visits_online</th>\n",
       "      <th>count</th>\n",
       "      <td>223.000000</td>\n",
       "      <td>50.000000</td>\n",
       "      <td>386.000000</td>\n",
       "      <td>1.0</td>\n",
       "    </tr>\n",
       "    <tr>\n",
       "      <th>mean</th>\n",
       "      <td>3.560538</td>\n",
       "      <td>10.900000</td>\n",
       "      <td>0.984456</td>\n",
       "      <td>1.0</td>\n",
       "    </tr>\n",
       "    <tr>\n",
       "      <th>std</th>\n",
       "      <td>1.217242</td>\n",
       "      <td>2.880264</td>\n",
       "      <td>0.858732</td>\n",
       "      <td>NaN</td>\n",
       "    </tr>\n",
       "    <tr>\n",
       "      <th>min</th>\n",
       "      <td>1.000000</td>\n",
       "      <td>6.000000</td>\n",
       "      <td>0.000000</td>\n",
       "      <td>1.0</td>\n",
       "    </tr>\n",
       "    <tr>\n",
       "      <th>25%</th>\n",
       "      <td>2.500000</td>\n",
       "      <td>8.000000</td>\n",
       "      <td>0.000000</td>\n",
       "      <td>1.0</td>\n",
       "    </tr>\n",
       "    <tr>\n",
       "      <th>50%</th>\n",
       "      <td>4.000000</td>\n",
       "      <td>11.000000</td>\n",
       "      <td>1.000000</td>\n",
       "      <td>1.0</td>\n",
       "    </tr>\n",
       "    <tr>\n",
       "      <th>75%</th>\n",
       "      <td>4.000000</td>\n",
       "      <td>13.000000</td>\n",
       "      <td>2.000000</td>\n",
       "      <td>1.0</td>\n",
       "    </tr>\n",
       "    <tr>\n",
       "      <th>max</th>\n",
       "      <td>10.000000</td>\n",
       "      <td>15.000000</td>\n",
       "      <td>3.000000</td>\n",
       "      <td>1.0</td>\n",
       "    </tr>\n",
       "    <tr>\n",
       "      <th rowspan=\"8\" valign=\"top\">Total_calls_made</th>\n",
       "      <th>count</th>\n",
       "      <td>223.000000</td>\n",
       "      <td>50.000000</td>\n",
       "      <td>386.000000</td>\n",
       "      <td>1.0</td>\n",
       "    </tr>\n",
       "    <tr>\n",
       "      <th>mean</th>\n",
       "      <td>6.883408</td>\n",
       "      <td>1.080000</td>\n",
       "      <td>2.010363</td>\n",
       "      <td>0.0</td>\n",
       "    </tr>\n",
       "    <tr>\n",
       "      <th>std</th>\n",
       "      <td>1.985271</td>\n",
       "      <td>0.876915</td>\n",
       "      <td>1.430610</td>\n",
       "      <td>NaN</td>\n",
       "    </tr>\n",
       "    <tr>\n",
       "      <th>min</th>\n",
       "      <td>1.000000</td>\n",
       "      <td>0.000000</td>\n",
       "      <td>0.000000</td>\n",
       "      <td>0.0</td>\n",
       "    </tr>\n",
       "    <tr>\n",
       "      <th>25%</th>\n",
       "      <td>5.000000</td>\n",
       "      <td>0.000000</td>\n",
       "      <td>1.000000</td>\n",
       "      <td>0.0</td>\n",
       "    </tr>\n",
       "    <tr>\n",
       "      <th>50%</th>\n",
       "      <td>7.000000</td>\n",
       "      <td>1.000000</td>\n",
       "      <td>2.000000</td>\n",
       "      <td>0.0</td>\n",
       "    </tr>\n",
       "    <tr>\n",
       "      <th>75%</th>\n",
       "      <td>9.000000</td>\n",
       "      <td>2.000000</td>\n",
       "      <td>3.000000</td>\n",
       "      <td>0.0</td>\n",
       "    </tr>\n",
       "    <tr>\n",
       "      <th>max</th>\n",
       "      <td>10.000000</td>\n",
       "      <td>3.000000</td>\n",
       "      <td>4.000000</td>\n",
       "      <td>0.0</td>\n",
       "    </tr>\n",
       "  </tbody>\n",
       "</table>\n",
       "</div>"
      ],
      "text/plain": [
       "GROUP                                 0              1             2         3\n",
       "Avg_Credit_Limit    count    223.000000      50.000000    386.000000       1.0\n",
       "                    mean   12197.309417  141040.000000  33541.450777  100000.0\n",
       "                    std     5249.332169   34457.877272  21952.240769       NaN\n",
       "                    min     3000.000000   84000.000000   5000.000000  100000.0\n",
       "                    25%     8000.000000  108750.000000  13000.000000  100000.0\n",
       "                    50%    12000.000000  145500.000000  31000.000000  100000.0\n",
       "                    75%    16000.000000  170000.000000  51750.000000  100000.0\n",
       "                    max    50000.000000  200000.000000  75000.000000  100000.0\n",
       "Total_Credit_Cards  count    223.000000      50.000000    386.000000       1.0\n",
       "                    mean       2.403587       8.740000      5.520725       2.0\n",
       "                    std        1.098068       1.274715      1.128537       NaN\n",
       "                    min        1.000000       5.000000      4.000000       2.0\n",
       "                    25%        1.000000       8.000000      4.000000       2.0\n",
       "                    50%        2.000000       9.000000      6.000000       2.0\n",
       "                    75%        3.000000      10.000000      6.000000       2.0\n",
       "                    max        4.000000      10.000000      7.000000       2.0\n",
       "Total_visits_bank   count    223.000000      50.000000    386.000000       1.0\n",
       "                    mean       0.928251       0.600000      3.492228       1.0\n",
       "                    std        0.802171       0.494872      1.131000       NaN\n",
       "                    min        0.000000       0.000000      1.000000       1.0\n",
       "                    25%        0.000000       0.000000      3.000000       1.0\n",
       "                    50%        1.000000       1.000000      3.000000       1.0\n",
       "                    75%        2.000000       1.000000      5.000000       1.0\n",
       "                    max        2.000000       1.000000      5.000000       1.0\n",
       "Total_visits_online count    223.000000      50.000000    386.000000       1.0\n",
       "                    mean       3.560538      10.900000      0.984456       1.0\n",
       "                    std        1.217242       2.880264      0.858732       NaN\n",
       "                    min        1.000000       6.000000      0.000000       1.0\n",
       "                    25%        2.500000       8.000000      0.000000       1.0\n",
       "                    50%        4.000000      11.000000      1.000000       1.0\n",
       "                    75%        4.000000      13.000000      2.000000       1.0\n",
       "                    max       10.000000      15.000000      3.000000       1.0\n",
       "Total_calls_made    count    223.000000      50.000000    386.000000       1.0\n",
       "                    mean       6.883408       1.080000      2.010363       0.0\n",
       "                    std        1.985271       0.876915      1.430610       NaN\n",
       "                    min        1.000000       0.000000      0.000000       0.0\n",
       "                    25%        5.000000       0.000000      1.000000       0.0\n",
       "                    50%        7.000000       1.000000      2.000000       0.0\n",
       "                    75%        9.000000       2.000000      3.000000       0.0\n",
       "                    max       10.000000       3.000000      4.000000       0.0"
      ]
     },
     "execution_count": 49,
     "metadata": {},
     "output_type": "execute_result"
    }
   ],
   "source": [
    "techSuppClust_A_4 = pdata_A_4.groupby(['GROUP'])\n",
    "techSuppClust_A_4.describe().T"
   ]
  },
  {
   "cell_type": "code",
   "execution_count": 50,
   "metadata": {
    "colab": {
     "base_uri": "https://localhost:8080/",
     "height": 466
    },
    "id": "1X5N9kCUmh07",
    "outputId": "166fd759-1bb6-4437-bca7-a34267aae928"
   },
   "outputs": [
    {
     "data": {
      "text/plain": [
       "array([<AxesSubplot:title={'center':'Avg_Credit_Limit'}, xlabel='[GROUP]'>,\n",
       "       <AxesSubplot:title={'center':'Total_Credit_Cards'}, xlabel='[GROUP]'>,\n",
       "       <AxesSubplot:title={'center':'Total_calls_made'}, xlabel='[GROUP]'>,\n",
       "       <AxesSubplot:title={'center':'Total_visits_bank'}, xlabel='[GROUP]'>,\n",
       "       <AxesSubplot:title={'center':'Total_visits_online'}, xlabel='[GROUP]'>],\n",
       "      dtype=object)"
      ]
     },
     "execution_count": 50,
     "metadata": {},
     "output_type": "execute_result"
    },
    {
     "data": {
      "image/png": "[encoded data removed]",
      "text/plain": [
       "<Figure size 1080x360 with 5 Axes>"
      ]
     },
     "metadata": {
      "needs_background": "light"
     },
     "output_type": "display_data"
    }
   ],
   "source": [
    "pdata_A_4_scaled.boxplot(by='GROUP', layout = (1,5),figsize=(15,5))"
   ]
  },
  {
   "cell_type": "markdown",
   "metadata": {
    "id": "Ma-DvTrnyfvU"
   },
   "source": [
    "### **`Observations:`** \n",
    "\n",
    "<a href = #link101> Back to Index </a>\n",
    "\n",
    "1. ***Note***: For 4 clusters, the observations for silhouette_score have already been provided. The average silhouette_score for k = 4 is less slightly than that for k = 3.\n",
    "2. There is only 1 record in the 4th cluster or [GROUP] = 3.\n",
    "3. It appears that the row in [GROUP] = 3 in this case is the outlier record from the largest group (having 387 elements) when cluster analysis was performed for n_clusters = 3.\n",
    "4. Since there is only 1 record in 4th cluster, this explains why silhoutte plot didn't show anything when cluster analysis was performed previously.\n",
    "5. Since there is only 1 record in 4th cluster, this explains why there is a slight decrease of average silhoutte score for n_clusters = 4 as compared with n_clusters = 3.\n",
    "4. From this analysis, for hierarchical clustering, model with n_clusters = 3 seems the best, since there are no records in the 4th cluster."
   ]
  },
  {
   "cell_type": "markdown",
   "metadata": {
    "id": "BNcru5Bx_WTR"
   },
   "source": [
    "# **`Deliverable – 5`** <a id = \"link106\"></a>\n",
    "\n",
    "<a href = #link101> Back to Index </a>"
   ]
  },
  {
   "cell_type": "markdown",
   "metadata": {
    "id": "8rmUqMm1_kii"
   },
   "source": [
    "## **Calculate Average Silhouette Score For Both Methods:**\n",
    "\n",
    "### **Answer**:\n",
    "1. Average Silhouette Score were calculated and plotted from point to point during model evaluation and selection. Corresponding comments were already provided.\n",
    "2. For final model selected for K-Means (K = 3), the Average Silhouette Score = 0.5157182558881063. For final model selected for Agglomerative Clustering (n_clusters = 3), the Average Silhouette Score = 0.515922432650965. It is worth noting that Number of clusters and Average Silhouette Score are almost the same although algorithms differ.\n"
   ]
  },
  {
   "cell_type": "markdown",
   "metadata": {
    "id": "LKwzoKIh_uR6"
   },
   "source": [
    "# **`Deliverable – 6`** <a id = \"link107\"></a>\n",
    "\n",
    "<a href = #link101> Back to Index </a>"
   ]
  },
  {
   "cell_type": "markdown",
   "metadata": {
    "id": "p0PzKDvR_1xQ"
   },
   "source": [
    "## **Compare K-Means Clusters With Hierarchical Clusters**\n",
    "\n",
    "### **Answer**:\n",
    "\n",
    "This analysis was already performed while analysing Hierarchical Clusters for n_clusters = 3. Some of the key observations are listed as follows:\n",
    "\n",
    "1. For final model selected for K-Means (K = 3), the Average Silhouette Score = 0.5157182558881063. For final model selected for Agglomerative Clustering (n_clusters = 3), the Average Silhouette Score = 0.515922432650965. It is worth noting that Number of clusters and Average Silhouette Score are almost the same although algorithms differ.\n",
    "\n",
    "2. The cluster counts for K-Means and Hierarchical Clusters are as follows:\n",
    "\n",
    "  a. Cluster 0 (High Avg_Credit_Limit, Total_Credit_Cards): K-Means - 50, Hierarchical - 50\n",
    "\n",
    "  b. Cluster 1 (Moderate Avg_Credit_Limit, Total_Credit_Cards): K-Means - 386, Hierarchical - 387\n",
    "\n",
    "  b. Cluster 2 (Low Avg_Credit_Limit, Total_Credit_Cards): K-Means - 224, Hierarchical - 223\n",
    "\n",
    "3. The counts and values for mean, median, upper and lower quartiles are almost the same for both K-Means and Hierarchical clustering for number of clusters = 3.\n",
    "\n",
    "___Conclusion___: The clusters formed are fairly consistent irrespective of the algorithm used for this data and for number of clusters = 3."
   ]
  },
  {
   "cell_type": "markdown",
   "metadata": {
    "id": "ZZrmAKbY_7BA"
   },
   "source": [
    "# **`Deliverable – 7`** <a id = \"link108\"></a>\n",
    "\n",
    "<a href = #link101> Back to Index </a>"
   ]
  },
  {
   "cell_type": "markdown",
   "metadata": {
    "id": "34nVz-nmAAsQ"
   },
   "source": [
    "## Analysis The Clusters Formed, Tell Us How Is One Cluster Different From Another And Answer All The Key Questions.\n",
    "\n",
    "### **Answer**:\n",
    "\n",
    "The technical details of clusters were analysed and explained in details from point to point during cluster analysis and model selection. In this answer, we'll analyse the clusters again from business / functional point of view. The analysis will be provided while answering the key questions."
   ]
  },
  {
   "cell_type": "markdown",
   "metadata": {
    "id": "1M6VrYdXSd4p"
   },
   "source": [
    "## **Key Question 1: How many different segments of customers are there?**\n",
    "## **Key Question 2: How are these segments different from each other?**\n",
    "\n",
    "There are three segments of customers here. These segments are:\n",
    "\n",
    "1. **Segment 1:** These customers have the lowest Average Credit Limit and Total Credit Cards. Their Total Calls Made are the highest amongst the three segments. Based on data, their preferred mode of communication with the bank is calls > bank visit > online.\n",
    "\n",
    "2. **Segment 2:** These customers have moderate Average Credit Limit and Total Credit Cards (higher than Segment 1 but lower than Segment 3). Their Total Bank Visits are the highest amongst the three segments. Based on data, their preferred mode of communication with the bank is  bank visit > online > calls.\n",
    "\n",
    "3. **Segment 3:** These customers have the highest Average Credit Limit and Total Credit Cards. Their Total Online Visits are the highest amongst the three segments. Based on data, their preferred mode of communication with the bank is  online > calls > bank visit."
   ]
  },
  {
   "cell_type": "markdown",
   "metadata": {
    "id": "Qj2Y10xRSof3"
   },
   "source": [
    "\n",
    "**Following are Some inferences that can be drawn from these clusters / segments:**\n",
    "\n",
    "1. Customers in **Segment 1**, whose preferred mode of communciation is by call, show less response towards credit card products. Therefore, the customers in this segment have low values for Avg_Credit_Limit and Total_Credit_Cards.\n",
    "\n",
    "2.  Customers in **Segment 3**, who pay more online visits, have the highest values for Avg_Credit_Limit and Total_Credit_Cards. However, the number of customers in this cluster is small as compared to other two clusters.\n",
    "\n",
    "3. **Segment 2** customer segment contains the largest number of customers.Customers in this segment, who pay more bank visits, have higher values values for Avg_Credit_Limit and Total_Credit_Cards than Segment 1 but lower values than Segment 3. This should be considered as normal, especially considering that the purpose for a customer to visit bank may be other than to use / know about credit card services."
   ]
  },
  {
   "cell_type": "markdown",
   "metadata": {
    "id": "R3s_gXeZY8dn"
   },
   "source": [
    "## **Key Question 3: What are your recommendations to the bank on how to better market to and service these customers?**\n",
    "\n",
    "Following are the recommendations based on each Segment. Some recommendations are technical while some are business level.\n",
    "\n",
    "1. **Segment 1**: Call centres are not able to attract customers towards credit card products. The marketing and call centre teams need to focus on improving their services. This may include providing discounts / offers to customers who subscribe to credit card products on call, improving customer grievance or query process on call, reducing call wait times, competency building for support executives etc. \n",
    "\n",
    "  On technical side, it might also be worth to separate this data from main data stream and perform additional analysis on it, such as understanding the socio-economic condition of the customers, their demographic information, their education and work conditions etc. Also, process improvement perspective, a customer feedback mechanism can be put in place to understand the feedback of the customers and possible scopes for improvement. However, these solutions may involve some operational / financial overhead.\n",
    "\n",
    "\n",
    "2. **Segment 2**: This segment is the largest in size, and based on the available data, is performing fair to attract and retain customers towards credit card products. However, there are some scopes of improvements like periodic promotions, customer awareness programs, over the counter discounts and coupons etc. \n",
    "  \n",
    "  Also, considering that this segment largest in size, marketing team should consider this segment as a high opportunity segment. They can work significantly towards promotion of online products and services to the customers in this segment. This will help increase the number of customers preferring online services or online communications. \n",
    "\n",
    "\n",
    "3. **Segment 3**: This segment is the smallest in size although average credit limit and number of credit cards in this segment is the largest compared to other segments. Therefore, it might be worth analysing the factors that are causing less customers to visit online frequently. Bank may have to come up with some strategies to attract more customers to use online / digital banking solutions. \n",
    "  This can be achieved by waiving off / discounting charges on online transactions, online account maintenance, credit card bill payments etc. Also, bank may introduce customer awareness programs to give information on how to use these products / services and get more and more users comfortable to these services. These may include some initial overheads during promotion and user awareness phase, but is extremely cost effective in the long run. \n",
    "  From technical perspective, design and marketing team may invest in technical infrastructure, generating instant and interactive dashboards for users, making user interface more friendly etc.\n",
    "\n",
    "\n",
    "**Generic Recommendation**: It has been observed that many customers have more than one credit card with the same bank. Each credit card internally refers to an account, and therefore, is an operational overhead. The maintenance and follow up on the account balances may prove to be a challenge both to the bank and to the customer. Therefore, bank may consider to limit the number of credit an individual can possess. Instead of having multiple credit cards, bank can provide an option to increase the current credit limit for a card, based on conditions like customers' spending habits, their account clearing frequency etc.\n"
   ]
  }
 ],
 "metadata": {
  "colab": {
   "collapsed_sections": [
    "ozR1KhzoeJKH",
    "KYMLSkFWeJKV",
    "0W2sHNwLeJKV",
    "IrbYPbjyeJKY",
    "tu7xgQicumrO",
    "wr-YS4RsMsKQ",
    "xjKdUMxJQ7SY",
    "krg0TzXHEyKV",
    "CRugqkkOeJKc",
    "Ew0HoHzZeJKm",
    "iatwFsLuUUiA",
    "7b22ZL-6Z0Z3",
    "sQZhzBCjDGwD",
    "ad3r743psE_q",
    "3CU26imJBMom",
    "jea-hamHRHAf",
    "sqq32I0MROUS",
    "ihnfJqf-053z",
    "ILjO4ke_7g85",
    "D6JUxmQKsUTi",
    "Ma-DvTrnyfvU",
    "BNcru5Bx_WTR",
    "8rmUqMm1_kii",
    "p0PzKDvR_1xQ"
   ],
   "name": "UnsupervisedLearningProj.ipynb",
   "provenance": [],
   "toc_visible": true
  },
  "kernelspec": {
   "display_name": "Python 3",
   "language": "python",
   "name": "python3"
  },
  "language_info": {
   "codemirror_mode": {
    "name": "ipython",
    "version": 3
   },
   "file_extension": ".py",
   "mimetype": "text/x-python",
   "name": "python",
   "nbconvert_exporter": "python",
   "pygments_lexer": "ipython3",
   "version": "3.7.6"
  }
 },
 "nbformat": 4,
 "nbformat_minor": 1
}
