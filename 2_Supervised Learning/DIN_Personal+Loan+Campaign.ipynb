{
 "cells": [
  {
   "cell_type": "markdown",
   "metadata": {},
   "source": [
    "# `Thera Bank Personal Loan Campaign`\n",
    "\n",
    "### ***`Data Description: `***\n",
    "\n",
    "The dataset contains data on 5000 customers. The data include customer demographic\n",
    "information (age, income, etc.), the customer's relationship with the bank (mortgage, securities\n",
    "account, etc.), and the customer response to the last personal loan campaign (Personal Loan).\n",
    "Among these 5000 customers, only 480 (= 9.6%) accepted the personal loan that was offered to\n",
    "them in the earlier campaign.\n",
    "\n",
    "\n",
    "###  ***`Domain: `***\n",
    "Banking\n",
    "\n",
    "\n",
    "###  ***`Context:  `*** \n",
    "\n",
    "This case is about a bank (Thera Bank) whose management wants to explore ways of converting\n",
    "its liability customers to personal loan customers (while retaining them as depositors). A\n",
    "campaign that the bank ran last year for liability customers showed a healthy conversion rate of\n",
    "over 9% success. This has encouraged the retail marketing department to devise campaigns\n",
    "with better target marketing to increase the success ratio with a minimal budget.\n",
    "\n",
    "###  ***`Attribute Information:`***\n",
    "\n",
    "- ID: Customer ID\n",
    "- Age: Customer's age in completed years\n",
    "- Experience: #years of professional experience\n",
    "- Income: Annual income of the customer (000)\n",
    "- ZIP Code: Home Address ZIP code.\n",
    "- Family: Family size of the customer\n",
    "- CCAvg: Avg. spending on credit cards per month (000)\n",
    "- Education: Education Level. 1: Undergrad; 2: Graduate; 3: Advanced/Professional\n",
    "- Mortgage: Value of house mortgage if any. (000)\n",
    "- Personal Loan: Did this customer accept the personal loan offered in the last campaign?\n",
    "- Securities Account: Doesthe customer have a securities account with the bank?\n",
    "- CD Account: Doesthe customer have a certificate of deposit (CD) account with the bank?\n",
    "- Online: Does the customer use internet banking facilities?\n",
    "- Credit card: Does the customer use a credit card issued by the bank?"
   ]
  },
  {
   "cell_type": "markdown",
   "metadata": {},
   "source": [
    "## `Learning Outcomes: `\n",
    "\n",
    "- Exploratory Data Analysis\n",
    "- Preparing the data to train a model\n",
    "- Training and making predictions using a classificationmodel\n",
    "- Model evaluation\n",
    "\n",
    "\n",
    "###  ***`Objective:`***\n",
    "The classification goal is to predict the likelihood of a liability customer buying personal loans.\n",
    "\n",
    "\n",
    "###  ***`Steps and tasks:`***\n",
    "\n",
    "1. Import the datasets and libraries, check datatype, statistical summary, shape, null values or incorrect imputation. (5 marks)\n",
    "2. EDA: Study the data distribution in each attribute and target variable, share your findings (20 marks)\n",
    "    - Number of unique in each column?\n",
    "    - Number of people with zero mortgage?\n",
    "    - Number of people with zero credit card spending per month?\n",
    "    - Value counts of all categorical columns.\n",
    "    - Univariate and Bivariate\n",
    "    - Get data model ready\n",
    "3. Split the data into training and test set in the ratio of 70:30 respectively (5 marks)\n",
    "4. Use Logistic Regression model to predict whether the customer will take personal loan or not. Print all the metrics related for evaluating the model performance (15 marks)\n",
    "5. Check different parameters of Logistic Regression and give your reasoning whether the model performance is affected due to it or not? (10 marks)\n",
    "6. Give Business understanding of your model? (5 marks)"
   ]
  },
  {
   "cell_type": "markdown",
   "metadata": {},
   "source": [
    "# <a id = \"link101\"></a> `Index: `\n",
    "\n",
    "- <a href = #link102>Question1: Import the datasets and libraries, check datatype, statistical summary, shape, null values or incorrect imputation. (5 marks)</a>\n",
    "- <a href = #link103>Question2: EDA: Study the data distribution in each attribute and target variable, share your findings (20 marks)</a>\n",
    "    - <a href = #link104>Number of unique in each column?</a>\n",
    "    - <a href = #link104>Number of people with zero mortgage?</a>\n",
    "    - <a href = #link104>Number of people with zero credit card spending per month?</a>\n",
    "    - <a href = #link104>Value counts of all categorical columns.</a>\n",
    "    - <a href = #link105>Univariate and Bivariate</a>\n",
    "    - <a href = #link106>Get data model ready</a>\n",
    "- <a href = #link107>Question3: Split the data into training and test set in the ratio of 70:30 respectively (5 marks)</a>\n",
    "- <a href = #link108>Question4: Use Logistic Regression model to predict whether the customer will take personal loan or not. Print all the metrics related for evaluating the model performance (15 marks)</a>\n",
    "- <a href = #link109>Question5: Check different parameters of Logistic Regression and give your reasoning whether the model performance is affected due to it or not? (10 marks)</a>\n",
    "- <a href = #link110>Question6: Give Business understanding of your model? (5 marks)</a>"
   ]
  },
  {
   "cell_type": "markdown",
   "metadata": {},
   "source": [
    "## `Question1` <a id = \"link102\"></a>\n",
    "\n",
    "<a href = #link101> Back to Index </a>"
   ]
  },
  {
   "cell_type": "code",
   "execution_count": 1,
   "metadata": {},
   "outputs": [],
   "source": [
    "#import libraries\n",
    "import numpy as np\n",
    "import pandas as pd\n",
    "import matplotlib.pyplot as plt\n",
    "import seaborn as sns\n",
    "%matplotlib inline \n",
    "from sklearn.impute import SimpleImputer\n",
    "from sklearn.model_selection import train_test_split\n",
    "from sklearn import metrics\n",
    "from sklearn.linear_model import LogisticRegression\n",
    "from sklearn.metrics import recall_score, precision_score, f1_score, roc_auc_score,accuracy_score"
   ]
  },
  {
   "cell_type": "code",
   "execution_count": 2,
   "metadata": {},
   "outputs": [],
   "source": [
    "#Read Data\n",
    "pdata  = pd.read_csv('Bank_Personal_Loan_Modelling.csv')"
   ]
  },
  {
   "cell_type": "code",
   "execution_count": 3,
   "metadata": {},
   "outputs": [
    {
     "name": "stdout",
     "output_type": "stream",
     "text": [
      "(5000, 14)\n",
      "\n",
      "\n",
      "<class 'pandas.core.frame.DataFrame'>\n",
      "RangeIndex: 5000 entries, 0 to 4999\n",
      "Data columns (total 14 columns):\n",
      " #   Column              Non-Null Count  Dtype  \n",
      "---  ------              --------------  -----  \n",
      " 0   ID                  5000 non-null   int64  \n",
      " 1   Age                 5000 non-null   int64  \n",
      " 2   Experience          5000 non-null   int64  \n",
      " 3   Income              5000 non-null   int64  \n",
      " 4   ZIP Code            5000 non-null   int64  \n",
      " 5   Family              5000 non-null   int64  \n",
      " 6   CCAvg               5000 non-null   float64\n",
      " 7   Education           5000 non-null   int64  \n",
      " 8   Mortgage            5000 non-null   int64  \n",
      " 9   Personal Loan       5000 non-null   int64  \n",
      " 10  Securities Account  5000 non-null   int64  \n",
      " 11  CD Account          5000 non-null   int64  \n",
      " 12  Online              5000 non-null   int64  \n",
      " 13  CreditCard          5000 non-null   int64  \n",
      "dtypes: float64(1), int64(13)\n",
      "memory usage: 547.0 KB\n",
      "\n",
      "\n"
     ]
    }
   ],
   "source": [
    "#Stastical Analysis\n",
    "print(pdata.shape)\n",
    "print(\"\\n\")\n",
    "pdata.info()\n",
    "print(\"\\n\")"
   ]
  },
  {
   "cell_type": "code",
   "execution_count": 4,
   "metadata": {},
   "outputs": [
    {
     "data": {
      "text/html": [
       "<div>\n",
       "<style scoped>\n",
       "    .dataframe tbody tr th:only-of-type {\n",
       "        vertical-align: middle;\n",
       "    }\n",
       "\n",
       "    .dataframe tbody tr th {\n",
       "        vertical-align: top;\n",
       "    }\n",
       "\n",
       "    .dataframe thead th {\n",
       "        text-align: right;\n",
       "    }\n",
       "</style>\n",
       "<table border=\"1\" class=\"dataframe\">\n",
       "  <thead>\n",
       "    <tr style=\"text-align: right;\">\n",
       "      <th></th>\n",
       "      <th>count</th>\n",
       "      <th>mean</th>\n",
       "      <th>std</th>\n",
       "      <th>min</th>\n",
       "      <th>25%</th>\n",
       "      <th>50%</th>\n",
       "      <th>75%</th>\n",
       "      <th>max</th>\n",
       "    </tr>\n",
       "  </thead>\n",
       "  <tbody>\n",
       "    <tr>\n",
       "      <th>ID</th>\n",
       "      <td>5000.0</td>\n",
       "      <td>2500.500000</td>\n",
       "      <td>1443.520003</td>\n",
       "      <td>1.0</td>\n",
       "      <td>1250.75</td>\n",
       "      <td>2500.5</td>\n",
       "      <td>3750.25</td>\n",
       "      <td>5000.0</td>\n",
       "    </tr>\n",
       "    <tr>\n",
       "      <th>Age</th>\n",
       "      <td>5000.0</td>\n",
       "      <td>45.338400</td>\n",
       "      <td>11.463166</td>\n",
       "      <td>23.0</td>\n",
       "      <td>35.00</td>\n",
       "      <td>45.0</td>\n",
       "      <td>55.00</td>\n",
       "      <td>67.0</td>\n",
       "    </tr>\n",
       "    <tr>\n",
       "      <th>Experience</th>\n",
       "      <td>5000.0</td>\n",
       "      <td>20.104600</td>\n",
       "      <td>11.467954</td>\n",
       "      <td>-3.0</td>\n",
       "      <td>10.00</td>\n",
       "      <td>20.0</td>\n",
       "      <td>30.00</td>\n",
       "      <td>43.0</td>\n",
       "    </tr>\n",
       "    <tr>\n",
       "      <th>Income</th>\n",
       "      <td>5000.0</td>\n",
       "      <td>73.774200</td>\n",
       "      <td>46.033729</td>\n",
       "      <td>8.0</td>\n",
       "      <td>39.00</td>\n",
       "      <td>64.0</td>\n",
       "      <td>98.00</td>\n",
       "      <td>224.0</td>\n",
       "    </tr>\n",
       "    <tr>\n",
       "      <th>ZIP Code</th>\n",
       "      <td>5000.0</td>\n",
       "      <td>93152.503000</td>\n",
       "      <td>2121.852197</td>\n",
       "      <td>9307.0</td>\n",
       "      <td>91911.00</td>\n",
       "      <td>93437.0</td>\n",
       "      <td>94608.00</td>\n",
       "      <td>96651.0</td>\n",
       "    </tr>\n",
       "    <tr>\n",
       "      <th>Family</th>\n",
       "      <td>5000.0</td>\n",
       "      <td>2.396400</td>\n",
       "      <td>1.147663</td>\n",
       "      <td>1.0</td>\n",
       "      <td>1.00</td>\n",
       "      <td>2.0</td>\n",
       "      <td>3.00</td>\n",
       "      <td>4.0</td>\n",
       "    </tr>\n",
       "    <tr>\n",
       "      <th>CCAvg</th>\n",
       "      <td>5000.0</td>\n",
       "      <td>1.937938</td>\n",
       "      <td>1.747659</td>\n",
       "      <td>0.0</td>\n",
       "      <td>0.70</td>\n",
       "      <td>1.5</td>\n",
       "      <td>2.50</td>\n",
       "      <td>10.0</td>\n",
       "    </tr>\n",
       "    <tr>\n",
       "      <th>Education</th>\n",
       "      <td>5000.0</td>\n",
       "      <td>1.881000</td>\n",
       "      <td>0.839869</td>\n",
       "      <td>1.0</td>\n",
       "      <td>1.00</td>\n",
       "      <td>2.0</td>\n",
       "      <td>3.00</td>\n",
       "      <td>3.0</td>\n",
       "    </tr>\n",
       "    <tr>\n",
       "      <th>Mortgage</th>\n",
       "      <td>5000.0</td>\n",
       "      <td>56.498800</td>\n",
       "      <td>101.713802</td>\n",
       "      <td>0.0</td>\n",
       "      <td>0.00</td>\n",
       "      <td>0.0</td>\n",
       "      <td>101.00</td>\n",
       "      <td>635.0</td>\n",
       "    </tr>\n",
       "    <tr>\n",
       "      <th>Personal Loan</th>\n",
       "      <td>5000.0</td>\n",
       "      <td>0.096000</td>\n",
       "      <td>0.294621</td>\n",
       "      <td>0.0</td>\n",
       "      <td>0.00</td>\n",
       "      <td>0.0</td>\n",
       "      <td>0.00</td>\n",
       "      <td>1.0</td>\n",
       "    </tr>\n",
       "    <tr>\n",
       "      <th>Securities Account</th>\n",
       "      <td>5000.0</td>\n",
       "      <td>0.104400</td>\n",
       "      <td>0.305809</td>\n",
       "      <td>0.0</td>\n",
       "      <td>0.00</td>\n",
       "      <td>0.0</td>\n",
       "      <td>0.00</td>\n",
       "      <td>1.0</td>\n",
       "    </tr>\n",
       "    <tr>\n",
       "      <th>CD Account</th>\n",
       "      <td>5000.0</td>\n",
       "      <td>0.060400</td>\n",
       "      <td>0.238250</td>\n",
       "      <td>0.0</td>\n",
       "      <td>0.00</td>\n",
       "      <td>0.0</td>\n",
       "      <td>0.00</td>\n",
       "      <td>1.0</td>\n",
       "    </tr>\n",
       "    <tr>\n",
       "      <th>Online</th>\n",
       "      <td>5000.0</td>\n",
       "      <td>0.596800</td>\n",
       "      <td>0.490589</td>\n",
       "      <td>0.0</td>\n",
       "      <td>0.00</td>\n",
       "      <td>1.0</td>\n",
       "      <td>1.00</td>\n",
       "      <td>1.0</td>\n",
       "    </tr>\n",
       "    <tr>\n",
       "      <th>CreditCard</th>\n",
       "      <td>5000.0</td>\n",
       "      <td>0.294000</td>\n",
       "      <td>0.455637</td>\n",
       "      <td>0.0</td>\n",
       "      <td>0.00</td>\n",
       "      <td>0.0</td>\n",
       "      <td>1.00</td>\n",
       "      <td>1.0</td>\n",
       "    </tr>\n",
       "  </tbody>\n",
       "</table>\n",
       "</div>"
      ],
      "text/plain": [
       "                     count          mean          std     min       25%  \\\n",
       "ID                  5000.0   2500.500000  1443.520003     1.0   1250.75   \n",
       "Age                 5000.0     45.338400    11.463166    23.0     35.00   \n",
       "Experience          5000.0     20.104600    11.467954    -3.0     10.00   \n",
       "Income              5000.0     73.774200    46.033729     8.0     39.00   \n",
       "ZIP Code            5000.0  93152.503000  2121.852197  9307.0  91911.00   \n",
       "Family              5000.0      2.396400     1.147663     1.0      1.00   \n",
       "CCAvg               5000.0      1.937938     1.747659     0.0      0.70   \n",
       "Education           5000.0      1.881000     0.839869     1.0      1.00   \n",
       "Mortgage            5000.0     56.498800   101.713802     0.0      0.00   \n",
       "Personal Loan       5000.0      0.096000     0.294621     0.0      0.00   \n",
       "Securities Account  5000.0      0.104400     0.305809     0.0      0.00   \n",
       "CD Account          5000.0      0.060400     0.238250     0.0      0.00   \n",
       "Online              5000.0      0.596800     0.490589     0.0      0.00   \n",
       "CreditCard          5000.0      0.294000     0.455637     0.0      0.00   \n",
       "\n",
       "                        50%       75%      max  \n",
       "ID                   2500.5   3750.25   5000.0  \n",
       "Age                    45.0     55.00     67.0  \n",
       "Experience             20.0     30.00     43.0  \n",
       "Income                 64.0     98.00    224.0  \n",
       "ZIP Code            93437.0  94608.00  96651.0  \n",
       "Family                  2.0      3.00      4.0  \n",
       "CCAvg                   1.5      2.50     10.0  \n",
       "Education               2.0      3.00      3.0  \n",
       "Mortgage                0.0    101.00    635.0  \n",
       "Personal Loan           0.0      0.00      1.0  \n",
       "Securities Account      0.0      0.00      1.0  \n",
       "CD Account              0.0      0.00      1.0  \n",
       "Online                  1.0      1.00      1.0  \n",
       "CreditCard              0.0      1.00      1.0  "
      ]
     },
     "execution_count": 4,
     "metadata": {},
     "output_type": "execute_result"
    }
   ],
   "source": [
    "pdata.describe().T"
   ]
  },
  {
   "cell_type": "code",
   "execution_count": 5,
   "metadata": {},
   "outputs": [
    {
     "name": "stdout",
     "output_type": "stream",
     "text": [
      "Column Names and number of nulls they contains is as follows:\n",
      "ID                    0\n",
      "Age                   0\n",
      "Experience            0\n",
      "Income                0\n",
      "ZIP Code              0\n",
      "Family                0\n",
      "CCAvg                 0\n",
      "Education             0\n",
      "Mortgage              0\n",
      "Personal Loan         0\n",
      "Securities Account    0\n",
      "CD Account            0\n",
      "Online                0\n",
      "CreditCard            0\n",
      "dtype: int64\n"
     ]
    }
   ],
   "source": [
    "print(\"Column Names and number of nulls they contains is as follows:\")\n",
    "print(pdata.isnull().sum()) # Number of nulls in each column of the dataframe\n",
    "#pdata.isnull().values.any() # This is another way to check if there are any null values in data set"
   ]
  },
  {
   "cell_type": "code",
   "execution_count": 6,
   "metadata": {},
   "outputs": [
    {
     "name": "stdout",
     "output_type": "stream",
     "text": [
      "ID                    3452\n",
      "Age                   3452\n",
      "Experience            3452\n",
      "Income                3452\n",
      "ZIP Code              3452\n",
      "Family                3452\n",
      "CCAvg                 3452\n",
      "Education             3452\n",
      "Mortgage              3452\n",
      "Personal Loan         3452\n",
      "Securities Account    3452\n",
      "CD Account            3452\n",
      "Online                3452\n",
      "CreditCard            3452\n",
      "dtype: int64\n"
     ]
    }
   ],
   "source": [
    "#Suspicion for incorrect imputation:\n",
    "#Check the number of customers who don't have credit card (CreditCard = 0) but have non-zero CCAvg\n",
    "\n",
    "print(pdata[pdata['CreditCard'] == 0][pdata[pdata['CreditCard'] == 0]['CCAvg'] > 0].count())"
   ]
  },
  {
   "cell_type": "markdown",
   "metadata": {},
   "source": [
    "### <a id = \"link1\"></a> ***`Observations for Question1:`***\n",
    "\n",
    "<a href = #link101> Back to Index </a>\n",
    "\n",
    "- Dataset contains 5000 rows and 14 columns (Used: pdata.shape)\n",
    "- No nulls observed in the data. There are two columns of datatype float64 (Experience and CCAvg) and remaining are int64 (Used: pdata.info() and pdata.isnull().sum())\n",
    "- ID looks like a sequence in range 1 to 5000 with a step size of 1.\n",
    "- Age ranges from 23 to 67, and average of min and max ages is coincidentally the 50%. So the age group seems balanced.\n",
    "- Minimum experience is negative 3, it may need investigation. **Looks like incorrect imputation**. Ask this question: Check if it is appropriate to drop such cases during data preparation. Can experience be negative?\n",
    "- Outliers observed in the income column. It seems right skewed.\n",
    "- Zip code can be a 4 digit or a 5 digit number. Can be checked if 4 digit zipcode is valid to confirm about data quality.\n",
    "- Around 25% rows in dataset have family size of 1. Same holds true for family sizes 2, 3, and 4 also.\n",
    "- More than 75% people spend less than or equal to 2.50 using using credit card. \n",
    "- More than 50% of the people in the given dataset have education more than 2.\n",
    "- More than 50% people have zero mortgage.\n",
    "- Personal Loan, Securities Account, CD Account, Online, and CreditCard all are of type int64. They contain values 0 or 1. So they can be considered as categorical variables. \n",
    "- More than 75% of people **haven't** opted for Personal Loan, Securities Account and CD Account.\n",
    "- More than 50% of people **have** opted for Online.\n",
    "- Around 25% of people **have** opted for CreditCard.\n",
    "- There are 3452 people who haven't opted for CreditCard but their CCAvg > 0. This may a result of wrong imputation or it may be possible that these people have credit card from other bank or their credit cards have expired. Needs further investigation. For model building, it is assumed that these people have credit card from other bank or their credit cards have expired"
   ]
  },
  {
   "cell_type": "markdown",
   "metadata": {},
   "source": [
    "## `Question2` <a id = \"link103\"></a>\n",
    "\n",
    "<a href = #link101> Back to Index </a>"
   ]
  },
  {
   "cell_type": "code",
   "execution_count": 7,
   "metadata": {},
   "outputs": [
    {
     "data": {
      "text/plain": [
       "ID                    5000\n",
       "Age                     45\n",
       "Experience              47\n",
       "Income                 162\n",
       "ZIP Code               467\n",
       "Family                   4\n",
       "CCAvg                  108\n",
       "Education                3\n",
       "Mortgage               347\n",
       "Personal Loan            2\n",
       "Securities Account       2\n",
       "CD Account               2\n",
       "Online                   2\n",
       "CreditCard               2\n",
       "dtype: int64"
      ]
     },
     "execution_count": 7,
     "metadata": {},
     "output_type": "execute_result"
    }
   ],
   "source": [
    "pdata.nunique() # Number of unique values in a column"
   ]
  },
  {
   "cell_type": "code",
   "execution_count": 8,
   "metadata": {},
   "outputs": [
    {
     "name": "stdout",
     "output_type": "stream",
     "text": [
      "ID                       0\n",
      "Age                      0\n",
      "Experience              66\n",
      "Income                   0\n",
      "ZIP Code                 0\n",
      "Family                   0\n",
      "CCAvg                  106\n",
      "Education                0\n",
      "Mortgage              3462\n",
      "Personal Loan         4520\n",
      "Securities Account    4478\n",
      "CD Account            4698\n",
      "Online                2016\n",
      "CreditCard            3530\n",
      "dtype: int64\n"
     ]
    }
   ],
   "source": [
    "print(pdata[:][pdata[:] == 0].count()) # Number of zeros in a column"
   ]
  },
  {
   "cell_type": "code",
   "execution_count": 9,
   "metadata": {},
   "outputs": [
    {
     "name": "stdout",
     "output_type": "stream",
     "text": [
      "0    0.904\n",
      "1    0.096\n",
      "Name: Personal Loan, dtype: float64\n",
      "\n",
      "\n",
      "0    0.8956\n",
      "1    0.1044\n",
      "Name: Securities Account, dtype: float64\n",
      "\n",
      "\n",
      "0    0.9396\n",
      "1    0.0604\n",
      "Name: CD Account, dtype: float64\n",
      "\n",
      "\n",
      "1    0.5968\n",
      "0    0.4032\n",
      "Name: Online, dtype: float64\n",
      "\n",
      "\n",
      "0    0.706\n",
      "1    0.294\n",
      "Name: CreditCard, dtype: float64\n",
      "\n",
      "\n",
      "1    0.2944\n",
      "2    0.2592\n",
      "4    0.2444\n",
      "3    0.2020\n",
      "Name: Family, dtype: float64\n",
      "\n",
      "\n",
      "1    0.4192\n",
      "3    0.3002\n",
      "2    0.2806\n",
      "Name: Education, dtype: float64\n"
     ]
    }
   ],
   "source": [
    "# value counts gives us how many times does the value \n",
    "print(pdata['Personal Loan'].value_counts(normalize=True))\n",
    "print(\"\\n\")\n",
    "print(pdata['Securities Account'].value_counts(normalize=True))\n",
    "print(\"\\n\")\n",
    "print(pdata['CD Account'].value_counts(normalize=True))\n",
    "print(\"\\n\")\n",
    "print(pdata['Online'].value_counts(normalize=True))\n",
    "print(\"\\n\")\n",
    "print(pdata['CreditCard'].value_counts(normalize=True))\n",
    "print(\"\\n\")\n",
    "print(pdata['Family'].value_counts(normalize=True))\n",
    "print(\"\\n\")\n",
    "print(pdata['Education'].value_counts(normalize=True))"
   ]
  },
  {
   "cell_type": "markdown",
   "metadata": {},
   "source": [
    "### ***`Observations for Question2:`*** <a id = \"link104\"></a>\n",
    "\n",
    "<a href = #link101> Back to Index </a>\n",
    "\n",
    "Following questions can be answered based on the output of above two cells:\n",
    "\n",
    "***Number of unique in each column?***\n",
    "- ID looks like a key column (e.g. primary key, as it's a non-null column with all unique values). Personal Loan, Securities Account, CD Account, Online, and CreditCard all are of type int64 (described above also). They contain **2 unique values**, values 0 or 1. So they can be considered as categorical variables.\n",
    "\n",
    "***Number of people with zero mortgage?***\n",
    "- 3462, means more than 69% people haven't opted for mortgage.\n",
    "\n",
    "***Number of people with zero credit card spending per month?***\n",
    "- 106.\n",
    "\n",
    "***Value counts of all categorical columns.***\n",
    "- *Categorical Columns*: By definition, those columns with Dtype \"object\" are considered as categorical columns. If we have to strictly follow this definition, and consider the fact that no additional information is provided on how to identify categorical columns, number of categorical columns is zero. However, there are few columns that contain very less unique values. These columns could be considered as categorical columns. Considering this, following **seven** are the categorical columns in this dataset. Value count and frequency of occurrance of each value in these columns is printed above:\n",
    "1. Personal Loan\n",
    "2. Securities Account\n",
    "3. CD Account\n",
    "4. Online\n",
    "5. CreditCard\n",
    "6. Family\n",
    "7. Education"
   ]
  },
  {
   "cell_type": "markdown",
   "metadata": {},
   "source": [
    "### ***`Univariate and Bivariate`:*** <a id = \"link105\"></a>\n",
    "\n",
    "<a href = #link101> Back to Index </a>"
   ]
  },
  {
   "cell_type": "code",
   "execution_count": 10,
   "metadata": {},
   "outputs": [
    {
     "data": {
      "image/png": "[encoded data removed]",
      "text/plain": [
       "<Figure size 864x3960 with 28 Axes>"
      ]
     },
     "metadata": {
      "needs_background": "light"
     },
     "output_type": "display_data"
    }
   ],
   "source": [
    "columns = list(pdata)[:]\n",
    "pdata[columns].hist(stacked=False, bins=100, figsize=(12,55), layout=(14,2)); "
   ]
  },
  {
   "cell_type": "markdown",
   "metadata": {},
   "source": [
    "***`Insight:`*** Above histograms substantiate <a href = #link1>Observations for Question1 </a>. To carry out further analysis, and understand how target variable is correlated with other variables (assuming that they are independent), following heat map is plotted."
   ]
  },
  {
   "cell_type": "code",
   "execution_count": 11,
   "metadata": {},
   "outputs": [
    {
     "data": {
      "image/png": "[encoded data removed]",
      "text/plain": [
       "<Figure size 864x864 with 1 Axes>"
      ]
     },
     "metadata": {
      "needs_background": "light"
     },
     "output_type": "display_data"
    }
   ],
   "source": [
    "#sns.pairplot(pdata,diag_kind='kde')\n",
    "pdata.corr().round(3)\n",
    "\n",
    "# Plotting correlation to analyze how target variable \"Personal Loan\" is correlated with other variables\n",
    "def plot_corr(df, size=12):\n",
    "    corr = df.corr()\n",
    "    fig, ax = plt.subplots(figsize=(size, size))\n",
    "    ax.matshow(corr)\n",
    "    plt.xticks(range(len(corr.columns)), corr.columns, rotation='vertical')\n",
    "    plt.yticks(range(len(corr.columns)), corr.columns)\n",
    "    for (i, j), z in np.ndenumerate(corr):\n",
    "        ax.text(j, i, '{:0.3f}'.format(z), ha='center', va='center')\n",
    "\n",
    "plot_corr(pdata)"
   ]
  },
  {
   "cell_type": "markdown",
   "metadata": {},
   "source": [
    "***`Observations:`***\n",
    "\n",
    "Following are the observations on how \"Personal Loan\" (target variable / Y variable / dependent variable) is correlated with other variables (X-Variables / independent variables):\n",
    "- ID: Very weak (-ve) correlation.\n",
    "- Age: Very weak (-ve) correlation. Almost no correlation.\n",
    "- Experience: Very weak (-ve) correlation. Almost no correlation.\n",
    "- Income: Fairly +ve correlation (more than 0.5)\n",
    "- ZIPCode: No correlation. Can be omitted from algorithm.\n",
    "- Family: Very weak (+ve) correlation.\n",
    "- CCAvg: Fairly +ve correlation (more than 0.36)\n",
    "- Education: Somewhat +ve correlation (more than 0.137)\n",
    "- Mortgage: Somewhat +ve correlation (more than 0.137)\n",
    "- SecuritiesAccount: Very weak (+ve) correlation.\n",
    "- CDAccount: Fairly +ve correlation (more than 0.31)\n",
    "- Online: Very weak (+ve) correlation.\n",
    "- CreditCard: Very weak (+ve) correlation."
   ]
  },
  {
   "cell_type": "markdown",
   "metadata": {},
   "source": [
    "### ***`Bivariate:`***\n",
    "\n",
    "<a href = #link101> Back to Index </a>"
   ]
  },
  {
   "cell_type": "code",
   "execution_count": 12,
   "metadata": {},
   "outputs": [
    {
     "data": {
      "text/html": [
       "<div>\n",
       "<style scoped>\n",
       "    .dataframe tbody tr th:only-of-type {\n",
       "        vertical-align: middle;\n",
       "    }\n",
       "\n",
       "    .dataframe tbody tr th {\n",
       "        vertical-align: top;\n",
       "    }\n",
       "\n",
       "    .dataframe thead th {\n",
       "        text-align: right;\n",
       "    }\n",
       "</style>\n",
       "<table border=\"1\" class=\"dataframe\">\n",
       "  <thead>\n",
       "    <tr style=\"text-align: right;\">\n",
       "      <th>Personal Loan</th>\n",
       "      <th>0</th>\n",
       "      <th>1</th>\n",
       "    </tr>\n",
       "  </thead>\n",
       "  <tbody>\n",
       "    <tr>\n",
       "      <th>ID</th>\n",
       "      <td>2512.165487</td>\n",
       "      <td>2390.650000</td>\n",
       "    </tr>\n",
       "    <tr>\n",
       "      <th>Age</th>\n",
       "      <td>45.367257</td>\n",
       "      <td>45.066667</td>\n",
       "    </tr>\n",
       "    <tr>\n",
       "      <th>Experience</th>\n",
       "      <td>20.132301</td>\n",
       "      <td>19.843750</td>\n",
       "    </tr>\n",
       "    <tr>\n",
       "      <th>Income</th>\n",
       "      <td>66.237389</td>\n",
       "      <td>144.745833</td>\n",
       "    </tr>\n",
       "    <tr>\n",
       "      <th>ZIP Code</th>\n",
       "      <td>93152.428761</td>\n",
       "      <td>93153.202083</td>\n",
       "    </tr>\n",
       "    <tr>\n",
       "      <th>Family</th>\n",
       "      <td>2.373451</td>\n",
       "      <td>2.612500</td>\n",
       "    </tr>\n",
       "    <tr>\n",
       "      <th>CCAvg</th>\n",
       "      <td>1.729009</td>\n",
       "      <td>3.905354</td>\n",
       "    </tr>\n",
       "    <tr>\n",
       "      <th>Education</th>\n",
       "      <td>1.843584</td>\n",
       "      <td>2.233333</td>\n",
       "    </tr>\n",
       "    <tr>\n",
       "      <th>Mortgage</th>\n",
       "      <td>51.789381</td>\n",
       "      <td>100.845833</td>\n",
       "    </tr>\n",
       "    <tr>\n",
       "      <th>Securities Account</th>\n",
       "      <td>0.102212</td>\n",
       "      <td>0.125000</td>\n",
       "    </tr>\n",
       "    <tr>\n",
       "      <th>CD Account</th>\n",
       "      <td>0.035841</td>\n",
       "      <td>0.291667</td>\n",
       "    </tr>\n",
       "    <tr>\n",
       "      <th>Online</th>\n",
       "      <td>0.595796</td>\n",
       "      <td>0.606250</td>\n",
       "    </tr>\n",
       "    <tr>\n",
       "      <th>CreditCard</th>\n",
       "      <td>0.293584</td>\n",
       "      <td>0.297917</td>\n",
       "    </tr>\n",
       "  </tbody>\n",
       "</table>\n",
       "</div>"
      ],
      "text/plain": [
       "Personal Loan                  0             1\n",
       "ID                   2512.165487   2390.650000\n",
       "Age                    45.367257     45.066667\n",
       "Experience             20.132301     19.843750\n",
       "Income                 66.237389    144.745833\n",
       "ZIP Code            93152.428761  93153.202083\n",
       "Family                  2.373451      2.612500\n",
       "CCAvg                   1.729009      3.905354\n",
       "Education               1.843584      2.233333\n",
       "Mortgage               51.789381    100.845833\n",
       "Securities Account      0.102212      0.125000\n",
       "CD Account              0.035841      0.291667\n",
       "Online                  0.595796      0.606250\n",
       "CreditCard              0.293584      0.297917"
      ]
     },
     "execution_count": 12,
     "metadata": {},
     "output_type": "execute_result"
    }
   ],
   "source": [
    "#Overall analysis: Perform analysis of mean values of the column for cases when people took / did not take a personal loan.\n",
    "pdata.groupby([\"Personal Loan\"]).mean().T"
   ]
  },
  {
   "cell_type": "markdown",
   "metadata": {},
   "source": [
    "***`Observations:`*** Income, CCAvg, and Mortgage are higher for people who took personal loan."
   ]
  },
  {
   "cell_type": "code",
   "execution_count": 13,
   "metadata": {},
   "outputs": [
    {
     "data": {
      "text/html": [
       "<div>\n",
       "<style scoped>\n",
       "    .dataframe tbody tr th:only-of-type {\n",
       "        vertical-align: middle;\n",
       "    }\n",
       "\n",
       "    .dataframe tbody tr th {\n",
       "        vertical-align: top;\n",
       "    }\n",
       "\n",
       "    .dataframe thead th {\n",
       "        text-align: right;\n",
       "    }\n",
       "</style>\n",
       "<table border=\"1\" class=\"dataframe\">\n",
       "  <thead>\n",
       "    <tr style=\"text-align: right;\">\n",
       "      <th>Personal Loan</th>\n",
       "      <th>0</th>\n",
       "      <th>1</th>\n",
       "    </tr>\n",
       "  </thead>\n",
       "  <tbody>\n",
       "    <tr>\n",
       "      <th>ID</th>\n",
       "      <td>2518.5</td>\n",
       "      <td>2342.0</td>\n",
       "    </tr>\n",
       "    <tr>\n",
       "      <th>Age</th>\n",
       "      <td>45.0</td>\n",
       "      <td>45.0</td>\n",
       "    </tr>\n",
       "    <tr>\n",
       "      <th>Experience</th>\n",
       "      <td>20.0</td>\n",
       "      <td>20.0</td>\n",
       "    </tr>\n",
       "    <tr>\n",
       "      <th>Income</th>\n",
       "      <td>59.0</td>\n",
       "      <td>142.5</td>\n",
       "    </tr>\n",
       "    <tr>\n",
       "      <th>ZIP Code</th>\n",
       "      <td>93437.0</td>\n",
       "      <td>93407.0</td>\n",
       "    </tr>\n",
       "    <tr>\n",
       "      <th>Family</th>\n",
       "      <td>2.0</td>\n",
       "      <td>3.0</td>\n",
       "    </tr>\n",
       "    <tr>\n",
       "      <th>CCAvg</th>\n",
       "      <td>1.4</td>\n",
       "      <td>3.8</td>\n",
       "    </tr>\n",
       "    <tr>\n",
       "      <th>Education</th>\n",
       "      <td>2.0</td>\n",
       "      <td>2.0</td>\n",
       "    </tr>\n",
       "    <tr>\n",
       "      <th>Mortgage</th>\n",
       "      <td>0.0</td>\n",
       "      <td>0.0</td>\n",
       "    </tr>\n",
       "    <tr>\n",
       "      <th>Securities Account</th>\n",
       "      <td>0.0</td>\n",
       "      <td>0.0</td>\n",
       "    </tr>\n",
       "    <tr>\n",
       "      <th>CD Account</th>\n",
       "      <td>0.0</td>\n",
       "      <td>0.0</td>\n",
       "    </tr>\n",
       "    <tr>\n",
       "      <th>Online</th>\n",
       "      <td>1.0</td>\n",
       "      <td>1.0</td>\n",
       "    </tr>\n",
       "    <tr>\n",
       "      <th>CreditCard</th>\n",
       "      <td>0.0</td>\n",
       "      <td>0.0</td>\n",
       "    </tr>\n",
       "  </tbody>\n",
       "</table>\n",
       "</div>"
      ],
      "text/plain": [
       "Personal Loan             0        1\n",
       "ID                   2518.5   2342.0\n",
       "Age                    45.0     45.0\n",
       "Experience             20.0     20.0\n",
       "Income                 59.0    142.5\n",
       "ZIP Code            93437.0  93407.0\n",
       "Family                  2.0      3.0\n",
       "CCAvg                   1.4      3.8\n",
       "Education               2.0      2.0\n",
       "Mortgage                0.0      0.0\n",
       "Securities Account      0.0      0.0\n",
       "CD Account              0.0      0.0\n",
       "Online                  1.0      1.0\n",
       "CreditCard              0.0      0.0"
      ]
     },
     "execution_count": 13,
     "metadata": {},
     "output_type": "execute_result"
    }
   ],
   "source": [
    "#Overall analysis: Perform analysis of median values of the column for cases when people took / did not take a personal loan.\n",
    "pdata.groupby([\"Personal Loan\"]).median().T"
   ]
  },
  {
   "cell_type": "markdown",
   "metadata": {},
   "source": [
    "***`Observations:`*** Income and CCAvg are higher for people who took personal loan."
   ]
  },
  {
   "cell_type": "code",
   "execution_count": 14,
   "metadata": {},
   "outputs": [
    {
     "name": "stdout",
     "output_type": "stream",
     "text": [
      "Number of true cases: 480 (9.60%)\n",
      "Number of false cases: 4520 (90.40%)\n"
     ]
    }
   ],
   "source": [
    "#Calculate % of people who took personal loan vs. who didn't take a loan.\n",
    "n_true = len(pdata.loc[pdata['Personal Loan'] == True])\n",
    "n_false = len(pdata.loc[pdata['Personal Loan'] == False])\n",
    "print(\"Number of true cases: {0} ({1:2.2f}%)\".format(n_true, (n_true / (n_true + n_false)) * 100 ))\n",
    "print(\"Number of false cases: {0} ({1:2.2f}%)\".format(n_false, (n_false / (n_true + n_false)) * 100))"
   ]
  },
  {
   "cell_type": "markdown",
   "metadata": {},
   "source": [
    "***`Observations:`*** Less than 10% of people have opted for a personal loan. This confirms the details provided in the problem statement."
   ]
  },
  {
   "cell_type": "markdown",
   "metadata": {},
   "source": [
    "## ***`Data Preparation / Get Data Model Ready:`*** <a id = \"link106\"></a>\n",
    "\n",
    "<a href = #link101> Back to Index </a>"
   ]
  },
  {
   "cell_type": "markdown",
   "metadata": {},
   "source": [
    "#### ***`Strategy:`***\n",
    "\n",
    "Target Variable: Personal Loan\n",
    "- ID: Drop the column as it has all unique values and it not a continous column. That would not provide any info to the algorithm.\n",
    "- Age: No imputation needed as it is non-null, non-zero column.\n",
    "- Experience: Investigate -ve experiences and drop corresponding rows, if possible. Also, if experience is imputed with mean or median experience, there is a probability that we have individuals whose experience is more than their age. So the strategy followed here is:\n",
    "1. Find age at which people started their employment (age - experience)\n",
    "2. Find mean of above value\n",
    "3. Replace 0s with (age - mean found in step2)\n",
    "- Above strategy for experience has not been implemented here considering that experience has a very weak correlation with the target variable, and also considering that it is effort consuming for the results it brings. \n",
    "- ***`Final Decision on Experience:`*** Replace -ve values and zeros with mean.\n",
    "- Income: No imputation needed as it is non-null, non-zero column.\n",
    "- ZIP Code: Drop the column as it doesn't contribute towards the target variable.\n",
    "- Family: Convert into category.\n",
    "- CCAvg: Replace zeros with mean.\n",
    "- Education: Convert into category.\n",
    "- Mortgage: Almost 70% of rows contain zero, which indicates that most people have not opted for mortgage. So no need to impute.\n",
    "- Securities Account: Convert into category.\n",
    "- CD Account: Convert into category.\n",
    "- Online: Convert into category.\n",
    "- CreditCard: Convert into category."
   ]
  },
  {
   "cell_type": "code",
   "execution_count": 15,
   "metadata": {},
   "outputs": [
    {
     "data": {
      "text/plain": [
       "Experience\n",
       "-3     4\n",
       "-2    15\n",
       "-1    33\n",
       " 0    66\n",
       "Name: Experience, dtype: int64"
      ]
     },
     "execution_count": 15,
     "metadata": {},
     "output_type": "execute_result"
    }
   ],
   "source": [
    "#Frequency analysis for Experience. This is done because we found some negatives and zeros in this column.\n",
    "pdata  = pd.read_csv('Bank_Personal_Loan_Modelling.csv')\n",
    "\n",
    "pdata[pdata['Experience'] <= 0].groupby('Experience')['Experience'].count() \n",
    "\n",
    "#pdata[pdata['Experience'] < 0] # In case you need to analyse data on case-by-case basis"
   ]
  },
  {
   "cell_type": "code",
   "execution_count": 16,
   "metadata": {},
   "outputs": [],
   "source": [
    "#First step of data preparation: Drop columns and convert columns to category as per the defined strategy.\n",
    "\n",
    "#drop columns\n",
    "pdata.drop(['ID', 'ZIP Code', 'Age'],axis=1,inplace=True)\n",
    "# dropping ID column as it will be 1-1 mapping anyways\n",
    "# dropping ZIP Code as it has no correlation with the target variable\n",
    "\n",
    "#Convert X & Y variable to a categorical variable wherever relevant\n",
    "#Following are X variables\n",
    "pdata['Family'] = pdata['Family'].astype('category')\n",
    "pdata['Education'] = pdata['Education'].astype('category')\n",
    "pdata['Securities Account'] = pdata['Securities Account'].astype('category')\n",
    "pdata['CD Account'] = pdata['CD Account'].astype('category')\n",
    "pdata['Online'] = pdata['Online'].astype('category')\n",
    "pdata['CreditCard'] = pdata['CreditCard'].astype('category')\n",
    "#Following is the Y variable\n",
    "pdata['Personal Loan'] = pdata['Personal Loan'].astype('category')"
   ]
  },
  {
   "cell_type": "code",
   "execution_count": 17,
   "metadata": {},
   "outputs": [
    {
     "name": "stdout",
     "output_type": "stream",
     "text": [
      "[-1  0 -2 -3]\n"
     ]
    }
   ],
   "source": [
    "#Perform Imputation\n",
    "#from sklearn.impute import SimpleImputer #Import library if not already imported.\n",
    "\n",
    "##Imputation of Experience\n",
    "#Assumption: Experience can be either be 0 or +ve. It can't be -ve:\n",
    "\n",
    "#Step1: Find a list of unique values for Experience column where value is either 0 or negative.\n",
    "n = pdata[pdata['Experience'] <= 0].Experience.unique()\n",
    "print(n)\n",
    "\n",
    "#Step2: Replace every -ve or 0 value with mean\n",
    "for i in n:\n",
    "    #print(i)\n",
    "    rep_0 = SimpleImputer(missing_values=i, strategy=\"mean\")\n",
    "    cols=['Experience','CCAvg']\n",
    "    imputer = rep_0.fit(pdata[cols])\n",
    "    pdata[cols] = imputer.transform(pdata[cols])\n",
    "\n",
    "#Imputation of CCAvg: Replace 0s with mean\n",
    "rep_0 = SimpleImputer(missing_values=0, strategy=\"mean\")\n",
    "cols=['CCAvg']\n",
    "imputer = rep_0.fit(pdata[cols])\n",
    "pdata[cols] = imputer.transform(pdata[cols])"
   ]
  },
  {
   "cell_type": "code",
   "execution_count": 18,
   "metadata": {},
   "outputs": [
    {
     "data": {
      "text/plain": [
       "Series([], Name: Experience, dtype: int64)"
      ]
     },
     "execution_count": 18,
     "metadata": {},
     "output_type": "execute_result"
    }
   ],
   "source": [
    "#Perform frequency analysis on Experience again to ensure that all -ve values are imputed.\n",
    "\n",
    "pdata[pdata['Experience'] <= 0].groupby('Experience')['Experience'].count()"
   ]
  },
  {
   "cell_type": "code",
   "execution_count": 19,
   "metadata": {},
   "outputs": [
    {
     "name": "stdout",
     "output_type": "stream",
     "text": [
      "<class 'pandas.core.frame.DataFrame'>\n",
      "RangeIndex: 5000 entries, 0 to 4999\n",
      "Data columns (total 11 columns):\n",
      " #   Column              Non-Null Count  Dtype   \n",
      "---  ------              --------------  -----   \n",
      " 0   Experience          5000 non-null   float64 \n",
      " 1   Income              5000 non-null   int64   \n",
      " 2   Family              5000 non-null   category\n",
      " 3   CCAvg               5000 non-null   float64 \n",
      " 4   Education           5000 non-null   category\n",
      " 5   Mortgage            5000 non-null   int64   \n",
      " 6   Personal Loan       5000 non-null   category\n",
      " 7   Securities Account  5000 non-null   category\n",
      " 8   CD Account          5000 non-null   category\n",
      " 9   Online              5000 non-null   category\n",
      " 10  CreditCard          5000 non-null   category\n",
      "dtypes: category(7), float64(2), int64(2)\n",
      "memory usage: 191.3 KB\n"
     ]
    }
   ],
   "source": [
    "pdata.info()"
   ]
  },
  {
   "cell_type": "code",
   "execution_count": 20,
   "metadata": {},
   "outputs": [
    {
     "data": {
      "text/plain": [
       "Experience             47\n",
       "Income                162\n",
       "Family                  4\n",
       "CCAvg                 108\n",
       "Education               3\n",
       "Mortgage              347\n",
       "Personal Loan           2\n",
       "Securities Account      2\n",
       "CD Account              2\n",
       "Online                  2\n",
       "CreditCard              2\n",
       "dtype: int64"
      ]
     },
     "execution_count": 20,
     "metadata": {},
     "output_type": "execute_result"
    }
   ],
   "source": [
    "pdata.nunique()"
   ]
  },
  {
   "cell_type": "code",
   "execution_count": 21,
   "metadata": {},
   "outputs": [
    {
     "name": "stdout",
     "output_type": "stream",
     "text": [
      "Experience               0\n",
      "Income                   0\n",
      "Family                   0\n",
      "CCAvg                    0\n",
      "Education                0\n",
      "Mortgage              3462\n",
      "Personal Loan         4520\n",
      "Securities Account    4478\n",
      "CD Account            4698\n",
      "Online                2016\n",
      "CreditCard            3530\n",
      "dtype: int64\n"
     ]
    }
   ],
   "source": [
    "print(pdata[:][pdata[:] == 0].count()) # Number of zeros in a column"
   ]
  },
  {
   "cell_type": "markdown",
   "metadata": {},
   "source": [
    "***`Insight:`***: Data is imputed as per the strategy. In summary, -ve and zeros have been replaced with mean wherever necessary, and data type has been converted to category as and when needed. Now data is ready for further processing"
   ]
  },
  {
   "cell_type": "markdown",
   "metadata": {},
   "source": [
    "# `Question3` <a id = \"link107\"></a>\n",
    "\n",
    "<a href = #link101> Back to Index </a>"
   ]
  },
  {
   "cell_type": "code",
   "execution_count": 22,
   "metadata": {},
   "outputs": [
    {
     "data": {
      "text/html": [
       "<div>\n",
       "<style scoped>\n",
       "    .dataframe tbody tr th:only-of-type {\n",
       "        vertical-align: middle;\n",
       "    }\n",
       "\n",
       "    .dataframe tbody tr th {\n",
       "        vertical-align: top;\n",
       "    }\n",
       "\n",
       "    .dataframe thead th {\n",
       "        text-align: right;\n",
       "    }\n",
       "</style>\n",
       "<table border=\"1\" class=\"dataframe\">\n",
       "  <thead>\n",
       "    <tr style=\"text-align: right;\">\n",
       "      <th></th>\n",
       "      <th>Income</th>\n",
       "      <th>Family</th>\n",
       "      <th>CCAvg</th>\n",
       "      <th>Education</th>\n",
       "      <th>Mortgage</th>\n",
       "      <th>Securities Account</th>\n",
       "      <th>CD Account</th>\n",
       "      <th>Online</th>\n",
       "      <th>CreditCard</th>\n",
       "    </tr>\n",
       "  </thead>\n",
       "  <tbody>\n",
       "    <tr>\n",
       "      <th>1334</th>\n",
       "      <td>35</td>\n",
       "      <td>2</td>\n",
       "      <td>1.3</td>\n",
       "      <td>1</td>\n",
       "      <td>0</td>\n",
       "      <td>0</td>\n",
       "      <td>0</td>\n",
       "      <td>1</td>\n",
       "      <td>0</td>\n",
       "    </tr>\n",
       "    <tr>\n",
       "      <th>4768</th>\n",
       "      <td>39</td>\n",
       "      <td>1</td>\n",
       "      <td>2.0</td>\n",
       "      <td>2</td>\n",
       "      <td>0</td>\n",
       "      <td>0</td>\n",
       "      <td>0</td>\n",
       "      <td>1</td>\n",
       "      <td>0</td>\n",
       "    </tr>\n",
       "    <tr>\n",
       "      <th>65</th>\n",
       "      <td>131</td>\n",
       "      <td>1</td>\n",
       "      <td>3.8</td>\n",
       "      <td>1</td>\n",
       "      <td>0</td>\n",
       "      <td>0</td>\n",
       "      <td>0</td>\n",
       "      <td>1</td>\n",
       "      <td>1</td>\n",
       "    </tr>\n",
       "    <tr>\n",
       "      <th>177</th>\n",
       "      <td>65</td>\n",
       "      <td>4</td>\n",
       "      <td>1.8</td>\n",
       "      <td>2</td>\n",
       "      <td>244</td>\n",
       "      <td>0</td>\n",
       "      <td>0</td>\n",
       "      <td>0</td>\n",
       "      <td>0</td>\n",
       "    </tr>\n",
       "    <tr>\n",
       "      <th>4489</th>\n",
       "      <td>21</td>\n",
       "      <td>3</td>\n",
       "      <td>0.2</td>\n",
       "      <td>2</td>\n",
       "      <td>0</td>\n",
       "      <td>0</td>\n",
       "      <td>0</td>\n",
       "      <td>1</td>\n",
       "      <td>0</td>\n",
       "    </tr>\n",
       "  </tbody>\n",
       "</table>\n",
       "</div>"
      ],
      "text/plain": [
       "      Income Family  CCAvg Education  Mortgage Securities Account CD Account  \\\n",
       "1334      35      2    1.3         1         0                  0          0   \n",
       "4768      39      1    2.0         2         0                  0          0   \n",
       "65       131      1    3.8         1         0                  0          0   \n",
       "177       65      4    1.8         2       244                  0          0   \n",
       "4489      21      3    0.2         2         0                  0          0   \n",
       "\n",
       "     Online CreditCard  \n",
       "1334      1          0  \n",
       "4768      1          0  \n",
       "65        1          1  \n",
       "177       0          0  \n",
       "4489      1          0  "
      ]
     },
     "execution_count": 22,
     "metadata": {},
     "output_type": "execute_result"
    }
   ],
   "source": [
    "#Splitting Data to create training and testing datasets\n",
    "#from sklearn.model_selection import train_test_split #Import library if not already imported.\n",
    "\n",
    "#Drop target variable and form X\n",
    "X = pdata.drop(['Personal Loan','Experience'],axis=1) \n",
    "#All columns after imputation except the target variable i.e. Personal Loan\n",
    "\n",
    "#Only include target variable and form Y\n",
    "Y = pdata['Personal Loan']\n",
    "#Target Variable, i.e. Personal Loan (1=True, 0=False)\n",
    "\n",
    "#Split original data to form 70% training and 30% testing data\n",
    "x_train, x_test, y_train, y_test = train_test_split(X, Y, test_size=0.3, random_state=1)\n",
    "#1 is just any random seed number\n",
    "\n",
    "x_train.head()"
   ]
  },
  {
   "cell_type": "code",
   "execution_count": 23,
   "metadata": {},
   "outputs": [
    {
     "name": "stdout",
     "output_type": "stream",
     "text": [
      "70.00% data is in training set\n",
      "30.00% data is in test set\n"
     ]
    }
   ],
   "source": [
    "#Check the volume of data available in training and testing dataset.\n",
    "\n",
    "print(\"{0:0.2f}% data is in training set\".format((len(x_train)/len(pdata.index)) * 100))\n",
    "print(\"{0:0.2f}% data is in test set\".format((len(x_test)/len(pdata.index)) * 100))"
   ]
  },
  {
   "cell_type": "code",
   "execution_count": 24,
   "metadata": {},
   "outputs": [
    {
     "name": "stdout",
     "output_type": "stream",
     "text": [
      "Original Personal Loan True Values    : 480 (9.60%)\n",
      "Original Personal Loan False Values   : 4520 (90.40%)\n",
      "\n",
      "Training Personal Loan True Values    : 331 (9.46%)\n",
      "Training Personal Loan False Values   : 3169 (90.54%)\n",
      "\n",
      "Test Personal Loan True Values        : 149 (9.93%)\n",
      "Test Personal Loan False Values       : 1351 (90.07%)\n",
      "\n"
     ]
    }
   ],
   "source": [
    "#Perform frequency analysis for 'Personal Loan' (values 0s and 1s) in original, training, and testing data\n",
    "\n",
    "#Original\n",
    "print(\"Original Personal Loan True Values    : {0} ({1:0.2f}%)\"\n",
    "      .format(len(pdata.loc[pdata['Personal Loan'] == 1])\n",
    "              , (len(pdata.loc[pdata['Personal Loan'] == 1])/len(pdata.index)) * 100))\n",
    "print(\"Original Personal Loan False Values   : {0} ({1:0.2f}%)\"\n",
    "      .format(len(pdata.loc[pdata['Personal Loan'] == 0])\n",
    "              , (len(pdata.loc[pdata['Personal Loan'] == 0])/len(pdata.index)) * 100))\n",
    "print(\"\")\n",
    "\n",
    "#Training\n",
    "print(\"Training Personal Loan True Values    : {0} ({1:0.2f}%)\"\n",
    "      .format(len(y_train[y_train[:] == 1])\n",
    "              , (len(y_train[y_train[:] == 1])/len(y_train)) * 100))\n",
    "print(\"Training Personal Loan False Values   : {0} ({1:0.2f}%)\"\n",
    "      .format(len(y_train[y_train[:] == 0])\n",
    "              , (len(y_train[y_train[:] == 0])/len(y_train)) * 100))\n",
    "print(\"\")\n",
    "\n",
    "#Testing\n",
    "print(\"Test Personal Loan True Values        : {0} ({1:0.2f}%)\"\n",
    "      .format(len(y_test[y_test[:] == 1])\n",
    "              , (len(y_test[y_test[:] == 1])/len(y_test)) * 100))\n",
    "print(\"Test Personal Loan False Values       : {0} ({1:0.2f}%)\"\n",
    "      .format(len(y_test[y_test[:] == 0])\n",
    "              , (len(y_test[y_test[:] == 0])/len(y_test)) * 100))\n",
    "print(\"\")"
   ]
  },
  {
   "cell_type": "markdown",
   "metadata": {},
   "source": [
    "***`Insight:`*** True and False values seem properly balanced in training and testing datasets."
   ]
  },
  {
   "cell_type": "markdown",
   "metadata": {},
   "source": [
    "## `Question4` <a id = \"link108\"></a>\n",
    "\n",
    "<a href = #link101> Back to Index </a>"
   ]
  },
  {
   "cell_type": "markdown",
   "metadata": {},
   "source": [
    "### ***`Understanding which model fits better for the dataset:`*** \n",
    "\n",
    "#### ***`Approach:`***\n",
    "- Keep C as default (0.5).\n",
    "- Test all the solvers and check which one provides better train and test scores.\n",
    "- Test first for penalty = 'l2' and then for those models which work only with penalty = 'l1'\n",
    "- **Note**: max_iter is changed to 10000 from it's default value of 100. Because if it is below 5000, warnings are observed."
   ]
  },
  {
   "cell_type": "code",
   "execution_count": 25,
   "metadata": {},
   "outputs": [
    {
     "name": "stdout",
     "output_type": "stream",
     "text": [
      "['newton-cg', 'lbfgs', 'liblinear', 'sag', 'saga']\n",
      "\n",
      "[0.951, 0.951, 0.951, 0.927, 0.917]\n",
      "\n",
      "[0.948, 0.948, 0.947, 0.921, 0.909]\n"
     ]
    }
   ],
   "source": [
    "train_score=[]\n",
    "test_score=[]\n",
    "solver = ['newton-cg','lbfgs','liblinear','sag','saga']\n",
    "for i in solver:\n",
    "    model = LogisticRegression(random_state=1,penalty='l2', solver=i,max_iter=10000)  # changing values of solver\n",
    "    model.fit(x_train, y_train) \n",
    "    y_predict = model.predict(x_test)     \n",
    "    train_score.append(round(model.score(x_train, y_train),3))\n",
    "    test_score.append(round(model.score(x_test, y_test),3))\n",
    "    \n",
    "print(solver)\n",
    "print()\n",
    "print(train_score)\n",
    "print()\n",
    "print(test_score)"
   ]
  },
  {
   "cell_type": "markdown",
   "metadata": {},
   "source": [
    "***`Insight:`*** It appears that all models have good train and test scores. No underfit or overfit models observed. But 'newton-cg' and 'lbfgs' have the best scores for penalty = 'l2'."
   ]
  },
  {
   "cell_type": "code",
   "execution_count": 26,
   "metadata": {},
   "outputs": [
    {
     "name": "stdout",
     "output_type": "stream",
     "text": [
      "['liblinear', 'saga']\n",
      "\n",
      "[0.952, 0.918]\n",
      "\n",
      "[0.949, 0.909]\n"
     ]
    }
   ],
   "source": [
    "#Perform same steps as above, but keep penalty = 'l1'. In this case, only those solvers which work with 'l1' are considered.\n",
    "train_score=[]\n",
    "test_score=[]\n",
    "solver = ['liblinear','saga']   # changing values of solver which works with 'l1'\n",
    "for i in solver:\n",
    "    model = LogisticRegression(random_state=42,penalty='l1', solver=i,max_iter=10000)  #changed penalty to 'l1'\n",
    "    model.fit(x_train, y_train) \n",
    "    y_predict = model.predict(x_test)     \n",
    "    train_score.append(round(model.score(x_train, y_train),3))\n",
    "    test_score.append(round(model.score(x_test, y_test),3))\n",
    "    \n",
    "print(solver)\n",
    "print()\n",
    "print(train_score)\n",
    "print()\n",
    "print(test_score)"
   ]
  },
  {
   "cell_type": "markdown",
   "metadata": {},
   "source": [
    "***`Insight:`*** It appears that 'liblinear' with 'l1' has the same scores as 'newton-cg' and 'lbfgs' with l2. Therefore, perform additional analysis on these three models with different values of C. Also, no underfit or overfit models observed. "
   ]
  },
  {
   "cell_type": "code",
   "execution_count": 27,
   "metadata": {},
   "outputs": [
    {
     "name": "stdout",
     "output_type": "stream",
     "text": [
      "solver = liblinear, penalty = l1:\n",
      "[0.01, 0.1, 0.25, 0.5, 0.75, 1]\n",
      "[0.903, 0.947, 0.95, 0.951, 0.952, 0.952]\n",
      "[0.899, 0.947, 0.948, 0.947, 0.948, 0.949]\n",
      "\n",
      "solver = newton-cg, penalty = l2:\n",
      "[0.01, 0.1, 0.25, 0.5, 0.75, 1]\n",
      "[0.939, 0.949, 0.951, 0.95, 0.951, 0.951]\n",
      "[0.933, 0.947, 0.949, 0.949, 0.949, 0.948]\n",
      "\n",
      "solver = lbfgs, penalty = l2:\n",
      "[0.01, 0.1, 0.25, 0.5, 0.75, 1]\n",
      "[0.939, 0.949, 0.951, 0.95, 0.951, 0.951]\n",
      "[0.933, 0.947, 0.949, 0.949, 0.949, 0.948]\n"
     ]
    }
   ],
   "source": [
    "#Step1: Analysis for liblinear with l1\n",
    "\n",
    "print(\"solver = liblinear, penalty = l1:\")\n",
    "train_score=[]                                 \n",
    "test_score=[]\n",
    "C = [0.01,0.1,0.25,0.5,0.75,1]\n",
    "for i in C:\n",
    "    model = LogisticRegression(random_state=42,penalty='l1',solver='liblinear',max_iter=10000,C = i)\n",
    "    model.fit(x_train, y_train) \n",
    "    y_predict = model.predict(x_test)     \n",
    "    train_score.append(round(model.score(x_train,y_train),3)) \n",
    "    # appending training accuracy in a blank list for every run of the loop\n",
    "    test_score.append(round(model.score(x_test, y_test),3))   \n",
    "    # appending testing accuracy in a blank list for every run of the loop\n",
    "    \n",
    "print(C)\n",
    "print(train_score)\n",
    "print(test_score)\n",
    "\n",
    "\n",
    "#Step2: Analysis for newton-cg with l2\n",
    "\n",
    "print(\"\\nsolver = newton-cg, penalty = l2:\")\n",
    "train_score=[]                                 \n",
    "test_score=[]\n",
    "C = [0.01,0.1,0.25,0.5,0.75,1]\n",
    "for i in C:\n",
    "    model = LogisticRegression(random_state=42,penalty='l2',solver='newton-cg',max_iter=10000,C = i)\n",
    "    model.fit(x_train, y_train) \n",
    "    y_predict = model.predict(x_test)     \n",
    "    train_score.append(round(model.score(x_train,y_train),3)) \n",
    "    # appending training accuracy in a blank list for every run of the loop\n",
    "    test_score.append(round(model.score(x_test, y_test),3))   \n",
    "    # appending testing accuracy in a blank list for every run of the loop\n",
    "    \n",
    "print(C)\n",
    "print(train_score)\n",
    "print(test_score)\n",
    "\n",
    "#Step3: Analysis for lbfgs with l2\n",
    "\n",
    "print(\"\\nsolver = lbfgs, penalty = l2:\")\n",
    "train_score=[]                                 \n",
    "test_score=[]\n",
    "C = [0.01,0.1,0.25,0.5,0.75,1]\n",
    "for i in C:\n",
    "    model = LogisticRegression(random_state=42,penalty='l2',solver='newton-cg',max_iter=10000,C = i)\n",
    "    model.fit(x_train, y_train) \n",
    "    y_predict = model.predict(x_test)     \n",
    "    train_score.append(round(model.score(x_train,y_train),3)) \n",
    "    # appending training accuracy in a blank list for every run of the loop\n",
    "    test_score.append(round(model.score(x_test, y_test),3))   \n",
    "    # appending testing accuracy in a blank list for every run of the loop\n",
    "    \n",
    "print(C)\n",
    "print(train_score)\n",
    "print(test_score)"
   ]
  },
  {
   "cell_type": "markdown",
   "metadata": {},
   "source": [
    "### <a id = \"link2\"></a> ***`Conclusion on Model Selection:`*** \n",
    "\n",
    "Based on all the above observations, the model chosen is as follows:\n",
    "- Solver = liblinear. No significant differences in scores found when compared the scores of the shortlisted solvers. However, the definition of ***LogisticRegression function in Python*** suggests that for smaller datasets, liblinear is a good choice. Considering these two factors, liblinear is chosen.\n",
    "- C= 1. Provides the best score for all solvers, including liblinear, which is our choice of solver.\n",
    "- Penalty= l1. liblinear showed better scores with l1 than l2.\n",
    "- max_iter=10000: If default value is not changed, we get warning: \"the coef_ did not converge\", ConvergenceWarning\n",
    "\n",
    "<a href = #link101> Back to Index </a>"
   ]
  },
  {
   "cell_type": "code",
   "execution_count": 28,
   "metadata": {},
   "outputs": [
    {
     "name": "stdout",
     "output_type": "stream",
     "text": [
      "          0        1         2        3         4         5         6  \\\n",
      "0  0.051407  0.68032  0.152468  1.61333  0.000725 -0.975321  3.542346   \n",
      "\n",
      "          7         8  intercept  \n",
      "0 -0.562294 -1.041981 -12.891886  \n"
     ]
    }
   ],
   "source": [
    "#Train and test data using the model of our choice:\n",
    "# Fit the model on train\n",
    "model = LogisticRegression(random_state=42,penalty='l1',solver='liblinear',max_iter=10000,C = 1)\n",
    "model.fit(x_train, y_train)\n",
    "\n",
    "#predict on test\n",
    "y_predict = model.predict(x_test)\n",
    "\n",
    "\n",
    "coef_df = pd.DataFrame(model.coef_)\n",
    "coef_df['intercept'] = model.intercept_\n",
    "print(coef_df)"
   ]
  },
  {
   "cell_type": "code",
   "execution_count": 29,
   "metadata": {},
   "outputs": [
    {
     "name": "stdout",
     "output_type": "stream",
     "text": [
      "0.9493333333333334\n"
     ]
    }
   ],
   "source": [
    "model_score = model.score(x_test, y_test)\n",
    "print(model_score)"
   ]
  },
  {
   "cell_type": "code",
   "execution_count": 30,
   "metadata": {},
   "outputs": [
    {
     "data": {
      "text/plain": [
       "<AxesSubplot:>"
      ]
     },
     "execution_count": 30,
     "metadata": {},
     "output_type": "execute_result"
    },
    {
     "data": {
      "image/png": "[encoded data removed]",
      "text/plain": [
       "<Figure size 216x216 with 2 Axes>"
      ]
     },
     "metadata": {
      "needs_background": "light"
     },
     "output_type": "display_data"
    }
   ],
   "source": [
    "#Print confusion matrix:\n",
    "\n",
    "cm=metrics.confusion_matrix(y_test, y_predict, labels=[1, 0])\n",
    "\n",
    "df_cm = pd.DataFrame(cm, index = [i for i in [\"1\",\"0\"]],\n",
    "                  columns = [i for i in [\"Predict 1\",\"Predict 0\"]])\n",
    "plt.figure(figsize = (3,3))\n",
    "sns.heatmap(df_cm, annot=True,  fmt='.2f', xticklabels = [0,1] , yticklabels = [0,1] )"
   ]
  },
  {
   "cell_type": "code",
   "execution_count": 31,
   "metadata": {},
   "outputs": [
    {
     "name": "stdout",
     "output_type": "stream",
     "text": [
      "Recall: 0.5838926174496645\n",
      "Precision: 0.8613861386138614\n",
      "F1 Score: 0.6960000000000001\n",
      "Roc Auc Score: 0.7867649615745731\n"
     ]
    }
   ],
   "source": [
    "#Print performance indicators for the model\n",
    "\n",
    "print(\"Recall:\",recall_score(y_test,y_predict))\n",
    "print(\"Precision:\",precision_score(y_test,y_predict))\n",
    "print(\"F1 Score:\",f1_score(y_test,y_predict))\n",
    "print(\"Roc Auc Score:\",roc_auc_score(y_test,y_predict))"
   ]
  },
  {
   "cell_type": "markdown",
   "metadata": {},
   "source": [
    "***`Insight:`*** Recall is comparatively lower. But low recall seems a good option in this case. This is because the outcome of this model might be used for target campaigning. If so, then customers who fall in True-Positive, False-Positive, and False-Negative can be potential customers that may take personal loans. Here, business will benefit from False-Positives and False-Negative cases. And True-Negatives are can be excluded from the campaign. \n",
    "\n",
    "<a href = #link101> Back to Index </a>"
   ]
  },
  {
   "cell_type": "markdown",
   "metadata": {},
   "source": [
    "## `Question5` <a id = \"link109\"></a>\n",
    "\n",
    "<a href = #link101> Back to Index </a>"
   ]
  },
  {
   "cell_type": "code",
   "execution_count": 32,
   "metadata": {},
   "outputs": [
    {
     "data": {
      "text/plain": [
       "{'C': 1,\n",
       " 'class_weight': None,\n",
       " 'dual': False,\n",
       " 'fit_intercept': True,\n",
       " 'intercept_scaling': 1,\n",
       " 'l1_ratio': None,\n",
       " 'max_iter': 10000,\n",
       " 'multi_class': 'auto',\n",
       " 'n_jobs': None,\n",
       " 'penalty': 'l1',\n",
       " 'random_state': 42,\n",
       " 'solver': 'liblinear',\n",
       " 'tol': 0.0001,\n",
       " 'verbose': 0,\n",
       " 'warm_start': False}"
      ]
     },
     "execution_count": 32,
     "metadata": {},
     "output_type": "execute_result"
    }
   ],
   "source": [
    "#Get the parameters for logistic regression\n",
    "model.get_params()"
   ]
  },
  {
   "cell_type": "markdown",
   "metadata": {},
   "source": [
    "### ***`Insights:`*** \n",
    "\n",
    "For additional reference and definition of parameters, visit: https://scikit-learn.org/stable/modules/generated/sklearn.linear_model.LogisticRegression.html\n",
    "\n",
    "Following are the model parameters and their impact on model performance:\n",
    "\n",
    "- **`'C':`** Much on it is discussed in the section: <a href = #link2>Conclusion on Model Selection</a>. In this case, higher is the 'C', better was the model.\n",
    "\n",
    "\n",
    "- **`'class_weight':`** Default value is None. If value *balanced* is used, it decreases the model scores and precision of the model.\n",
    "\n",
    "\n",
    "- **`dual:`** Default value is False. True is not supported for the choice of model. Got ValueError: The combination of penalty='l1' and loss='logistic_regression' are not supported when dual=True, Parameters: penalty='l1', loss='logistic_regression', dual=True\n",
    "\n",
    "\n",
    "- **`fit_intercept:`** Default value is True. When False was selected, model performance reduced drastically (Test Score: 0.88, Recall: 0.19463087248322147, Precision: 0.3258426966292135, F1 Score: 0.24369747899159666, Roc Auc Score: 0.5751096627405005)\n",
    "\n",
    "\n",
    "- **`intercept_scaling:`** Default value is 1. This parameter makes sense only when *fit_intercept* is true. It could be observed that model shows best performance when this value is around 1. As the value increases or decreases, the model performance also increased or decreased gradually. For values having large differences with 1, the model performance was drastically low.\n",
    "\n",
    "\n",
    "- **`'l1_ratio':`** Default value is None. This is used only when `penalty='elasticnet'`. Therefore, this parameter's influence on the model was not tested.\n",
    "\n",
    "\n",
    "- **`'max_iter':`** Default value is 100. Much on it is discussed in the section:`<a href = #link2>Conclusion on Model Selection</a>.\n",
    "\n",
    "\n",
    "- **`'multi_class':`** Default value is 'auto'. Other two values are `'ovr' and 'multinomial'`. 'multinomial' is unavailable when solver='liblinear'. 'auto' selects 'ovr' if the data is binary, or if solver='liblinear', and otherwise selects 'multinomial'. No further testing needed since our solver='liblinear'.\n",
    "\n",
    "\n",
    "- **`'n_jobs':`** Default value is None. Works when multi_class='ovr'. However, parameter is ignored when the solver is set to 'liblinear'. Got warning:`UserWarning:` 'n_jobs' > 1 does not have any effect when 'solver' is set to 'liblinear'. Got 'n_jobs' = 2.\n",
    "\n",
    "\n",
    "- **`'penalty':`** Default value is 'l2'. Much on it is discussed in the section:`<a href = #link2>Conclusion on Model Selection</a>.\n",
    "\n",
    "\n",
    "- **`'random_state':`** Default value is None. Most popular values are 0 and 42. No significant impact on model performance observed when model was tested using values None, 0, 1, 42, and 10000.\n",
    "\n",
    "\n",
    "- **`'solver':`** Default value is 'lbfgs'. Much on it is discussed in the section:`<a href = #link2>Conclusion on Model Selection</a>.\n",
    "\n",
    "\n",
    "- **`'tol':`** Default value is 1e-4. When increased to 0.01, model performance reduced slightly. (Test Score: 0.942, Recall: 0.5033557046979866, Precision: 0.8522727272727273, F1 Score: 0.6329113924050633, Roc Auc Score: 0.7468666014237528)\n",
    "\n",
    "\n",
    "- **`'verbose':`** Default value is 0. Can take any positive integer value and works only with 'liblinear' and 'lbfgs' solvers for verbosity. No significant impact on model performance observed when model was tested using values 0, 1, and 10000.\n",
    "\n",
    "\n",
    "- **`'warm_start':`** Default value is False. When set to True, no impact on model performance as it is useless for liblinear solver.\n",
    "\n",
    "<a href = #link101> Back to Index </a>"
   ]
  },
  {
   "cell_type": "markdown",
   "metadata": {},
   "source": [
    "## `Question6` <a id = \"link110\"></a>\n",
    "\n",
    "<a href = #link101> Back to Index </a>"
   ]
  },
  {
   "cell_type": "markdown",
   "metadata": {},
   "source": [
    "### <a id = \"link8\"></a>`Business Insights:`"
   ]
  },
  {
   "cell_type": "markdown",
   "metadata": {},
   "source": [
    "`Confusion matrix means`\n",
    "\n",
    "*True Positive (observed=1,predicted=1):*\n",
    "\n",
    "Predicted that Personal Loan will be opted by the customer and the customer actually opted for the loan.\n",
    "\n",
    "*False Positive (observed=0,predicted=1):*\n",
    "\n",
    "Predicted that Personal Loan will be opted by the customer but the customer didn't opt for the loan.\n",
    "\n",
    "*True Negative (observed=0,predicted=0):*\n",
    "\n",
    "Predicted that Personal Loan will not be opted by the customer and the customer didn't opt for the loan.\n",
    "\n",
    "*False Negative (observed=1,predicted=0):*\n",
    "\n",
    "Predicted that Personal Loan will not be opted by the customer but the customer opted for the loan.\n",
    "\n",
    "By giving personal loans to the customers, bank can earn good amount of profit by investing less for a limited period of time. Therefore, most banks have dedicated departments who try to contact potential customers that may opt for a personal loan. Therefore, assuming that the outcome of this model will be used for contacting potential customers or running a campaign to promote personal loan, we want to develop a model in such a way that it will have **less number of True Negatives**. Remaining all customers can be considered as potential borrowers. Bank doesn't want to lose potential customers for Personal Loans. Hence **Precision is the important metric**. Also, **Recall should be a low number**.\n",
    "\n",
    "In case of False Positives, bank may end up spending additional effort on contacting those customers who might not be interesting in opting for a loan. However, this effort is minimal as compared to the potential benefit that can rise due to some customers from this category actually opting for a personal loan.\n",
    "\n",
    "<a href = #link101> Back to Index </a>"
   ]
  }
 ],
 "metadata": {
  "kernelspec": {
   "display_name": "Python 3",
   "language": "python",
   "name": "python3"
  },
  "language_info": {
   "codemirror_mode": {
    "name": "ipython",
    "version": 3
   },
   "file_extension": ".py",
   "mimetype": "text/x-python",
   "name": "python",
   "nbconvert_exporter": "python",
   "pygments_lexer": "ipython3",
   "version": "3.7.6"
  }
 },
 "nbformat": 4,
 "nbformat_minor": 4
}
